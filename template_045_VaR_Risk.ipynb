{
 "cells": [
  {
   "cell_type": "markdown",
   "id": "2d2e6754",
   "metadata": {},
   "source": [
    "# Value At Risk (위험 가치)\n",
    "\n",
    "Value At Risk (VaR) 또는 \"위험 가치\"는 투자 포트폴리오에서 **일정 기간 동안 발생할 수 있는 최대 예상 손실**을 측정하는 데 사용되는 금융 위험 관리 도구입니다. VaR은 주어진 확률과 시간 기간에 대한 손실의 최대 금액을 나타냅니다.\n",
    "\n",
    "예를 들어, 1일 VaR이 1백만 달러, 5%라고 한다면, 이는 하루에 1백만 달러 이상 손실이 발생할 확률이 5%라는 의미입니다. 다시 말해, 100일 중 약 5일 동안 투자자는 1백만 달러 이상 손실을 볼 수 있다는 것을 예상할 수 있습니다.\n",
    "\n",
    "- VaR은 일반적으로 세 가지 요소를 고려하여 계산됩니다:  \n",
    "1. 확률 또는 신뢰 수준(Confidence level): 손실이 예상치를 초과할 확률.  \n",
    "2. 시간 기간(Time horizon): VaR 측정치를 기반으로 하는 기간.  \n",
    "3. 손실 금액(Loss amount): 주어진 확률과 시간 기간 동안 손실될 수 있는 금액.  \n",
    "\n",
    "VaR은 자산, 포트폴리오, 회사 또는 금융 기관의 위험을 측정하고 이해하는 데 유용한 도구이지만, 극단적인 이벤트(즉, \"꼬리\" 위험)를 잘 포착하지 못하는 한계가 있습니다. 따라서 VaR은 종종 다른 위험 관리 지표와 함께 사용됩니다.\n",
    "\n",
    "### 특정 주식의 로그 수익률 분포\n",
    "\n",
    "- histogram 으로 확인하면 normal distribution 에 매우 가깝게 나타난다.\n",
    "- Mean(mu), variance(sigma) 를 historic data 로부터 추정"
   ]
  },
  {
   "cell_type": "code",
   "execution_count": null,
   "id": "235cc10f",
   "metadata": {},
   "outputs": [],
   "source": [
    "# ticker = 'AAPL'  \n",
    "# ticker_name = \"Apple\""
   ]
  },
  {
   "cell_type": "code",
   "execution_count": null,
   "id": "589fd101",
   "metadata": {},
   "outputs": [],
   "source": []
  },
  {
   "cell_type": "markdown",
   "id": "236d0611",
   "metadata": {},
   "source": [
    "- 로그 수익률 계산"
   ]
  },
  {
   "cell_type": "code",
   "execution_count": null,
   "id": "faf76f52",
   "metadata": {},
   "outputs": [],
   "source": [
    "# 로그 수익률(Log Return) 계산\n",
    "# 'Close' 열의 현재 값과 이전 값의 로그 차이를 계산하여 'LogReturn' 열에 저장합니다.\n",
    "# np.log(df['Close'])는 현재 종가의 로그 값을 계산하고,\n",
    "# np.log(df['Close'].shift(1))은 이전 종가의 로그 값을 계산합니다."
   ]
  },
  {
   "cell_type": "code",
   "execution_count": null,
   "id": "790aa8fd",
   "metadata": {},
   "outputs": [],
   "source": []
  },
  {
   "cell_type": "code",
   "execution_count": null,
   "id": "4ceff8ee",
   "metadata": {},
   "outputs": [],
   "source": []
  },
  {
   "cell_type": "markdown",
   "id": "7bd3bff1",
   "metadata": {},
   "source": [
    "- 로그 수익률의 평균, 표준편차 계산  \n",
    "\n",
    "표본 표준편차의 경우 공식에서 `n – 1` (ddof=1)을 사용합니다. n을 사용하면 변동성을 일관되게 과소평가하는 편향된 추정치를 얻을 수 있기 때문입니다. 표본 표준 편차는 모집단의 실제 표준 편차보다 낮은 경향이 있습니다.  \n",
    "표본 n을 n – 1로 줄이면 표준 편차가 인위적으로 커지므로 보수적인 변동성 추정치를 얻을 수 있습니다."
   ]
  },
  {
   "cell_type": "code",
   "execution_count": null,
   "id": "6d158ddc",
   "metadata": {},
   "outputs": [],
   "source": [
    "# 계산된 평균과 표준 편차를 출력합니다.\n",
    "# mu는 평균 수익률, sigma는 수익률의 변동성을 나타냅니다."
   ]
  },
  {
   "cell_type": "markdown",
   "id": "6cf9706b",
   "metadata": {},
   "source": [
    "### 수익률 분포 시각화"
   ]
  },
  {
   "cell_type": "code",
   "execution_count": null,
   "id": "fc0a6985",
   "metadata": {},
   "outputs": [],
   "source": [
    "# 로그 수익률의 히스토그램을 생성합니다.\n",
    "# 'LogReturn' 열의 데이터를 히스토그램으로 플로팅하며, 50개의 구간(bins)으로 나눕니다.\n",
    "# 수직선으로 평균을 표시합니다.\n",
    "# 수직선으로 표준 편차를 표시합니다."
   ]
  },
  {
   "cell_type": "markdown",
   "id": "a277fb13",
   "metadata": {},
   "source": [
    "### 확률밀도함수(probability density function) 시각화\n",
    "- 확률밀도 함수의 95% 신뢰구간 시각화"
   ]
  },
  {
   "cell_type": "code",
   "execution_count": null,
   "id": "6f565b7b",
   "metadata": {},
   "outputs": [],
   "source": [
    "# 정규 분포의 확률 밀도 함수를 계산하기 위한 데이터프레임을 생성합니다.\n",
    "# x의 범위를 지정합니다.\n",
    "# 로그 수익률의 최소값과 최대값을 기준으로 0.001 간격으로 x 값을 생성합니다.\n",
    "# 정규 분포의 확률 밀도 함수를 이용해 y 값을 계산합니다.\n",
    "# norm.pdf() 함수를 사용하여 각 x 값에 대한 확률 밀도 함수를 계산하고, 결과를 'pdf' 열에 저장합니다.\n",
    "# 생성된 데이터프레임의 처음 5줄을 출력하여 결과를 확인합니다."
   ]
  },
  {
   "cell_type": "markdown",
   "id": "dd280276",
   "metadata": {},
   "source": [
    "- 정규분포에 따른 확률 밀도 함수"
   ]
  },
  {
   "cell_type": "code",
   "execution_count": null,
   "id": "6ce4cb44",
   "metadata": {},
   "outputs": [],
   "source": [
    "# 정규 분포의 확률 밀도 함수(PDF)를 시각화합니다.\n",
    "# denApp 데이터프레임의 'x' 값에 대해 'pdf' 값을 플로팅합니다."
   ]
  },
  {
   "cell_type": "markdown",
   "id": "387456e1",
   "metadata": {},
   "source": [
    "### 어떤 주식이 하루에 x% 이상 하락할 확률 계산"
   ]
  },
  {
   "cell_type": "markdown",
   "id": "b0929ba2",
   "metadata": {},
   "source": [
    "- 누적 분포 함수(Cumulative distribution function, cdf)는 주어진 특정 값보다 작거나 같은 확률을 나타내는 함수이다.   \n",
    " \n",
    "\n",
    "- `norm.cdf` 함수는 누적 분포 함수(cumulative distribution function)를 나타내며, 특정 값 이하의 확률을 반환.  \n",
    "    - 사용 방법 - norm.cdf(x, mu, sigma) --> Probability\n",
    "    - x : 누적 확률을 계산할 값. 이 값은 정규 분포에서 어떤 값보다 작거나 같은 확률을 알고 싶을 때 지정."
   ]
  },
  {
   "cell_type": "markdown",
   "id": "4af03d7d",
   "metadata": {},
   "source": [
    "예) 하루 5% 이상 하락할 확률 $\\rightarrow$  -0.05 이하의 값이 나올 확률"
   ]
  },
  {
   "cell_type": "code",
   "execution_count": null,
   "id": "8347592c",
   "metadata": {},
   "outputs": [],
   "source": [
    "#예) 평균이 mu이고 표준편차가 sigma인 정규분포에서 -0.05 이하의 값이 나올 확률"
   ]
  },
  {
   "cell_type": "markdown",
   "id": "7ee31b67",
   "metadata": {},
   "source": [
    "- 하루에 10% 이상 하락할 확률 $\\rightarrow$  -0.1 이하의 값이 나올 확률"
   ]
  },
  {
   "cell_type": "code",
   "execution_count": null,
   "id": "4a0bf2bb",
   "metadata": {},
   "outputs": [],
   "source": []
  },
  {
   "cell_type": "markdown",
   "id": "4f90ce78",
   "metadata": {},
   "source": [
    "- 하루 1% 이상 하락할 확률"
   ]
  },
  {
   "cell_type": "code",
   "execution_count": null,
   "id": "bae72232",
   "metadata": {},
   "outputs": [],
   "source": []
  },
  {
   "cell_type": "markdown",
   "id": "ff7eb30e",
   "metadata": {},
   "source": [
    "위에서 계산한 확률을 시각화"
   ]
  },
  {
   "cell_type": "code",
   "execution_count": null,
   "id": "eb283c34",
   "metadata": {},
   "outputs": [],
   "source": [
    "# 평균이 mu이고 표준편차가 sigma인 정규분포 객체를 생성합니다.\n",
    "# mu 주위에 4*sigma 범위의 값을 가진 배열을 생성합니다.\n",
    "# 확률 밀도 함수를 그립니다.\n",
    "# x 축에서 -0.01, -0.05, -0.1 위치에 수직선을 그립니다.\n",
    "# 각각의 색상과 투명도를 다르게 설정하여 영역을 채웁니다.\n",
    "# x 축에서 -0.1 이하의 값을 가진 배열을 생성합니다.\n",
    "# x 축에서 -0.05 이하의 값을 가진 배열을 생성합니다.\n",
    "# x 축에서 -0.01 이하의 값을 가진 배열을 생성합니다.\n",
    "# 그래프 제목과 범례 추가\n",
    "# 그래프 출력"
   ]
  },
  {
   "cell_type": "markdown",
   "id": "f13a3806",
   "metadata": {},
   "source": [
    "### 특정 주식이 일년(220 거래일)에 xx% 이상 하락할 확률 계산\n",
    "\n",
    "- `mu`가 daily return의 평균이므로 220 거래일의 평균 return 은 $220 \\times mu $\n",
    "- `sigma`가 daily return의 표준편차이므로 220 거래일의 표준편차는 $\\sqrt{220} \\times \\sigma$"
   ]
  },
  {
   "cell_type": "markdown",
   "id": "90eeb931",
   "metadata": {},
   "source": [
    "- 1년에 xx% 이상 하락할 확률"
   ]
  },
  {
   "cell_type": "code",
   "execution_count": null,
   "id": "9ff7e272",
   "metadata": {},
   "outputs": [],
   "source": [
    "#평균이 mu220이고 표준편차가 sigma220인 정규분포에서 -0.1 이하의 값이 나올 확률\n",
    "#평균이 mu220이고 표준편차가 sigma220인 정규분포에서 -0.2 이하의 값이 나올 확률\n",
    "#평균이 mu220이고 표준편차가 sigma220인 정규분포에서 -0.3 이하의 값이 나올 확률"
   ]
  },
  {
   "cell_type": "markdown",
   "id": "512d22d8",
   "metadata": {},
   "source": [
    "- 어떤 주식이 일년(220 거래일)에 xx% 이상 하락할 확률 확률 시각화"
   ]
  },
  {
   "cell_type": "code",
   "execution_count": null,
   "id": "e9e5018d",
   "metadata": {},
   "outputs": [],
   "source": [
    "# 평균이 mu220이고 표준편차가 sigma220인 정규분포 객체를 생성합니다.\n",
    "# mu220 주위에 4*sigma220 범위의 값을 가진 배열을 생성합니다.\n",
    "# 확률 밀도 함수를 그립니다.\n",
    "# x 축에서 -0.1, -0.2, -0.4 위치에 수직선을 그립니다.\n",
    "# 각각의 색상과 투명도를 다르게 설정하여 영역을 채웁니다.\n",
    "# x 축에서 -0.1 이하의 값을 가진 배열을 생성합니다.\n",
    "# x 축에서 -0.05 이하의 값을 가진 배열을 생성합니다.\n",
    "# x 축에서 -0.01 이하의 값을 가진 배열을 생성합니다.\n",
    "# 그래프 제목과 범례 추가\n",
    "# 그래프 출력"
   ]
  },
  {
   "cell_type": "markdown",
   "id": "4c8f136c",
   "metadata": {},
   "source": [
    "## Value at risk (VaR, 위험 가치) 계산\n",
    "- 발생 가능 최대 손실 : 투자 손실의 위험 표시\n",
    "\n",
    "- 일일 수익률의 5% 분위수(quantile)를 95% VaR 또는 95% 수준의 VaR이라고 합니다.   \n",
    "$\\rightarrow$  '95% 확률로 우리의 일일 수익률 손실이 이 VaR 값 이하일 것'이라는 의미. 동시에 이 값을 초과하여 손실이 발생할 확률이 5% 라는 의미. 다시 말해, \"5%의 확률로 발생할 수 있는 최대 손실\"을 의미."
   ]
  },
  {
   "cell_type": "markdown",
   "id": "da21d00c",
   "metadata": {},
   "source": [
    "**VaR = norm.ppf(significance_level, mu, sigma)**\n",
    "```\n",
    "norm.cdf(x, mu, sigma)는 주어진 값 x 이하의 확률을 반환합니다.\n",
    "입력: x 값\n",
    "출력: x 이하의 누적 확률\n",
    "\n",
    "norm.ppf(significance_level, mu, sigma)는 주어진 누적 확률에 해당하는 값을 반환합니다.\n",
    "입력: 누적 확률 (유의 수준)\n",
    "출력: 해당 확률에 대응하는 x 값\n",
    "```"
   ]
  },
  {
   "cell_type": "code",
   "execution_count": null,
   "id": "4107ec1c",
   "metadata": {},
   "outputs": [],
   "source": [
    "# 95% 수준의 VaR 구하기\n",
    "# 평균 수익률(mu)과 변동성(sigma)을 기준으로, 유의 수준(5%)에서 VaR를 계산\n",
    "# 이 주식이 5% 확률로 일일 수익률이 VaR 값보다 나쁠 수 있다는 의미"
   ]
  },
  {
   "cell_type": "markdown",
   "id": "33c1d44a",
   "metadata": {},
   "source": [
    "유의 수준(가능성)을 1%로 낮추면 VaR 증가"
   ]
  },
  {
   "cell_type": "code",
   "execution_count": null,
   "id": "5302697b",
   "metadata": {},
   "outputs": [],
   "source": [
    "# 10% 수준의 VaR 구하기\n",
    "# 1% 확률로 주식의 일일 수익률이 VaR 값보다 낮을 수 있음을 의미"
   ]
  },
  {
   "cell_type": "code",
   "execution_count": null,
   "id": "e03560fc",
   "metadata": {},
   "outputs": [],
   "source": []
  }
 ],
 "metadata": {
  "kernelspec": {
   "display_name": "Python 3 (ipykernel)",
   "language": "python",
   "name": "python3"
  },
  "language_info": {
   "codemirror_mode": {
    "name": "ipython",
    "version": 3
   },
   "file_extension": ".py",
   "mimetype": "text/x-python",
   "name": "python",
   "nbconvert_exporter": "python",
   "pygments_lexer": "ipython3",
   "version": "3.9.16"
  }
 },
 "nbformat": 4,
 "nbformat_minor": 5
}
