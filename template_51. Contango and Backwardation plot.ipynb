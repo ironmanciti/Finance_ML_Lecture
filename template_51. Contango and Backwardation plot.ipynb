{
 "cells": [
  {
   "cell_type": "markdown",
   "id": "d5985b9d",
   "metadata": {},
   "source": [
    "# contango & backwardation\n",
    "\n",
    "future price 계산 공식:\n",
    "\n",
    "$$F(t, T) = S(t) e^{c(T-t)}$$\n",
    "\n",
    "F(t,T): 시점 t에서의 선물 가격    \n",
    "S(t): 현재 자산 가격  \n",
    "$e^{c(T−t)}$: 연속 복리로 증가하는 비용. e는 자연로그의 밑이며, 연속적인 복리 계산을 나타냅니다.   \n",
    "c: 자산을 보유하는 비용 또는 이자율    \n",
    "T−t: 미래 시점 𝑇와 현재 시점 𝑡 사이의 시간 차이 "
   ]
  },
  {
   "cell_type": "code",
   "execution_count": null,
   "id": "733bbd9d",
   "metadata": {},
   "outputs": [],
   "source": []
  },
  {
   "cell_type": "code",
   "execution_count": null,
   "id": "c62c339a",
   "metadata": {},
   "outputs": [],
   "source": [
    "# Contango(콘탱고)를 보여주기 위한 예시 모델입니다.\n",
    "# 콘탱고는 선물 가격이 미래의 만기일에 가까워질수록 하락하는 현상을 의미합니다.\n",
    "# Spot Price(현물 가격)와 Futures Price(선물 가격)를 저장할 시리즈를 생성합니다.\n",
    "# 현물 가격과 선물 가격의 초기값은 1로 설정합니다.\n",
    "# 첫 번째 시점의 현물 가격을 20으로 설정합니다.\n",
    "# 첫 번째 시점의 선물 가격을 현물 가격과 보유 비용을 고려하여 계산합니다.\n",
    "# 선물 가격 = 현물 가격 * exp(보유 비용 * 만기일까지 남은 시간)\n",
    "# 1일부터 N일까지의 현물 가격과 선물 가격을 계산합니다.\n",
    "    # 현물 가격은 이전 가격에 랜덤하게 변동성을 추가하여 설정 (랜덤 노이즈 사용)\n",
    "    # 선물 가격은 매 시점마다 보유 금융 비용을 고려하여 다시 계산\n",
    "    # 선물 가격 = 현물 가격 * exp(보유 비용 * (잔존 만기일))\n",
    "# 현물 가격과 선물 가격을 각각 시각화"
   ]
  },
  {
   "cell_type": "code",
   "execution_count": null,
   "id": "c09017b1",
   "metadata": {},
   "outputs": [],
   "source": [
    "# Backwardation(백워데이션)을 보여주기 위한 예시 모델입니다.\n",
    "# 백워데이션은 선물 가격이 만기일에 가까워질수록 현물 가격보다 낮아지는 현상을 의미합니다.\n",
    "# Spot Price(현물 가격)과 Futures Price(선물 가격)를 저장할 시리즈를 생성합니다.\n",
    "# 현물 가격과 선물 가격의 초기값은 1로 설정합니다.\n",
    "# 첫 번째 시점의 현물 가격을 20으로 설정합니다.\n",
    "# 첫 번째 시점의 선물 가격을 현물 가격과 보유 비용을 고려하여 계산합니다.\n",
    "# 선물 가격 = 현물 가격 * exp(보유 비용 * 만기일까지 남은 시간)\n",
    "# 1일부터 N일까지의 현물 가격과 선물 가격을 계산합니다.\n",
    "    # 현물 가격은 이전 가격에 랜덤하게 변동성을 추가하여 설정 (랜덤 노이즈 사용)\n",
    "    # 선물 가격은 매 시점마다 보유 금융 비용을 고려하여 다시 계산\n",
    "    # 선물 가격 = 현물 가격 * exp(보유 비용 * (잔존 만기일))\n",
    "# 현물 가격과 선물 가격을 각각 시각화"
   ]
  },
  {
   "cell_type": "markdown",
   "id": "bec3e1bf",
   "metadata": {},
   "source": [
    "### 각 상황에서 취할 수 있는 전략\n",
    "\n",
    "| 상황        | 취할 수 있는 전략      | 설명                                                        |\n",
    "|-------------|------------------------|-------------------------------------------------------------|\n",
    "| **콘탱고**  | 숏 포지션(매도)         | 선물 가격이 현물 가격에 수렴하면서 하락할 때 수익을 기대    |\n",
    "|             | 캐리 트레이드           | 현물 자산 매수 + 선물 매도 가격 차이를 이용하여 수익 창출    |\n",
    "| **백워데이션** | 롱 포지션(매수)         | 선물 가격이 현물 가격에 수렴하면서 상승할 때 수익을 기대    |\n",
    "|             | 스프레드 거래           | 현물 매도 + 선물 매수로 가격 차이를 이용하여 수익 창출      |"
   ]
  },
  {
   "cell_type": "code",
   "execution_count": null,
   "id": "3f8bab6d",
   "metadata": {},
   "outputs": [],
   "source": []
  }
 ],
 "metadata": {
  "kernelspec": {
   "display_name": "Python 3 (ipykernel)",
   "language": "python",
   "name": "python3"
  },
  "language_info": {
   "codemirror_mode": {
    "name": "ipython",
    "version": 3
   },
   "file_extension": ".py",
   "mimetype": "text/x-python",
   "name": "python",
   "nbconvert_exporter": "python",
   "pygments_lexer": "ipython3",
   "version": "3.9.16"
  }
 },
 "nbformat": 4,
 "nbformat_minor": 5
}
