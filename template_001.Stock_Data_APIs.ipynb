{
 "cells": [
  {
   "cell_type": "markdown",
   "id": "human-franklin",
   "metadata": {},
   "source": [
    "# Free stock market APIs\n",
    "\n",
    "주식 시장 데이터 API는 현재 시장에서 거래되는 금융 자산에 대한 실시간 또는 과거 데이터를 제공합니다. 이러한 API는 일반적으로 공개 주식, ETF, ETN의 가격을 제공합니다.  \n",
    "이러한 데이터는 거래 전략을 수립하고 시장을 모니터링하는 기반이 되는 기술 지표를 생성하는 데 사용할 수 있습니다. "
   ]
  },
  {
   "cell_type": "markdown",
   "id": "afraid-surrey",
   "metadata": {},
   "source": [
    "# 1. 야후 파이낸스\n",
    "문서: [yfinance](https://github.com/ranaroussi/yfinance)  \n",
    "tutorial: https://aroussi.com/post/python-yahoo-finance"
   ]
  },
  {
   "cell_type": "code",
   "execution_count": null,
   "id": "8bd410ea",
   "metadata": {},
   "outputs": [],
   "source": []
  },
  {
   "cell_type": "code",
   "execution_count": null,
   "id": "49a1c3c2",
   "metadata": {},
   "outputs": [],
   "source": [
    "# !pip install -q yfinance"
   ]
  },
  {
   "cell_type": "markdown",
   "id": "46fd7a64",
   "metadata": {},
   "source": [
    "- 미국 주식"
   ]
  },
  {
   "cell_type": "code",
   "execution_count": null,
   "id": "56555b52",
   "metadata": {},
   "outputs": [],
   "source": []
  },
  {
   "cell_type": "markdown",
   "id": "def04c04",
   "metadata": {},
   "source": [
    "- 한국 주식"
   ]
  },
  {
   "cell_type": "code",
   "execution_count": null,
   "id": "f8fa2315",
   "metadata": {},
   "outputs": [],
   "source": []
  },
  {
   "cell_type": "markdown",
   "id": "functioning-garlic",
   "metadata": {},
   "source": [
    "# 2. Pandas data_reader & FinanceDataReader\n",
    "\n",
    "[pandas-datareader](https://github.com/pydata/pandas-datareader)는 잘 구성된 시계열 데이터 수집 라이브러리로 사용이 간편하고 다양한 시계열 데이터를 수집할 수 있다는 장점이 있다. 하지만, 거래소별(KRX, NASDAQ, NYSE 등) 전체 종목 코드(ticker symbol)를 가져오는 기능이 없으며, 야후 파이낸스가 더 이상지원되지 않고(deprecated), 구글 파이낸스는 UNSTABLE_WARNING + RemoteDataError 를 낸다.\n",
    "\n",
    "[FinanceDataReader](https://github.com/FinanceData/FinanceDataReader)는 pandas-datareader 를 대체하기 보다 보완하기 위한 목적으로 만들어졌다. 주요한 기능은 다음과 같다.\n",
    "\n",
    "- 종목 코드  \n",
    "거래소별 전체 종목코드: KRX (KOSPI, KODAQ, KONEX), NASDAQ, NYSE, AMEX, S&P 500  \n",
    "\n",
    "\n",
    "- 가격 데이터  \n",
    "해외주식 가격 데이터: AAPL(애플), AMZN(아마존), GOOG(구글) 등  \n",
    "국내주식 가격 데이터: 005930(삼성전자), 091990(셀트리온헬스케어) 등  \n",
    "각종 지수: KS11(코스피지수), KQ11(코스닥지수), DJI(다우지수), IXIC(나스닥 지수), US500(S&P 5000)  \n",
    "환율 데이터: USD/KRX (원달러 환율), USD/EUR(달러당 유로화 환율), CNY/KRW: 위엔화 원화 환율  \n",
    "암호화폐 가격: BTC/USD (비트코인 달러 가격, Bitfinex), BTC/KRW (비트코인 원화 가격, 빗썸)  "
   ]
  },
  {
   "cell_type": "code",
   "execution_count": null,
   "id": "0e8684ba",
   "metadata": {},
   "outputs": [],
   "source": [
    "# !pip install --upgrade pandas-datareader\n",
    "# !pip install --upgrade finance-datareader"
   ]
  },
  {
   "cell_type": "code",
   "execution_count": null,
   "id": "45db79fb",
   "metadata": {},
   "outputs": [],
   "source": []
  },
  {
   "cell_type": "markdown",
   "id": "81bcba20",
   "metadata": {},
   "source": [
    "- 미국 주식"
   ]
  },
  {
   "cell_type": "code",
   "execution_count": null,
   "id": "f49dedfe",
   "metadata": {},
   "outputs": [],
   "source": []
  },
  {
   "cell_type": "markdown",
   "id": "4c68c086",
   "metadata": {},
   "source": [
    "- 한국 주식"
   ]
  },
  {
   "cell_type": "code",
   "execution_count": null,
   "id": "4cecd419",
   "metadata": {},
   "outputs": [],
   "source": []
  },
  {
   "cell_type": "markdown",
   "id": "848255de",
   "metadata": {},
   "source": [
    "- 원-달러 환율"
   ]
  },
  {
   "cell_type": "code",
   "execution_count": null,
   "id": "a6480485",
   "metadata": {},
   "outputs": [],
   "source": []
  },
  {
   "cell_type": "code",
   "execution_count": null,
   "id": "941ff622",
   "metadata": {},
   "outputs": [],
   "source": []
  },
  {
   "cell_type": "code",
   "execution_count": null,
   "id": "f6b84d56",
   "metadata": {},
   "outputs": [],
   "source": []
  },
  {
   "cell_type": "markdown",
   "id": "60e4ed38",
   "metadata": {},
   "source": [
    "- DataReader"
   ]
  },
  {
   "cell_type": "code",
   "execution_count": null,
   "id": "fd2c0918",
   "metadata": {},
   "outputs": [],
   "source": []
  },
  {
   "cell_type": "code",
   "execution_count": null,
   "id": "a8e7cb90",
   "metadata": {},
   "outputs": [],
   "source": []
  },
  {
   "cell_type": "code",
   "execution_count": null,
   "id": "ff9da48d",
   "metadata": {},
   "outputs": [],
   "source": []
  }
 ],
 "metadata": {
  "kernelspec": {
   "display_name": "Python 3 (ipykernel)",
   "language": "python",
   "name": "python3"
  },
  "language_info": {
   "codemirror_mode": {
    "name": "ipython",
    "version": 3
   },
   "file_extension": ".py",
   "mimetype": "text/x-python",
   "name": "python",
   "nbconvert_exporter": "python",
   "pygments_lexer": "ipython3",
   "version": "3.9.16"
  }
 },
 "nbformat": 4,
 "nbformat_minor": 5
}
