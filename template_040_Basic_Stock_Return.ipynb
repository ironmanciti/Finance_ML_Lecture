{
 "cells": [
  {
   "cell_type": "markdown",
   "id": "590fe260",
   "metadata": {},
   "source": [
    "# Basics of Returns (수익률)\n",
    "\n",
    "- 가격(Prices)의 수익률(Returns) 변환\n",
    "\n",
    "- 수익률 계산 및 수익률 시퀀스를 복리화"
   ]
  },
  {
   "cell_type": "code",
   "execution_count": null,
   "id": "378d6730",
   "metadata": {},
   "outputs": [],
   "source": []
  },
  {
   "cell_type": "markdown",
   "id": "6617ee38",
   "metadata": {},
   "source": [
    "## 1. Simple Returns (단순 수익률)\n",
    "\n",
    "$t$ 시간에서 ${t+1}$ 시간까지의 Return은 다음과 같이 계산됩니다. 나중가격  / 이전가격 - 1\n",
    "\n",
    "$$ R_{t,t+1} = \\frac{P_{t+1}-P_{t}}{P_{t}} = \\frac{P_{t+1}}{P_{t}} - 1 $$\n"
   ]
  },
  {
   "cell_type": "markdown",
   "id": "f1ddf38a",
   "metadata": {},
   "source": [
    "주식 a 의 3일간의 가격 변화"
   ]
  },
  {
   "cell_type": "code",
   "execution_count": null,
   "id": "2d86ffe4",
   "metadata": {},
   "outputs": [],
   "source": []
  },
  {
   "cell_type": "markdown",
   "id": "4e4973d0",
   "metadata": {},
   "source": [
    "주식 a의 일일 수익률"
   ]
  },
  {
   "cell_type": "code",
   "execution_count": null,
   "id": "bbd2ace8",
   "metadata": {},
   "outputs": [],
   "source": [
    "# 가격(prices_a)의 일일 수익률을 계산\n",
    "# prices_a[1:]는 두 번째 데이터부터 마지막 데이터까지를 나타내고,\n",
    "# prices_a[:-1]는 첫 번째 데이터부터 마지막 전 데이터까지를 나타냅니다.\n",
    "# 두 데이터를 사용하여 일일 수익률을 계산합니다."
   ]
  },
  {
   "cell_type": "code",
   "execution_count": null,
   "id": "757075a6",
   "metadata": {},
   "outputs": [],
   "source": [
    "# 가격(prices_a)의 일일 수익률을 계산\n",
    "# prices_a[1:]는 두 번째 데이터부터 마지막 데이터까지를 나타내고,\n",
    "# prices_a[:-1]는 첫 번째 데이터부터 마지막 전 데이터까지를 나타냅니다.\n",
    "# 각 날짜의 수익률은 (다음 날 가격 / 이전 날 가격) - 1로 계산됩니다."
   ]
  },
  {
   "cell_type": "markdown",
   "id": "f6c53a8b",
   "metadata": {},
   "source": [
    "이제 가격을 며칠 더 추가하고 두 번째 주식을 소개합니다. 이 두 주식을 \"BLUE\"와 \"ORANGE\"라고 부르고 Pandas DataFrame을 사용하여 다음과 같이 표시합니다."
   ]
  },
  {
   "cell_type": "code",
   "execution_count": null,
   "id": "360017c5",
   "metadata": {},
   "outputs": [],
   "source": []
  },
  {
   "cell_type": "markdown",
   "id": "79bda835",
   "metadata": {},
   "source": [
    "- 일일 수익률 계산 \n",
    "$$ R_{t,t+1} = \\frac{P_{t+1}-P_{t}}{P_{t}} = \\frac{P_{t+1}}{P_{t}} - 1 $$"
   ]
  },
  {
   "cell_type": "code",
   "execution_count": null,
   "id": "f7bb4d42",
   "metadata": {},
   "outputs": [],
   "source": [
    "# pandas 데이터프레임에서 일일 수익률을 계산\n",
    "# prices.iloc[1:]는 두 번째 행부터 마지막 행까지를 나타내고,\n",
    "# prices.iloc[:-1]는 첫 번째 행부터 마지막 전 행까지를 나타냅니다.\n",
    "# 각 날짜의 수익률은 (다음 날 가격 / 이전 날 가격) - 1로 계산됩니다."
   ]
  },
  {
   "cell_type": "markdown",
   "id": "bd5554b4",
   "metadata": {},
   "source": [
    "위와 동일한 결과를  `.shift()` 메서드를 이용하여 쉽게 구할 수 있습니다.   "
   ]
  },
  {
   "cell_type": "code",
   "execution_count": null,
   "id": "f8a8dae8",
   "metadata": {},
   "outputs": [],
   "source": []
  },
  {
   "cell_type": "markdown",
   "id": "b7638743",
   "metadata": {},
   "source": [
    "- 전날의 종가가 없기 때문에 첫날의 수익을 계산할 수 없다는 점에 유의 \n",
    "\n",
    "- 일반적으로 가격에서 수익으로 이동할 때 하나의 데이터 포인트를 잃음\n",
    "\n",
    "- DataFrame에는 한 행에서 다른 행으로의 백분율 변경을 계산하는 기본 제공 메서드가 있습니다. 이 방법을 사용하여 수익률을 위의 방법보다 더 쉽게 계산할 수 있습니다."
   ]
  },
  {
   "cell_type": "code",
   "execution_count": null,
   "id": "ff0f6c8f",
   "metadata": {},
   "outputs": [],
   "source": []
  },
  {
   "cell_type": "markdown",
   "id": "4b4e7812",
   "metadata": {},
   "source": [
    "### 수익률 평균, 표준편차\n",
    "- 12 개월 가격"
   ]
  },
  {
   "cell_type": "code",
   "execution_count": null,
   "id": "7698b16d",
   "metadata": {},
   "outputs": [],
   "source": []
  },
  {
   "cell_type": "markdown",
   "id": "d529dd02",
   "metadata": {},
   "source": [
    "- 월별 수익률"
   ]
  },
  {
   "cell_type": "code",
   "execution_count": null,
   "id": "6bc5e72a",
   "metadata": {},
   "outputs": [],
   "source": []
  },
  {
   "cell_type": "markdown",
   "id": "38922a38",
   "metadata": {},
   "source": [
    "- 평균 수익률"
   ]
  },
  {
   "cell_type": "code",
   "execution_count": null,
   "id": "93417bfc",
   "metadata": {},
   "outputs": [],
   "source": []
  },
  {
   "cell_type": "markdown",
   "id": "35da01c7",
   "metadata": {},
   "source": [
    "- 수익률 표준 편차"
   ]
  },
  {
   "cell_type": "code",
   "execution_count": null,
   "id": "fba1d70a",
   "metadata": {},
   "outputs": [],
   "source": []
  },
  {
   "cell_type": "markdown",
   "id": "30b11b03",
   "metadata": {},
   "source": [
    "- 12 개월 수익률 변화 시각화  \n",
    "- 평균 수익률은 같으나 변동성이 크게 다르므로, 평균 수익률 (average return)은 주식 평가의 좋은 지표가 아님."
   ]
  },
  {
   "cell_type": "code",
   "execution_count": null,
   "id": "a3ab65ec",
   "metadata": {},
   "outputs": [],
   "source": [
    "# 수익률(returns)을 막대그래프(bar plot)로 시각화\n",
    "# x축 레이블을 'Month'(월)로 설정합니다.\n",
    "# y축 레이블을 'Return'(수익률)로 설정합니다."
   ]
  },
  {
   "cell_type": "markdown",
   "id": "425c3551",
   "metadata": {},
   "source": [
    "## 2. Compounding Returns (복리 수익률)\n",
    "\n",
    "- 이제 일련의 12개월 수익률이 있으므로 수익률이 `1+R` 형식이라고 부르는 성장률(Growth Rate)로 표현되는 한 개별 기간 수익률을 곱하여 복리 수익률을 산출할 수 있습니다.\n",
    "\n",
    "- CAGR(Compound Annual Growth Rate, 연평균 성장률, 연복리 수익률) 계산 공식  \n",
    "\n",
    "    방법 1. 매(일, 월)별 수익률로 계산\n",
    "        - 복리 수익률은 각 수익률에 1을 더한 다음 모두 곱하기만 하면 됩니다. 결과는 1+R 형식이므로 1을 빼야 합니다.  \n",
    "        \n",
    "        \n",
    "    방법 2.  시초 가격과 최종 가격, 투자 기간으로 계산\n",
    "    \n",
    "$$CAGR = \\left(\\frac{현재자산}{과거자산}\\right)^{\\frac{1}{투자기간연수}} - 1$$\n",
    "\n",
    "$$CAGR = ( 1 + 누적수익률 ) ^ \\frac{1}{투자기간연수}- 1$$\n",
    "\n",
    "\n",
    "\n",
    "두 시리즈의 복리 수익률을 계산해 보겠습니다."
   ]
  },
  {
   "cell_type": "markdown",
   "id": "c81c710a",
   "metadata": {},
   "source": [
    "매월의 수익률"
   ]
  },
  {
   "cell_type": "code",
   "execution_count": null,
   "id": "65421ad5",
   "metadata": {},
   "outputs": [],
   "source": [
    "# 수익률(returns)에 1을 더합니다.\n",
    "# 이는 각 수익률에 원금을 더한 값으로, 원금을 포함한 총 수익률을 나타냅니다.\n",
    "# 예를 들어, 수익률이 0.05이면 1 + 0.05 = 1.05로 계산됩니다."
   ]
  },
  {
   "cell_type": "markdown",
   "id": "07d555ab",
   "metadata": {},
   "source": [
    "방법 1로 복리 수익률 계산"
   ]
  },
  {
   "cell_type": "code",
   "execution_count": null,
   "id": "7e87e0ec",
   "metadata": {},
   "outputs": [],
   "source": [
    "# 수익률(returns)에 1을 더한 후, 전체 기간 동안의 누적 수익률을 계산합니다.\n",
    "# (returns + 1).prod()는 각 수익률에 1을 더한 값을 모두 곱한 결과를 의미하며, 이는 누적 수익률을 나타냅니다.\n",
    "# 마지막으로 -1을 하여 원금을 제외한 순수한 누적 수익률을 계산합니다.\n",
    "# 예를 들어, 연속된 수익률들이 각각 0.05, 0.03, 0.02라면,\n",
    "# 누적 수익률은 ((1+0.05)*(1+0.03)*(1+0.02)) - 1로 계산됩니다."
   ]
  },
  {
   "cell_type": "markdown",
   "id": "f68946e2",
   "metadata": {},
   "source": [
    "위 경우,  평균 수익률은 동일하나 복리 수익률은 차이가 많이 납니다.\n",
    "\n",
    "방법 2로 복리 수익률 계산"
   ]
  },
  {
   "cell_type": "code",
   "execution_count": null,
   "id": "a4f8adc5",
   "metadata": {},
   "outputs": [],
   "source": [
    "# 'BLUE' 주식의 처음과 마지막 가격을 사용하여 전체 기간 동안의 수익률을 계산합니다.\n",
    "# prices['BLUE'].values[-1]은 'BLUE' 주식의 마지막 가격을 가져오고,\n",
    "# prices['BLUE'].values[0]은 'BLUE' 주식의 첫 번째 가격을 가져옵니다.\n",
    "# (마지막 가격 / 첫 번째 가격) - 1은 전체 기간 동안의 수익률을 계산하는 공식입니다."
   ]
  },
  {
   "cell_type": "code",
   "execution_count": null,
   "id": "d2a2df20",
   "metadata": {},
   "outputs": [],
   "source": [
    "# 'ORANGE' 주식의 처음과 마지막 가격을 사용하여 전체 기간 동안의 수익률을 계산합니다.\n",
    "# prices['ORANGE'].values[-1]은 'ORANGE' 주식의 마지막 가격을 가져오고,\n",
    "# prices['ORANGE'].values[0]은 'ORANGE' 주식의 첫 번째 가격을 가져옵니다.\n",
    "# (마지막 가격 / 첫 번째 가격) - 1은 전체 기간 동안의 수익률을 계산하는 공식입니다."
   ]
  },
  {
   "cell_type": "markdown",
   "id": "14efb4c6",
   "metadata": {},
   "source": [
    "두 방법의 결과가 동일함을 확인"
   ]
  },
  {
   "cell_type": "markdown",
   "id": "5544c1e2",
   "metadata": {},
   "source": [
    "## 3. Annualizing Returns (연간 수익률)\n",
    "\n",
    "일정 기간 동안의 수익률을 연간으로 계산하려면 1년의 기간만큼 수익률을 복리화합니다. \n",
    "\n",
    "월별 수익 $R_m$을 연간으로 환산하는 공식은 다음과 같습니다.\n",
    "\n",
    "$$ (1+R_m)^{12} - 1$$\n",
    "\n",
    "분기별 수익 $R_q$를 연간으로 환산하면 다음을 얻을 수 있습니다.\n",
    "\n",
    "$$ (1+R_q)^{4} - 1$$\n",
    "\n",
    "마지막으로 일일 수익 $R_d$를 연간으로 환산하면 다음을 얻을 수 있습니다.\n",
    "\n",
    "$$ (1+R_d)^{252} - 1$$\n",
    "\n",
    "예를 들어, 월별 1%, 분기별 4% 및 일일 수익률 0.01%를 연간화하려면 다음을 수행합니다."
   ]
  },
  {
   "cell_type": "code",
   "execution_count": null,
   "id": "78063f04",
   "metadata": {},
   "outputs": [],
   "source": []
  },
  {
   "cell_type": "code",
   "execution_count": null,
   "id": "da7d478c",
   "metadata": {},
   "outputs": [],
   "source": []
  },
  {
   "cell_type": "markdown",
   "id": "a0c839f9",
   "metadata": {},
   "source": [
    "### 주식 수익률 (Return) 계산"
   ]
  },
  {
   "cell_type": "code",
   "execution_count": null,
   "id": "1e77e291",
   "metadata": {},
   "outputs": [],
   "source": []
  },
  {
   "cell_type": "markdown",
   "id": "62fdd869",
   "metadata": {},
   "source": [
    "### simple return 계산"
   ]
  },
  {
   "cell_type": "code",
   "execution_count": null,
   "id": "51c7111a",
   "metadata": {},
   "outputs": [],
   "source": []
  },
  {
   "cell_type": "markdown",
   "id": "33c43412",
   "metadata": {},
   "source": [
    "### 누적 수익률 (Cumulative Return)\n",
    "방법 1 : 매일(달)의 수익률로 계산  \n",
    "누적 수익률 = (1+당일 수익률) * (전일자 누적 수익률)  \n",
    "$$i_t = (1 + r_t) * i_{t-1}$$\n",
    "\n",
    "방법 2: 처음, 마지막 가격으로 계산  \n",
    "누적 수익률 = $\\left( \\frac{현재가격}{과거가격} \\right) - 1$"
   ]
  },
  {
   "cell_type": "markdown",
   "id": "a41d33f3",
   "metadata": {},
   "source": [
    "- 누적 수익률은 단순 덧셈이 아닌 곱셉으로 계산  \n",
    " \n",
    "ex) 10000원이었던 주식이 첫째 달에 10% 상승하고 둘째 달에 20% 상승하게 된다면 누적 수익률은 30%가 아닌, 32%\n",
    "\n",
    "|기존|10,000원|0%|\n",
    "|-----|----|----|\n",
    "|첫째달|11,000원|10%상승|\n",
    "|둘째달|13,200원|20%상승|\n",
    "|누적수익률| |32%상승| \n",
    "\n",
    "$$(1+0.2)*(1+0.1)-1$$"
   ]
  },
  {
   "cell_type": "markdown",
   "id": "b8d52bc2",
   "metadata": {},
   "source": [
    "방법 1 :  (1+당일 수익률) * (전일자 누적 수익률)"
   ]
  },
  {
   "cell_type": "code",
   "execution_count": null,
   "id": "04d20b3e",
   "metadata": {},
   "outputs": [],
   "source": [
    "# 두 개의 수익률(0.2와 0.1)을 적용하여 누적 수익률을 계산\n",
    "# 1에 각각의 수익률을 더한 후 곱셈을 통해 두 기간의 수익률을 누적 계산합니다.\n",
    "# 그 결과에서 -1을 하여 순수 누적 수익률을 구합니다.\n",
    "# 예를 들어, 첫 번째 기간 수익률이 20%(0.2), 두 번째 기간 수익률이 10%(0.1)일 때,\n",
    "# (1+0.2)*(1+0.1) - 1을 통해 총 32%의 누적 수익률을 계산합니다."
   ]
  },
  {
   "cell_type": "markdown",
   "id": "022d12b1",
   "metadata": {},
   "source": [
    "방법 2: (현재가격/과거가격) - 1"
   ]
  },
  {
   "cell_type": "code",
   "execution_count": null,
   "id": "e2a9e242",
   "metadata": {},
   "outputs": [],
   "source": []
  },
  {
   "cell_type": "markdown",
   "id": "2580e02c",
   "metadata": {},
   "source": [
    "주식의 daily 누적 수익률"
   ]
  },
  {
   "cell_type": "code",
   "execution_count": null,
   "id": "844b6460",
   "metadata": {},
   "outputs": [],
   "source": [
    "# 누적 수익률(Cumulative Return)을 계산하여 'Cum Return' 열에 추가\n",
    "# (1 + df['Return'])는 각 일일 수익률에 1을 더한 값이며,\n",
    "# cumprod() 함수는 이 값을 누적 곱하여 전체 기간 동안의 누적 수익률을 계산합니다.\n",
    "# 마지막으로 -1을 하여 원금을 제외한 순수 누적 수익률을 구합니다."
   ]
  },
  {
   "cell_type": "code",
   "execution_count": null,
   "id": "6b9b48db",
   "metadata": {},
   "outputs": [],
   "source": [
    "# 'Close' 열의 첫 번째 값과 마지막 값을 사용하여 전체 기간 동안의 수익률을 계산\n",
    "# df['Close'][-1]은 'Close' 열에서 마지막 값(가장 최신 종가)을 가져오고,\n",
    "# df['Close'][0]은 'Close' 열에서 첫 번째 값(가장 오래된 종가)을 가져옵니다.\n",
    "# (마지막 종가 / 첫 번째 종가) - 1은 전체 기간 동안의 수익률을 계산하는 공식입니다."
   ]
  },
  {
   "cell_type": "markdown",
   "id": "bf8ef578",
   "metadata": {},
   "source": [
    "## 5. Log Returns (로그 수익률)\n",
    "\n",
    "$$Log 수익률 = log⁡(나중가격/이전가격)  = log(나중가격) – log(이전가격)$$\n",
    "\n",
    "$$R_t = \\log{(P_{t+1}/P_t)} = \\log{P_{t+1}} - \\log{P_t}$$"
   ]
  },
  {
   "cell_type": "markdown",
   "id": "f764cf13",
   "metadata": {},
   "source": [
    "- 자산 가격의 변화 : 100 $\\rightarrow$ 130 $\\rightarrow$ 100"
   ]
  },
  {
   "cell_type": "code",
   "execution_count": null,
   "id": "fbd226c7",
   "metadata": {},
   "outputs": [],
   "source": [
    "#simple return의 누적 수익률"
   ]
  },
  {
   "cell_type": "code",
   "execution_count": null,
   "id": "c23b7e75",
   "metadata": {},
   "outputs": [],
   "source": [
    "#log return의 누적 수익률"
   ]
  },
  {
   "cell_type": "markdown",
   "id": "968fb175",
   "metadata": {},
   "source": [
    "- 일별 로그 수익률"
   ]
  },
  {
   "cell_type": "code",
   "execution_count": null,
   "id": "3ec70821",
   "metadata": {},
   "outputs": [],
   "source": [
    "# 로그 수익률(Log Return)을 계산하여 'LogReturn' 열에 추가\n",
    "# np.log(df['Close'])는 'Close' 열의 로그 값을 계산합니다.\n",
    "# np.log(df['Close'].shift(1))는 'Close' 열의 전일 종가를 로그로 변환한 값을 계산합니다.\n",
    "# 두 로그 값의 차이를 통해 로그 수익률을 계산합니다."
   ]
  },
  {
   "cell_type": "markdown",
   "id": "56f2722c",
   "metadata": {},
   "source": [
    "### 누적 로그 수익률\n",
    "- 로그 수익률은 cumsum() 사용  \n",
    "- 단순히 daily return 을 더하면 기간 전체의 복리로 계산된 누적 수익률이 계산됨"
   ]
  },
  {
   "cell_type": "code",
   "execution_count": null,
   "id": "635cdb83",
   "metadata": {},
   "outputs": [],
   "source": []
  },
  {
   "cell_type": "code",
   "execution_count": null,
   "id": "a8f306c5",
   "metadata": {},
   "outputs": [],
   "source": [
    "# 로그 수익률의 누적 합(Cumulative Log Return)을 계산하여 'Cum LogReturn' 열에 추가\n",
    "# cumsum() 함수는 'LogReturn' 열의 값을 누적하여 더한 결과를 계산합니다."
   ]
  },
  {
   "cell_type": "markdown",
   "id": "b8717d3a",
   "metadata": {},
   "source": [
    "- 누적 로그 수익률\n",
    "\n",
    "$$1 + r = \\log{\\frac{p_t}{p_0}}$$ \n",
    "\n",
    "- 로그 수익률: 복리로 반영  \n",
    "- 단순 수익률 : 단리로 반영"
   ]
  },
  {
   "cell_type": "code",
   "execution_count": null,
   "id": "472c584e",
   "metadata": {},
   "outputs": [],
   "source": [
    "# 첫 번째 종가와 마지막 종가를 사용하여 전체 기간 동안의 누적 로그 수익률을 계산\n",
    "# df['Close'][-1]은 'Close' 열에서 마지막 값(가장 최신 종가)을 가져오고,\n",
    "# df['Close'][0]은 'Close' 열에서 첫 번째 값(가장 오래된 종가)을 가져옵니다.\n",
    "# (마지막 종가 / 첫 번째 종가)의 로그 값을 계산하여 전체 기간 동안의 누적 로그 수익률을 구합니다."
   ]
  },
  {
   "cell_type": "code",
   "execution_count": null,
   "id": "ee6223d3",
   "metadata": {},
   "outputs": [],
   "source": [
    "# 첫 번째 종가와 마지막 종가를 사용하여 전체 기간 동안의 수익률을 계산\n",
    "# df['Close'][-1]은 'Close' 열에서 마지막 값(가장 최신 종가)을 가져오고,\n",
    "# df['Close'][0]은 'Close' 열에서 첫 번째 값(가장 오래된 종가)을 가져옵니다.\n",
    "# (마지막 종가 - 첫 번째 종가) / 첫 번째 종가를 통해 전체 기간 동안의 수익률을 계산합니다."
   ]
  },
  {
   "cell_type": "markdown",
   "id": "bbe5f9b3",
   "metadata": {},
   "source": [
    "## 연습 문제\n",
    "\n",
    "1) 1,000,000 원을 수익률 10%로 10년, 20년, 30년 투자할 때 원금+수익 금액은 ?"
   ]
  },
  {
   "cell_type": "code",
   "execution_count": null,
   "id": "3b07e9ec",
   "metadata": {},
   "outputs": [],
   "source": [
    "# 1,000,000 원을 연 10% 수익률로 투자했을 때 10년, 20년, 30년 후의 결과를 출력\n",
    "# (1 + 0.1)는 연 10%의 수익률을 의미하며, **10, **20, **30은 각각 10년, 20년, 30년 후를 나타냅니다.\n",
    "# {:,.0f}는 천 단위 구분 기호를 추가하고 소수점을 표시하지 않도록 설정합니다.\n",
    "# 10년 후의 투자금 출력\n",
    "# 20년 후의 투자금 출력\n",
    "# 30년 후의 투자금 출력"
   ]
  },
  {
   "cell_type": "markdown",
   "id": "ab5d4837",
   "metadata": {},
   "source": [
    "2) 10,000 원을 10 년간 투자했는데 100,000 이 되었다. 누적 수익률과 CAGR 은  ?"
   ]
  },
  {
   "cell_type": "code",
   "execution_count": null,
   "id": "2dd20033",
   "metadata": {},
   "outputs": [],
   "source": [
    "# 누적 수익률 계산\n",
    "# 초기 투자 금액 10,000원 대비 100,000원의 최종 금액을 기준으로 누적 수익률을 계산합니다.\n",
    "# (최종 금액 / 초기 투자 금액) - 1을 통해 전체 기간 동안의 누적 수익률을 구합니다."
   ]
  },
  {
   "cell_type": "code",
   "execution_count": null,
   "id": "717008da",
   "metadata": {},
   "outputs": [],
   "source": [
    "# CAGR(Compound Annual Growth Rate, 연평균 성장률) 계산\n",
    "# 초기 투자 금액 10,000원 대비 100,000원의 최종 금액을 기준으로 10년 동안의 연평균 성장률(CAGR)을 계산합니다.\n",
    "# (최종 금액 / 초기 투자 금액) ** (1 / 기간) - 1을 통해 CAGR을 구합니다."
   ]
  },
  {
   "cell_type": "markdown",
   "id": "fe562434",
   "metadata": {},
   "source": [
    "3) 애플 주식이 100불에서 10년 뒤 300 불이 되었다면 누적수익률과 CAGR 은 ?"
   ]
  },
  {
   "cell_type": "code",
   "execution_count": null,
   "id": "db55d253",
   "metadata": {},
   "outputs": [],
   "source": [
    "# 누적 수익률"
   ]
  },
  {
   "cell_type": "code",
   "execution_count": null,
   "id": "9518227c",
   "metadata": {},
   "outputs": [],
   "source": [
    "# CAGR"
   ]
  },
  {
   "cell_type": "markdown",
   "id": "3aec85f2",
   "metadata": {},
   "source": [
    "## 72의 법칙\n",
    "원금이 2 배가 되는데 걸리는 시간 = 72/CAGR  \n",
    "\n",
    "ex) 10_000 원을 CAGR 10% 로 운용하면 72/10 = 7.2 년 후 원금이 2 배가 된다."
   ]
  },
  {
   "cell_type": "code",
   "execution_count": null,
   "id": "b281068a",
   "metadata": {},
   "outputs": [],
   "source": []
  },
  {
   "cell_type": "markdown",
   "id": "6a92a85e",
   "metadata": {},
   "source": [
    "CAGR 20% 인 경우 "
   ]
  },
  {
   "cell_type": "code",
   "execution_count": null,
   "id": "77ed939d",
   "metadata": {},
   "outputs": [],
   "source": []
  },
  {
   "cell_type": "markdown",
   "id": "f393b669",
   "metadata": {},
   "source": [
    "CAGR 30% 인 경우 "
   ]
  },
  {
   "cell_type": "code",
   "execution_count": null,
   "id": "4420a555",
   "metadata": {},
   "outputs": [],
   "source": []
  },
  {
   "cell_type": "code",
   "execution_count": null,
   "id": "e5164971",
   "metadata": {},
   "outputs": [],
   "source": []
  }
 ],
 "metadata": {
  "kernelspec": {
   "display_name": "Python 3 (ipykernel)",
   "language": "python",
   "name": "python3"
  },
  "language_info": {
   "codemirror_mode": {
    "name": "ipython",
    "version": 3
   },
   "file_extension": ".py",
   "mimetype": "text/x-python",
   "name": "python",
   "nbconvert_exporter": "python",
   "pygments_lexer": "ipython3",
   "version": "3.9.16"
  }
 },
 "nbformat": 4,
 "nbformat_minor": 5
}
