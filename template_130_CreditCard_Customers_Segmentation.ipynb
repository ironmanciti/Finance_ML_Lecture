{
 "cells": [
  {
   "cell_type": "markdown",
   "id": "ab25b5f4",
   "metadata": {},
   "source": [
    "# 신용카드 고객 Segmentation \n",
    "- Machine Learning을 이용한 신용카드 고객 clustering   \n",
    "\n",
    "\n",
    "- Data Source: https://www.kaggle.com/arjunbhasin2013/ccdata  \n",
    "\n",
    "\n",
    "- CUSTID: 신용카드 소지자 ID  \n",
    "- BALANCE: 구매를 위해 고객 계정에 남아 있는 잔액  \n",
    "- BALANCE_FREQUENCY: 잔액이 업데이트되는 빈도, 0에서 1 사이의 점수(1 = 자주 업데이트, 0 = 자주 업데이트되지 않음)  \n",
    "- PURCHASES: 계정에서 구매한 금액  \n",
    "- ONEOFFPURCHASES: 한 번에 완료되는 최대 구매 금액  \n",
    "- INSTALLMENTS_PURCHASES: 할부 금액  \n",
    "- CASH_ADVANCE: 현금서비스  \n",
    "- PURCHASES_FREQUENCY: 구매 빈도, 0에서 1 사이의 점수(1 = 자주 구매, 0 = 자주 구매하지 않음)  \n",
    "- ONEOFF_PURCHASES_FREQUENCY:한 번에 구매하는 빈도(1 = 자주 구매, 0 = 자주 구매하지 않음)  \n",
    "- PURCHASES_INSTALLMENTS_FREQUENCY: 설치 시 구매가 수행되는 빈도(1 = 자주 수행, 0 = 자주 수행하지 않음)  \n",
    "- CASH_ADVANCE_FREQUENCY: 현금 선지급 빈도  \n",
    "- CASH_ADVANCE_TRX: \"선불\" 거래 건수  \n",
    "- PURCHASES_TRX: 구매한 거래 수  \n",
    "- CREDIT_LIMIT: 사용자 신용카드 한도  \n",
    "- PAYMENTS: 사용자가 지불한 금액  \n",
    "- MINIMUM_PAYMENTS: 사용자가 지불하는 최소 금액  \n",
    "- PRC_FULL_PAYMENT: 사용자가 지불한 전체 결제 비율  \n",
    "- TENURE: 이용자의 신용카드 서비스 이용기간"
   ]
  },
  {
   "cell_type": "code",
   "execution_count": null,
   "id": "9b6d85ce",
   "metadata": {},
   "outputs": [],
   "source": []
  },
  {
   "cell_type": "code",
   "execution_count": null,
   "id": "f1609316",
   "metadata": {},
   "outputs": [],
   "source": []
  },
  {
   "cell_type": "code",
   "execution_count": null,
   "id": "a2185ea7",
   "metadata": {},
   "outputs": [],
   "source": []
  },
  {
   "cell_type": "markdown",
   "id": "4de2e1fd",
   "metadata": {},
   "source": [
    "기술 통계 파악"
   ]
  },
  {
   "cell_type": "code",
   "execution_count": null,
   "id": "e2c08273",
   "metadata": {},
   "outputs": [],
   "source": []
  },
  {
   "cell_type": "markdown",
   "id": "93b09d0b",
   "metadata": {},
   "source": [
    "- ONEOFF_PURCHASES 최대 구매 (40761.25)를 한 고객"
   ]
  },
  {
   "cell_type": "code",
   "execution_count": null,
   "id": "ac106886",
   "metadata": {},
   "outputs": [],
   "source": []
  },
  {
   "cell_type": "markdown",
   "id": "a06001db",
   "metadata": {},
   "source": [
    "missing value check"
   ]
  },
  {
   "cell_type": "code",
   "execution_count": null,
   "id": "ea26e435",
   "metadata": {},
   "outputs": [],
   "source": []
  },
  {
   "cell_type": "markdown",
   "id": "fa46aaac",
   "metadata": {},
   "source": [
    "- `MINIMUM_PAYMENT`의 평균으로 missing value를 보충합니다."
   ]
  },
  {
   "cell_type": "code",
   "execution_count": null,
   "id": "7891e7c2",
   "metadata": {},
   "outputs": [],
   "source": []
  },
  {
   "cell_type": "markdown",
   "id": "cd62309d",
   "metadata": {},
   "source": [
    "- 누락된 요소를 `CREDIT_LIMIT`의 평균으로 보충합니다."
   ]
  },
  {
   "cell_type": "code",
   "execution_count": null,
   "id": "00a4edd7",
   "metadata": {},
   "outputs": [],
   "source": []
  },
  {
   "cell_type": "code",
   "execution_count": null,
   "id": "10873d15",
   "metadata": {},
   "outputs": [],
   "source": []
  },
  {
   "cell_type": "markdown",
   "id": "d91d86a0",
   "metadata": {},
   "source": [
    "- 데이터에 중복된 항목이 있는지 봅니다."
   ]
  },
  {
   "cell_type": "code",
   "execution_count": null,
   "id": "e42b11c7",
   "metadata": {},
   "outputs": [],
   "source": []
  },
  {
   "cell_type": "markdown",
   "id": "1efc7893",
   "metadata": {},
   "source": [
    "- Customer ID는여기서 의미가 없으므로 drop 시킵니다."
   ]
  },
  {
   "cell_type": "code",
   "execution_count": null,
   "id": "1a45f1d8",
   "metadata": {},
   "outputs": [],
   "source": []
  },
  {
   "cell_type": "code",
   "execution_count": null,
   "id": "6650888a",
   "metadata": {},
   "outputs": [],
   "source": []
  },
  {
   "cell_type": "code",
   "execution_count": null,
   "id": "a959e344",
   "metadata": {},
   "outputs": [],
   "source": []
  },
  {
   "cell_type": "markdown",
   "id": "b371346a",
   "metadata": {
    "id": "QRSLmofOqJ2X"
   },
   "source": [
    "## K-MEANS clustering model 작성"
   ]
  },
  {
   "cell_type": "markdown",
   "id": "09b4b5be",
   "metadata": {
    "id": "Y0GmpAjG3GiH"
   },
   "source": [
    "### ELBOW 방법을 사용하여 최적의 클러스터 수 찾기\n",
    "\n",
    "- 엘보우 방법은 데이터 세트에서 적절한 클러스터 수를 찾는 데 도움이 되도록 설계된 휴리스틱 방법입니다.  \n",
    "- 꺾은선형 차트가 팔처럼 보이면 팔의 \"elbow\"에 해당하는 k 값이 가장 좋습니다.  이 지점에서 이전에 비해 클러스터 내부의 데이터들이 더 이상 크게 뭉치지 않기 때문입니다.\n",
    "- inertia_ 속성 : 가장 가까운 클러스터 중심까지의 샘플 거리의 제곱 합계. 클러스터 내부의 데이터들이 얼마나 뭉쳐있는지를 나타내는 값이므로, 값이 작을수록 클러스터가 잘 형성되었다고 볼 수 있습니다."
   ]
  },
  {
   "cell_type": "markdown",
   "id": "11260ad3",
   "metadata": {},
   "source": [
    "- data scaling"
   ]
  },
  {
   "cell_type": "code",
   "execution_count": null,
   "id": "d82de7b5",
   "metadata": {},
   "outputs": [],
   "source": []
  },
  {
   "cell_type": "code",
   "execution_count": null,
   "id": "494966fc",
   "metadata": {},
   "outputs": [],
   "source": []
  },
  {
   "cell_type": "code",
   "execution_count": null,
   "id": "323f5491",
   "metadata": {},
   "outputs": [],
   "source": [
    "# 검사할 클러스터 수의 범위를 지정 (1부터 20까지)\n",
    "# 지정된 범위의 클러스터 수에 대해 K-means 알고리즘을 적용하고, \n",
    "# 각 클러스터 수에 따른 inertia 값을 scores리스트에 추가합니다.\n",
    "# 각 클러스터 수에 따른 inertia 값을 시각화"
   ]
  },
  {
   "cell_type": "markdown",
   "id": "2ad7c335",
   "metadata": {
    "id": "m_jo7mJ4C8R9"
   },
   "source": [
    "### K-MEANS METHOD 적용\n",
    "\n",
    "- cluster 갯수를 8로 결정"
   ]
  },
  {
   "cell_type": "code",
   "execution_count": null,
   "id": "b57d6f9c",
   "metadata": {},
   "outputs": [],
   "source": []
  },
  {
   "cell_type": "code",
   "execution_count": null,
   "id": "6818ae1d",
   "metadata": {},
   "outputs": [],
   "source": []
  },
  {
   "cell_type": "markdown",
   "id": "0f78b55c",
   "metadata": {},
   "source": [
    "클러스터의 중심점을 데이터프레임 형태로 변환합니다.   \n",
    "이 데이터프레임은 각 클러스터의 중심점을 나타내는 값들을 포함하며, 각 열의 이름은 원본 데이터프레임(df)의 열 이름을 사용합니다."
   ]
  },
  {
   "cell_type": "code",
   "execution_count": null,
   "id": "31c802bc",
   "metadata": {},
   "outputs": [],
   "source": []
  },
  {
   "cell_type": "markdown",
   "id": "8bda0495",
   "metadata": {},
   "source": [
    "- 각 value 는 scaling이 되어 있는 상태이므로 inverse transform을 통해 원래의 값으로 복원하면 각 cluster 의 의미 파악에 도움이 됩니다."
   ]
  },
  {
   "cell_type": "code",
   "execution_count": null,
   "id": "2aa6481b",
   "metadata": {},
   "outputs": [],
   "source": []
  },
  {
   "cell_type": "markdown",
   "id": "719fa073",
   "metadata": {},
   "source": [
    "### 각 datapoint가 어떤 cluster에 속하는지 label 부여\n",
    "- `fit_predict` 메소드는 각 데이터 포인트가 속하는 클러스터의 인덱스를 배열로 반환합니다. 이 배열에서 각 값은 해당 데이터 포인트가 속한 클러스터를 나타냅니다."
   ]
  },
  {
   "cell_type": "code",
   "execution_count": null,
   "id": "fb8d821e",
   "metadata": {},
   "outputs": [],
   "source": [
    "# KMeans 클러스터링 알고리즘을 이용하여 df_scaled 데이터에 대한 클러스터링을 수행합니다."
   ]
  },
  {
   "cell_type": "markdown",
   "id": "cc5019d1",
   "metadata": {},
   "source": [
    "원본 데이터프레임(df)와 클러스터 할당 정보(y_kmeans) 및 고객 ID(cust_id)를 포함하는 새로운 데이터프레임을 결합하여 df_cluster라는 새로운 데이터프레임을 생성합니다.  \n",
    "이를 통해 각 고객이 어떤 클러스터에 속하는지를 확인할 수 있습니다."
   ]
  },
  {
   "cell_type": "code",
   "execution_count": null,
   "id": "00c435df",
   "metadata": {},
   "outputs": [],
   "source": [
    "# 원본 데이터프레임(df)와 클러스터링 결과를 포함하는 새로운 데이터프레임을 결합합니다."
   ]
  },
  {
   "cell_type": "markdown",
   "id": "45da072f",
   "metadata": {
    "id": "UVTd7FYLNCAE"
   },
   "source": [
    "## Clustering한 결과를 2차원으로 시각화 하기 위해 PCA 방법 적용"
   ]
  },
  {
   "cell_type": "code",
   "execution_count": null,
   "id": "c708feaa",
   "metadata": {},
   "outputs": [],
   "source": [
    "# PCA(주성분 분석)를 이용해 다차원 데이터를 2차원으로 축소합니다.\n",
    "# fit_transform 메소드를 사용해 스케일링된 데이터(df_scaled)에 PCA를 적용합니다.\n",
    "# PCA 변환을 통해 얻어진 2차원 데이터의 주성분 점수를 저장합니다."
   ]
  },
  {
   "cell_type": "code",
   "execution_count": null,
   "id": "6d43e605",
   "metadata": {},
   "outputs": [],
   "source": []
  },
  {
   "cell_type": "markdown",
   "id": "9c5e67e7",
   "metadata": {},
   "source": [
    "- 클러스터 레이블을 데이터 프레임에 연결"
   ]
  },
  {
   "cell_type": "code",
   "execution_count": null,
   "id": "2129c6f6",
   "metadata": {},
   "outputs": [],
   "source": [
    "# PCA 데이터프레임에 labels에 저장된 클러스터 라벨을 'cluster'라는 새로운 컬럼으로 pca_df에 추가"
   ]
  },
  {
   "cell_type": "markdown",
   "id": "55008882",
   "metadata": {},
   "source": [
    "### PCA 축소 결과와 클러스터 라벨을 이용해 산점도를 그립니다."
   ]
  },
  {
   "cell_type": "code",
   "execution_count": null,
   "id": "5e1505c3",
   "metadata": {},
   "outputs": [],
   "source": [
    "# 'hue' 매개변수에 'cluster'를 지정하여 각 클러스터를 다른 색으로 구분\n",
    "# 'palette'를 통해 클러스터별로 사용할 색상을 지정"
   ]
  },
  {
   "cell_type": "markdown",
   "id": "d17e2b27",
   "metadata": {},
   "source": [
    "- cluster 4 에 속하는 고객 정보"
   ]
  },
  {
   "cell_type": "code",
   "execution_count": null,
   "id": "61251dee",
   "metadata": {},
   "outputs": [],
   "source": []
  },
  {
   "cell_type": "markdown",
   "id": "a24e3b35",
   "metadata": {},
   "source": [
    "### 각 column의 분포를 시각화"
   ]
  },
  {
   "cell_type": "code",
   "execution_count": null,
   "id": "c5c30322",
   "metadata": {},
   "outputs": [],
   "source": []
  },
  {
   "cell_type": "code",
   "execution_count": null,
   "id": "72b9b45f",
   "metadata": {},
   "outputs": [],
   "source": [
    "# df_cluster 데이터프레임에서 마지막 두 컬럼을 제외한 모든 컬럼을 선택합니다.\n",
    "# 이 때, columns 변수는 선택된 컬럼의 이름들을 담고 있습니다."
   ]
  },
  {
   "cell_type": "code",
   "execution_count": null,
   "id": "2f15c3ef",
   "metadata": {},
   "outputs": [],
   "source": [
    "# 'columns'에 저장된 각 컬럼에 대해 반복문을 실행\n",
    "    # len(columns)만큼의 서브플롯을 생성하며, 각각의 서브플롯에 하나의 컬럼에 대한 히스토그램을 그립니다.\n",
    "    # df_cluster 데이터프레임의 현재 컬럼에 대한 히스토그램을 그립니다.\n",
    "    # 각 서브플롯의 제목을 현재 컬럼의 이름으로 설정"
   ]
  },
  {
   "cell_type": "code",
   "execution_count": null,
   "id": "f9cc65d6",
   "metadata": {},
   "outputs": [],
   "source": []
  }
 ],
 "metadata": {
  "colab": {
   "collapsed_sections": [],
   "name": "Perform Bank Customers Segmentation - Solution",
   "provenance": []
  },
  "kernelspec": {
   "display_name": "Python 3 (ipykernel)",
   "language": "python",
   "name": "python3"
  },
  "language_info": {
   "codemirror_mode": {
    "name": "ipython",
    "version": 3
   },
   "file_extension": ".py",
   "mimetype": "text/x-python",
   "name": "python",
   "nbconvert_exporter": "python",
   "pygments_lexer": "ipython3",
   "version": "3.9.16"
  }
 },
 "nbformat": 4,
 "nbformat_minor": 5
}
