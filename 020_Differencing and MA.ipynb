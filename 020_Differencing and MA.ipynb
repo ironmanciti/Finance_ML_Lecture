{
 "cells": [
  {
   "cell_type": "markdown",
   "metadata": {},
   "source": [
    "# 차분(Differencing) 과 이동평균(MA) - Simple Trade Strategy"
   ]
  },
  {
   "cell_type": "code",
   "execution_count": 1,
   "metadata": {},
   "outputs": [],
   "source": [
    "#!pip install update finance-datareader\n",
    "#!pip install yfinance"
   ]
  },
  {
   "cell_type": "code",
   "execution_count": 2,
   "metadata": {},
   "outputs": [],
   "source": [
    "import pandas as pd\n",
    "import numpy as np\n",
    "import matplotlib.pyplot as plt\n",
    "import yfinance as yf\n",
    "import FinanceDataReader as fdr"
   ]
  },
  {
   "cell_type": "markdown",
   "metadata": {},
   "source": [
    "## Price difference (익일 종가 - 당일 종가)\n",
    "\n",
    "PriceDiff = (Close Price of tomorrow - Close Price of today)\n",
    "\n",
    "- shift(period)"
   ]
  },
  {
   "cell_type": "code",
   "execution_count": 3,
   "metadata": {},
   "outputs": [
    {
     "data": {
      "text/html": [
       "<div>\n",
       "<style scoped>\n",
       "    .dataframe tbody tr th:only-of-type {\n",
       "        vertical-align: middle;\n",
       "    }\n",
       "\n",
       "    .dataframe tbody tr th {\n",
       "        vertical-align: top;\n",
       "    }\n",
       "\n",
       "    .dataframe thead th {\n",
       "        text-align: right;\n",
       "    }\n",
       "</style>\n",
       "<table border=\"1\" class=\"dataframe\">\n",
       "  <thead>\n",
       "    <tr style=\"text-align: right;\">\n",
       "      <th></th>\n",
       "      <th>Open</th>\n",
       "      <th>High</th>\n",
       "      <th>Low</th>\n",
       "      <th>Close</th>\n",
       "      <th>Adj Close</th>\n",
       "      <th>Volume</th>\n",
       "    </tr>\n",
       "    <tr>\n",
       "      <th>Date</th>\n",
       "      <th></th>\n",
       "      <th></th>\n",
       "      <th></th>\n",
       "      <th></th>\n",
       "      <th></th>\n",
       "      <th></th>\n",
       "    </tr>\n",
       "  </thead>\n",
       "  <tbody>\n",
       "    <tr>\n",
       "      <th>2017-08-09</th>\n",
       "      <td>72.250000</td>\n",
       "      <td>72.510002</td>\n",
       "      <td>72.050003</td>\n",
       "      <td>72.470001</td>\n",
       "      <td>67.545181</td>\n",
       "      <td>22213400</td>\n",
       "    </tr>\n",
       "    <tr>\n",
       "      <th>2017-08-10</th>\n",
       "      <td>71.900002</td>\n",
       "      <td>72.190002</td>\n",
       "      <td>71.349998</td>\n",
       "      <td>71.410004</td>\n",
       "      <td>66.557220</td>\n",
       "      <td>24734500</td>\n",
       "    </tr>\n",
       "    <tr>\n",
       "      <th>2017-08-11</th>\n",
       "      <td>71.610001</td>\n",
       "      <td>72.699997</td>\n",
       "      <td>71.279999</td>\n",
       "      <td>72.500000</td>\n",
       "      <td>67.573143</td>\n",
       "      <td>21443700</td>\n",
       "    </tr>\n",
       "    <tr>\n",
       "      <th>2017-08-14</th>\n",
       "      <td>73.059998</td>\n",
       "      <td>73.720001</td>\n",
       "      <td>72.949997</td>\n",
       "      <td>73.589996</td>\n",
       "      <td>68.589066</td>\n",
       "      <td>20096600</td>\n",
       "    </tr>\n",
       "    <tr>\n",
       "      <th>2017-08-15</th>\n",
       "      <td>73.589996</td>\n",
       "      <td>73.589996</td>\n",
       "      <td>73.040001</td>\n",
       "      <td>73.220001</td>\n",
       "      <td>68.607803</td>\n",
       "      <td>19181400</td>\n",
       "    </tr>\n",
       "    <tr>\n",
       "      <th>...</th>\n",
       "      <td>...</td>\n",
       "      <td>...</td>\n",
       "      <td>...</td>\n",
       "      <td>...</td>\n",
       "      <td>...</td>\n",
       "      <td>...</td>\n",
       "    </tr>\n",
       "    <tr>\n",
       "      <th>2022-12-21</th>\n",
       "      <td>241.690002</td>\n",
       "      <td>245.619995</td>\n",
       "      <td>240.110001</td>\n",
       "      <td>244.429993</td>\n",
       "      <td>244.429993</td>\n",
       "      <td>23690600</td>\n",
       "    </tr>\n",
       "    <tr>\n",
       "      <th>2022-12-22</th>\n",
       "      <td>241.259995</td>\n",
       "      <td>241.990005</td>\n",
       "      <td>233.869995</td>\n",
       "      <td>238.190002</td>\n",
       "      <td>238.190002</td>\n",
       "      <td>28651700</td>\n",
       "    </tr>\n",
       "    <tr>\n",
       "      <th>2022-12-23</th>\n",
       "      <td>236.110001</td>\n",
       "      <td>238.869995</td>\n",
       "      <td>233.940002</td>\n",
       "      <td>238.729996</td>\n",
       "      <td>238.729996</td>\n",
       "      <td>21203200</td>\n",
       "    </tr>\n",
       "    <tr>\n",
       "      <th>2022-12-27</th>\n",
       "      <td>238.699997</td>\n",
       "      <td>238.929993</td>\n",
       "      <td>235.830002</td>\n",
       "      <td>236.960007</td>\n",
       "      <td>236.960007</td>\n",
       "      <td>16688600</td>\n",
       "    </tr>\n",
       "    <tr>\n",
       "      <th>2022-12-28</th>\n",
       "      <td>236.889999</td>\n",
       "      <td>239.720001</td>\n",
       "      <td>234.169998</td>\n",
       "      <td>234.529999</td>\n",
       "      <td>234.529999</td>\n",
       "      <td>17442300</td>\n",
       "    </tr>\n",
       "  </tbody>\n",
       "</table>\n",
       "<p>1357 rows × 6 columns</p>\n",
       "</div>"
      ],
      "text/plain": [
       "                  Open        High         Low       Close   Adj Close  \\\n",
       "Date                                                                     \n",
       "2017-08-09   72.250000   72.510002   72.050003   72.470001   67.545181   \n",
       "2017-08-10   71.900002   72.190002   71.349998   71.410004   66.557220   \n",
       "2017-08-11   71.610001   72.699997   71.279999   72.500000   67.573143   \n",
       "2017-08-14   73.059998   73.720001   72.949997   73.589996   68.589066   \n",
       "2017-08-15   73.589996   73.589996   73.040001   73.220001   68.607803   \n",
       "...                ...         ...         ...         ...         ...   \n",
       "2022-12-21  241.690002  245.619995  240.110001  244.429993  244.429993   \n",
       "2022-12-22  241.259995  241.990005  233.869995  238.190002  238.190002   \n",
       "2022-12-23  236.110001  238.869995  233.940002  238.729996  238.729996   \n",
       "2022-12-27  238.699997  238.929993  235.830002  236.960007  236.960007   \n",
       "2022-12-28  236.889999  239.720001  234.169998  234.529999  234.529999   \n",
       "\n",
       "              Volume  \n",
       "Date                  \n",
       "2017-08-09  22213400  \n",
       "2017-08-10  24734500  \n",
       "2017-08-11  21443700  \n",
       "2017-08-14  20096600  \n",
       "2017-08-15  19181400  \n",
       "...              ...  \n",
       "2022-12-21  23690600  \n",
       "2022-12-22  28651700  \n",
       "2022-12-23  21203200  \n",
       "2022-12-27  16688600  \n",
       "2022-12-28  17442300  \n",
       "\n",
       "[1357 rows x 6 columns]"
      ]
     },
     "execution_count": 3,
     "metadata": {},
     "output_type": "execute_result"
    }
   ],
   "source": [
    "fb = fdr.DataReader(\"META\", start=\"20170809\")    #Facebook\n",
    "ms = fdr.DataReader(\"MSFT\", start=\"20170809\")  #Microsoft\n",
    "ms"
   ]
  },
  {
   "cell_type": "code",
   "execution_count": 4,
   "metadata": {},
   "outputs": [],
   "source": [
    "fb.drop(['High', 'Low', 'Open', 'Volume', 'Adj Close'], \n",
    "        axis=1, inplace=True)\n",
    "ms.drop(['High', 'Low', 'Open', 'Volume', 'Adj Close'], \n",
    "        axis=1, inplace=True)"
   ]
  },
  {
   "cell_type": "code",
   "execution_count": 5,
   "metadata": {},
   "outputs": [
    {
     "data": {
      "text/html": [
       "<div>\n",
       "<style scoped>\n",
       "    .dataframe tbody tr th:only-of-type {\n",
       "        vertical-align: middle;\n",
       "    }\n",
       "\n",
       "    .dataframe tbody tr th {\n",
       "        vertical-align: top;\n",
       "    }\n",
       "\n",
       "    .dataframe thead th {\n",
       "        text-align: right;\n",
       "    }\n",
       "</style>\n",
       "<table border=\"1\" class=\"dataframe\">\n",
       "  <thead>\n",
       "    <tr style=\"text-align: right;\">\n",
       "      <th></th>\n",
       "      <th>Close</th>\n",
       "      <th>Yesterday Close</th>\n",
       "    </tr>\n",
       "    <tr>\n",
       "      <th>Date</th>\n",
       "      <th></th>\n",
       "      <th></th>\n",
       "    </tr>\n",
       "  </thead>\n",
       "  <tbody>\n",
       "    <tr>\n",
       "      <th>2017-08-09</th>\n",
       "      <td>171.179993</td>\n",
       "      <td>NaN</td>\n",
       "    </tr>\n",
       "    <tr>\n",
       "      <th>2017-08-10</th>\n",
       "      <td>167.399994</td>\n",
       "      <td>171.179993</td>\n",
       "    </tr>\n",
       "    <tr>\n",
       "      <th>2017-08-11</th>\n",
       "      <td>168.080002</td>\n",
       "      <td>167.399994</td>\n",
       "    </tr>\n",
       "    <tr>\n",
       "      <th>2017-08-14</th>\n",
       "      <td>170.750000</td>\n",
       "      <td>168.080002</td>\n",
       "    </tr>\n",
       "    <tr>\n",
       "      <th>2017-08-15</th>\n",
       "      <td>171.000000</td>\n",
       "      <td>170.750000</td>\n",
       "    </tr>\n",
       "  </tbody>\n",
       "</table>\n",
       "</div>"
      ],
      "text/plain": [
       "                 Close  Yesterday Close\n",
       "Date                                   \n",
       "2017-08-09  171.179993              NaN\n",
       "2017-08-10  167.399994       171.179993\n",
       "2017-08-11  168.080002       167.399994\n",
       "2017-08-14  170.750000       168.080002\n",
       "2017-08-15  171.000000       170.750000"
      ]
     },
     "execution_count": 5,
     "metadata": {},
     "output_type": "execute_result"
    }
   ],
   "source": [
    "fb['Yesterday Close'] = fb['Close'].shift(1)\n",
    "fb.head()"
   ]
  },
  {
   "cell_type": "markdown",
   "metadata": {},
   "source": [
    "Price Difference - manual 계산"
   ]
  },
  {
   "cell_type": "code",
   "execution_count": 6,
   "metadata": {},
   "outputs": [
    {
     "data": {
      "text/html": [
       "<div>\n",
       "<style scoped>\n",
       "    .dataframe tbody tr th:only-of-type {\n",
       "        vertical-align: middle;\n",
       "    }\n",
       "\n",
       "    .dataframe tbody tr th {\n",
       "        vertical-align: top;\n",
       "    }\n",
       "\n",
       "    .dataframe thead th {\n",
       "        text-align: right;\n",
       "    }\n",
       "</style>\n",
       "<table border=\"1\" class=\"dataframe\">\n",
       "  <thead>\n",
       "    <tr style=\"text-align: right;\">\n",
       "      <th></th>\n",
       "      <th>Close</th>\n",
       "      <th>Yesterday Close</th>\n",
       "      <th>Price Difference</th>\n",
       "    </tr>\n",
       "    <tr>\n",
       "      <th>Date</th>\n",
       "      <th></th>\n",
       "      <th></th>\n",
       "      <th></th>\n",
       "    </tr>\n",
       "  </thead>\n",
       "  <tbody>\n",
       "    <tr>\n",
       "      <th>2017-08-09</th>\n",
       "      <td>171.179993</td>\n",
       "      <td>NaN</td>\n",
       "      <td>NaN</td>\n",
       "    </tr>\n",
       "    <tr>\n",
       "      <th>2017-08-10</th>\n",
       "      <td>167.399994</td>\n",
       "      <td>171.179993</td>\n",
       "      <td>-3.779999</td>\n",
       "    </tr>\n",
       "    <tr>\n",
       "      <th>2017-08-11</th>\n",
       "      <td>168.080002</td>\n",
       "      <td>167.399994</td>\n",
       "      <td>0.680008</td>\n",
       "    </tr>\n",
       "    <tr>\n",
       "      <th>2017-08-14</th>\n",
       "      <td>170.750000</td>\n",
       "      <td>168.080002</td>\n",
       "      <td>2.669998</td>\n",
       "    </tr>\n",
       "    <tr>\n",
       "      <th>2017-08-15</th>\n",
       "      <td>171.000000</td>\n",
       "      <td>170.750000</td>\n",
       "      <td>0.250000</td>\n",
       "    </tr>\n",
       "  </tbody>\n",
       "</table>\n",
       "</div>"
      ],
      "text/plain": [
       "                 Close  Yesterday Close  Price Difference\n",
       "Date                                                     \n",
       "2017-08-09  171.179993              NaN               NaN\n",
       "2017-08-10  167.399994       171.179993         -3.779999\n",
       "2017-08-11  168.080002       167.399994          0.680008\n",
       "2017-08-14  170.750000       168.080002          2.669998\n",
       "2017-08-15  171.000000       170.750000          0.250000"
      ]
     },
     "execution_count": 6,
     "metadata": {},
     "output_type": "execute_result"
    }
   ],
   "source": [
    "fb['Price Difference'] = fb['Close'] - fb['Yesterday Close']\n",
    "fb.head()"
   ]
  },
  {
   "cell_type": "markdown",
   "metadata": {},
   "source": [
    "Price Difference - diff() method 사용"
   ]
  },
  {
   "cell_type": "code",
   "execution_count": 7,
   "metadata": {},
   "outputs": [
    {
     "data": {
      "text/html": [
       "<div>\n",
       "<style scoped>\n",
       "    .dataframe tbody tr th:only-of-type {\n",
       "        vertical-align: middle;\n",
       "    }\n",
       "\n",
       "    .dataframe tbody tr th {\n",
       "        vertical-align: top;\n",
       "    }\n",
       "\n",
       "    .dataframe thead th {\n",
       "        text-align: right;\n",
       "    }\n",
       "</style>\n",
       "<table border=\"1\" class=\"dataframe\">\n",
       "  <thead>\n",
       "    <tr style=\"text-align: right;\">\n",
       "      <th></th>\n",
       "      <th>Close</th>\n",
       "      <th>Yesterday Close</th>\n",
       "      <th>Price Difference</th>\n",
       "      <th>Price Diff2</th>\n",
       "    </tr>\n",
       "    <tr>\n",
       "      <th>Date</th>\n",
       "      <th></th>\n",
       "      <th></th>\n",
       "      <th></th>\n",
       "      <th></th>\n",
       "    </tr>\n",
       "  </thead>\n",
       "  <tbody>\n",
       "    <tr>\n",
       "      <th>2017-08-09</th>\n",
       "      <td>171.179993</td>\n",
       "      <td>NaN</td>\n",
       "      <td>NaN</td>\n",
       "      <td>NaN</td>\n",
       "    </tr>\n",
       "    <tr>\n",
       "      <th>2017-08-10</th>\n",
       "      <td>167.399994</td>\n",
       "      <td>171.179993</td>\n",
       "      <td>-3.779999</td>\n",
       "      <td>-3.779999</td>\n",
       "    </tr>\n",
       "    <tr>\n",
       "      <th>2017-08-11</th>\n",
       "      <td>168.080002</td>\n",
       "      <td>167.399994</td>\n",
       "      <td>0.680008</td>\n",
       "      <td>0.680008</td>\n",
       "    </tr>\n",
       "    <tr>\n",
       "      <th>2017-08-14</th>\n",
       "      <td>170.750000</td>\n",
       "      <td>168.080002</td>\n",
       "      <td>2.669998</td>\n",
       "      <td>2.669998</td>\n",
       "    </tr>\n",
       "    <tr>\n",
       "      <th>2017-08-15</th>\n",
       "      <td>171.000000</td>\n",
       "      <td>170.750000</td>\n",
       "      <td>0.250000</td>\n",
       "      <td>0.250000</td>\n",
       "    </tr>\n",
       "  </tbody>\n",
       "</table>\n",
       "</div>"
      ],
      "text/plain": [
       "                 Close  Yesterday Close  Price Difference  Price Diff2\n",
       "Date                                                                  \n",
       "2017-08-09  171.179993              NaN               NaN          NaN\n",
       "2017-08-10  167.399994       171.179993         -3.779999    -3.779999\n",
       "2017-08-11  168.080002       167.399994          0.680008     0.680008\n",
       "2017-08-14  170.750000       168.080002          2.669998     2.669998\n",
       "2017-08-15  171.000000       170.750000          0.250000     0.250000"
      ]
     },
     "execution_count": 7,
     "metadata": {},
     "output_type": "execute_result"
    }
   ],
   "source": [
    "fb['Price Diff2'] = fb['Close'].diff()\n",
    "fb.head()"
   ]
  },
  {
   "cell_type": "code",
   "execution_count": 8,
   "metadata": {},
   "outputs": [
    {
     "data": {
      "text/html": [
       "<div>\n",
       "<style scoped>\n",
       "    .dataframe tbody tr th:only-of-type {\n",
       "        vertical-align: middle;\n",
       "    }\n",
       "\n",
       "    .dataframe tbody tr th {\n",
       "        vertical-align: top;\n",
       "    }\n",
       "\n",
       "    .dataframe thead th {\n",
       "        text-align: right;\n",
       "    }\n",
       "</style>\n",
       "<table border=\"1\" class=\"dataframe\">\n",
       "  <thead>\n",
       "    <tr style=\"text-align: right;\">\n",
       "      <th></th>\n",
       "      <th>Close</th>\n",
       "      <th>Yesterday Close</th>\n",
       "      <th>Price Difference</th>\n",
       "    </tr>\n",
       "    <tr>\n",
       "      <th>Date</th>\n",
       "      <th></th>\n",
       "      <th></th>\n",
       "      <th></th>\n",
       "    </tr>\n",
       "  </thead>\n",
       "  <tbody>\n",
       "    <tr>\n",
       "      <th>2017-08-09</th>\n",
       "      <td>72.470001</td>\n",
       "      <td>NaN</td>\n",
       "      <td>NaN</td>\n",
       "    </tr>\n",
       "    <tr>\n",
       "      <th>2017-08-10</th>\n",
       "      <td>71.410004</td>\n",
       "      <td>72.470001</td>\n",
       "      <td>-1.059997</td>\n",
       "    </tr>\n",
       "    <tr>\n",
       "      <th>2017-08-11</th>\n",
       "      <td>72.500000</td>\n",
       "      <td>71.410004</td>\n",
       "      <td>1.089996</td>\n",
       "    </tr>\n",
       "    <tr>\n",
       "      <th>2017-08-14</th>\n",
       "      <td>73.589996</td>\n",
       "      <td>72.500000</td>\n",
       "      <td>1.089996</td>\n",
       "    </tr>\n",
       "    <tr>\n",
       "      <th>2017-08-15</th>\n",
       "      <td>73.220001</td>\n",
       "      <td>73.589996</td>\n",
       "      <td>-0.369995</td>\n",
       "    </tr>\n",
       "  </tbody>\n",
       "</table>\n",
       "</div>"
      ],
      "text/plain": [
       "                Close  Yesterday Close  Price Difference\n",
       "Date                                                    \n",
       "2017-08-09  72.470001              NaN               NaN\n",
       "2017-08-10  71.410004        72.470001         -1.059997\n",
       "2017-08-11  72.500000        71.410004          1.089996\n",
       "2017-08-14  73.589996        72.500000          1.089996\n",
       "2017-08-15  73.220001        73.589996         -0.369995"
      ]
     },
     "execution_count": 8,
     "metadata": {},
     "output_type": "execute_result"
    }
   ],
   "source": [
    "ms['Yesterday Close'] = ms['Close'].shift(1)\n",
    "ms['Price Difference'] = ms['Close'].diff()\n",
    "ms.head()"
   ]
  },
  {
   "cell_type": "code",
   "execution_count": 9,
   "metadata": {},
   "outputs": [
    {
     "name": "stdout",
     "output_type": "stream",
     "text": [
      "0.0899959999999993\n"
     ]
    }
   ],
   "source": [
    "print(ms['Price Difference'].loc['2017-11-03'])"
   ]
  },
  {
   "cell_type": "code",
   "execution_count": 10,
   "metadata": {},
   "outputs": [
    {
     "data": {
      "text/html": [
       "<div>\n",
       "<style scoped>\n",
       "    .dataframe tbody tr th:only-of-type {\n",
       "        vertical-align: middle;\n",
       "    }\n",
       "\n",
       "    .dataframe tbody tr th {\n",
       "        vertical-align: top;\n",
       "    }\n",
       "\n",
       "    .dataframe thead th {\n",
       "        text-align: right;\n",
       "    }\n",
       "</style>\n",
       "<table border=\"1\" class=\"dataframe\">\n",
       "  <thead>\n",
       "    <tr style=\"text-align: right;\">\n",
       "      <th></th>\n",
       "      <th>Close</th>\n",
       "      <th>Yesterday Close</th>\n",
       "      <th>Price Difference</th>\n",
       "    </tr>\n",
       "    <tr>\n",
       "      <th>Date</th>\n",
       "      <th></th>\n",
       "      <th></th>\n",
       "      <th></th>\n",
       "    </tr>\n",
       "  </thead>\n",
       "  <tbody>\n",
       "    <tr>\n",
       "      <th>2017-08-09</th>\n",
       "      <td>72.470001</td>\n",
       "      <td>NaN</td>\n",
       "      <td>NaN</td>\n",
       "    </tr>\n",
       "    <tr>\n",
       "      <th>2017-08-10</th>\n",
       "      <td>71.410004</td>\n",
       "      <td>72.470001</td>\n",
       "      <td>-1.059997</td>\n",
       "    </tr>\n",
       "    <tr>\n",
       "      <th>2017-08-11</th>\n",
       "      <td>72.500000</td>\n",
       "      <td>71.410004</td>\n",
       "      <td>1.089996</td>\n",
       "    </tr>\n",
       "    <tr>\n",
       "      <th>2017-08-14</th>\n",
       "      <td>73.589996</td>\n",
       "      <td>72.500000</td>\n",
       "      <td>1.089996</td>\n",
       "    </tr>\n",
       "    <tr>\n",
       "      <th>2017-08-15</th>\n",
       "      <td>73.220001</td>\n",
       "      <td>73.589996</td>\n",
       "      <td>-0.369995</td>\n",
       "    </tr>\n",
       "  </tbody>\n",
       "</table>\n",
       "</div>"
      ],
      "text/plain": [
       "                Close  Yesterday Close  Price Difference\n",
       "Date                                                    \n",
       "2017-08-09  72.470001              NaN               NaN\n",
       "2017-08-10  71.410004        72.470001         -1.059997\n",
       "2017-08-11  72.500000        71.410004          1.089996\n",
       "2017-08-14  73.589996        72.500000          1.089996\n",
       "2017-08-15  73.220001        73.589996         -0.369995"
      ]
     },
     "execution_count": 10,
     "metadata": {},
     "output_type": "execute_result"
    }
   ],
   "source": [
    "ms.head()"
   ]
  },
  {
   "cell_type": "markdown",
   "metadata": {},
   "source": [
    "차분한 값으로부터 원래의 값 복원하기"
   ]
  },
  {
   "cell_type": "code",
   "execution_count": 11,
   "metadata": {},
   "outputs": [
    {
     "data": {
      "text/plain": [
       "Date\n",
       "2017-08-09           NaN\n",
       "2017-08-10     71.410004\n",
       "2017-08-11     72.500000\n",
       "2017-08-14     73.589996\n",
       "2017-08-15     73.220001\n",
       "                 ...    \n",
       "2022-12-21    244.429993\n",
       "2022-12-22    238.190002\n",
       "2022-12-23    238.729996\n",
       "2022-12-27    236.960007\n",
       "2022-12-28    234.529999\n",
       "Name: Price Difference, Length: 1357, dtype: float64"
      ]
     },
     "execution_count": 11,
     "metadata": {},
     "output_type": "execute_result"
    }
   ],
   "source": [
    "ms['Price Difference'].cumsum() + ms['Close'][0]"
   ]
  },
  {
   "cell_type": "markdown",
   "metadata": {},
   "source": [
    "## 일일 수익률 계산\n",
    "\n",
    "- 1 주를 계속 보유하였다고 가정.  \n",
    "\n",
    "\n",
    "- 계산 방법. \n",
    "\n",
    "- Daily Return = df/df.shift(1) - 1  \n",
    "    or\n",
    "- Daily Return[1:] = df[1:] / df[:-1].values - 1  \n",
    "    or    \n",
    "- Daily Return = df.pct_chage()"
   ]
  },
  {
   "cell_type": "code",
   "execution_count": 12,
   "metadata": {},
   "outputs": [
    {
     "data": {
      "text/html": [
       "<div>\n",
       "<style scoped>\n",
       "    .dataframe tbody tr th:only-of-type {\n",
       "        vertical-align: middle;\n",
       "    }\n",
       "\n",
       "    .dataframe tbody tr th {\n",
       "        vertical-align: top;\n",
       "    }\n",
       "\n",
       "    .dataframe thead th {\n",
       "        text-align: right;\n",
       "    }\n",
       "</style>\n",
       "<table border=\"1\" class=\"dataframe\">\n",
       "  <thead>\n",
       "    <tr style=\"text-align: right;\">\n",
       "      <th></th>\n",
       "      <th>Close</th>\n",
       "      <th>Yesterday Close</th>\n",
       "      <th>Price Difference</th>\n",
       "      <th>Return</th>\n",
       "    </tr>\n",
       "    <tr>\n",
       "      <th>Date</th>\n",
       "      <th></th>\n",
       "      <th></th>\n",
       "      <th></th>\n",
       "      <th></th>\n",
       "    </tr>\n",
       "  </thead>\n",
       "  <tbody>\n",
       "    <tr>\n",
       "      <th>2017-08-09</th>\n",
       "      <td>72.470001</td>\n",
       "      <td>NaN</td>\n",
       "      <td>NaN</td>\n",
       "      <td>NaN</td>\n",
       "    </tr>\n",
       "    <tr>\n",
       "      <th>2017-08-10</th>\n",
       "      <td>71.410004</td>\n",
       "      <td>72.470001</td>\n",
       "      <td>-1.059997</td>\n",
       "      <td>-0.014627</td>\n",
       "    </tr>\n",
       "    <tr>\n",
       "      <th>2017-08-11</th>\n",
       "      <td>72.500000</td>\n",
       "      <td>71.410004</td>\n",
       "      <td>1.089996</td>\n",
       "      <td>0.015264</td>\n",
       "    </tr>\n",
       "    <tr>\n",
       "      <th>2017-08-14</th>\n",
       "      <td>73.589996</td>\n",
       "      <td>72.500000</td>\n",
       "      <td>1.089996</td>\n",
       "      <td>0.015034</td>\n",
       "    </tr>\n",
       "    <tr>\n",
       "      <th>2017-08-15</th>\n",
       "      <td>73.220001</td>\n",
       "      <td>73.589996</td>\n",
       "      <td>-0.369995</td>\n",
       "      <td>-0.005028</td>\n",
       "    </tr>\n",
       "  </tbody>\n",
       "</table>\n",
       "</div>"
      ],
      "text/plain": [
       "                Close  Yesterday Close  Price Difference    Return\n",
       "Date                                                              \n",
       "2017-08-09  72.470001              NaN               NaN       NaN\n",
       "2017-08-10  71.410004        72.470001         -1.059997 -0.014627\n",
       "2017-08-11  72.500000        71.410004          1.089996  0.015264\n",
       "2017-08-14  73.589996        72.500000          1.089996  0.015034\n",
       "2017-08-15  73.220001        73.589996         -0.369995 -0.005028"
      ]
     },
     "execution_count": 12,
     "metadata": {},
     "output_type": "execute_result"
    }
   ],
   "source": [
    "ms['Return'] = ms['Close'] / ms['Yesterday Close'] - 1\n",
    "ms.head()"
   ]
  },
  {
   "cell_type": "code",
   "execution_count": 17,
   "metadata": {},
   "outputs": [
    {
     "data": {
      "text/plain": [
       "Date\n",
       "2017-08-10    71.410004\n",
       "2017-08-11    72.500000\n",
       "2017-08-14    73.589996\n",
       "Name: Close, dtype: float64"
      ]
     },
     "execution_count": 17,
     "metadata": {},
     "output_type": "execute_result"
    }
   ],
   "source": [
    "ms['Close'][1:][:3]"
   ]
  },
  {
   "cell_type": "code",
   "execution_count": 18,
   "metadata": {},
   "outputs": [
    {
     "data": {
      "text/plain": [
       "Date\n",
       "2017-08-10   -0.014627\n",
       "2017-08-11    0.015264\n",
       "2017-08-14    0.015034\n",
       "2017-08-15   -0.005028\n",
       "2017-08-16    0.005873\n",
       "                ...   \n",
       "2022-12-21    0.010877\n",
       "2022-12-22   -0.025529\n",
       "2022-12-23    0.002267\n",
       "2022-12-27   -0.007414\n",
       "2022-12-28   -0.010255\n",
       "Name: Close, Length: 1356, dtype: float64"
      ]
     },
     "execution_count": 18,
     "metadata": {},
     "output_type": "execute_result"
    }
   ],
   "source": [
    "ms['Close'][1:] / ms['Close'][:-1].values - 1"
   ]
  },
  {
   "cell_type": "code",
   "execution_count": 19,
   "metadata": {},
   "outputs": [
    {
     "data": {
      "text/plain": [
       "Date\n",
       "2017-08-09         NaN\n",
       "2017-08-10   -0.014627\n",
       "2017-08-11    0.015264\n",
       "2017-08-14    0.015034\n",
       "2017-08-15   -0.005028\n",
       "                ...   \n",
       "2022-12-21    0.010877\n",
       "2022-12-22   -0.025529\n",
       "2022-12-23    0.002267\n",
       "2022-12-27   -0.007414\n",
       "2022-12-28   -0.010255\n",
       "Name: Close, Length: 1357, dtype: float64"
      ]
     },
     "execution_count": 19,
     "metadata": {},
     "output_type": "execute_result"
    }
   ],
   "source": [
    "ms['Close'].pct_change()"
   ]
  },
  {
   "cell_type": "code",
   "execution_count": 22,
   "metadata": {},
   "outputs": [
    {
     "name": "stdout",
     "output_type": "stream",
     "text": [
      "1968 일간 1 주를 계속 보유하였다면 누적 수익율은\n",
      "Date\n",
      "2017-08-09         NaN\n",
      "2017-08-10    0.985373\n",
      "2017-08-11    1.000414\n",
      "2017-08-14    1.015455\n",
      "2017-08-15    1.010349\n",
      "                ...   \n",
      "2022-12-21    3.372844\n",
      "2022-12-22    3.286739\n",
      "2022-12-23    3.294191\n",
      "2022-12-27    3.269767\n",
      "2022-12-28    3.236236\n",
      "Name: Return, Length: 1357, dtype: float64\n"
     ]
    }
   ],
   "source": [
    "print(f\"{len(pd.date_range(ms.index[0], ms.index[-1]))} 일간 1 주를 계속 보유하였다면 누적 수익율은\")\n",
    "print((1+ms['Return']).cumprod())"
   ]
  },
  {
   "cell_type": "markdown",
   "metadata": {},
   "source": [
    "## 이동평균 - Moving average\n",
    "\n",
    "- DataFrame.rolling()"
   ]
  },
  {
   "cell_type": "code",
   "execution_count": 23,
   "metadata": {},
   "outputs": [
    {
     "data": {
      "text/plain": [
       "Date\n",
       "2017-08-09           NaN\n",
       "2017-08-10           NaN\n",
       "2017-08-11    168.886663\n",
       "2017-08-14    168.743332\n",
       "2017-08-15    169.943334\n",
       "                 ...    \n",
       "2022-12-21    117.110000\n",
       "2022-12-22    117.990000\n",
       "2022-12-23    118.306669\n",
       "2022-12-27    117.346667\n",
       "2022-12-28    116.846667\n",
       "Name: Close, Length: 1357, dtype: float64"
      ]
     },
     "execution_count": 23,
     "metadata": {},
     "output_type": "execute_result"
    }
   ],
   "source": [
    "# 3일 이동평균\n",
    "(fb['Close'] + fb['Close'].shift(1) + fb['Close'].shift(2)) / 3"
   ]
  },
  {
   "cell_type": "code",
   "execution_count": 24,
   "metadata": {},
   "outputs": [
    {
     "data": {
      "text/plain": [
       "Date\n",
       "2017-08-09           NaN\n",
       "2017-08-10           NaN\n",
       "2017-08-11    168.886663\n",
       "2017-08-14    168.743332\n",
       "2017-08-15    169.943334\n",
       "                 ...    \n",
       "2022-12-21    117.110000\n",
       "2022-12-22    117.990000\n",
       "2022-12-23    118.306669\n",
       "2022-12-27    117.346667\n",
       "2022-12-28    116.846667\n",
       "Name: Close, Length: 1357, dtype: float64"
      ]
     },
     "execution_count": 24,
     "metadata": {},
     "output_type": "execute_result"
    }
   ],
   "source": [
    "fb['Close'].rolling(3).mean()"
   ]
  },
  {
   "cell_type": "markdown",
   "metadata": {},
   "source": [
    "### 이동평균 계산 및 이동평균선 시각화"
   ]
  },
  {
   "cell_type": "code",
   "execution_count": 25,
   "metadata": {},
   "outputs": [
    {
     "data": {
      "text/plain": [
       "<matplotlib.legend.Legend at 0x2695d276b50>"
      ]
     },
     "execution_count": 25,
     "metadata": {},
     "output_type": "execute_result"
    },
    {
     "data": {
      "image/png": "[encoded data removed]",
      "text/plain": [
       "<Figure size 864x432 with 1 Axes>"
      ]
     },
     "metadata": {
      "needs_background": "light"
     },
     "output_type": "display_data"
    }
   ],
   "source": [
    "fb['ma30'] = fb['Close'].rolling(30).mean()\n",
    "fb['ma60'] = fb['Close'].rolling(60).mean()#plot the moving average\n",
    "\n",
    "#plot the moving average\n",
    "plt.figure(figsize=(12, 6))\n",
    "fb['ma30'].plot(label='MA30')\n",
    "fb['ma60'].plot(label='MA60')\n",
    "fb['Close'].plot(label='Close')\n",
    "plt.legend()"
   ]
  },
  {
   "cell_type": "code",
   "execution_count": 26,
   "metadata": {},
   "outputs": [
    {
     "data": {
      "image/png": "[encoded data removed]",
      "text/plain": [
       "<Figure size 864x432 with 1 Axes>"
      ]
     },
     "metadata": {
      "needs_background": "light"
     },
     "output_type": "display_data"
    }
   ],
   "source": [
    "#특정 기간을 slicing한 이동평균 plot\n",
    "plt.figure(figsize=(12, 6))\n",
    "fb['ma30'].loc['2021-01-01':'2021-12-31'].plot(label='MA30')\n",
    "fb['ma60'].loc['2021-01-01':'2021-12-31'].plot(label='MA60')\n",
    "fb['Close'].loc['2021-01-01':'2021-12-31'].plot(label='Close')\n",
    "plt.legend()\n",
    "plt.show()"
   ]
  },
  {
   "cell_type": "markdown",
   "metadata": {},
   "source": [
    "## EWMA (Exponentially-weighted moving average)\n",
    "\n",
    "\n",
    "SMA(Simple Moving Average)에는 몇 가지 \"약점\"이 있습니다.\n",
    "* window 가 작을수록 신호가 아닌 잡음이 증가합니다.\n",
    "* 항상 window 크기만큼 지연됩니다.\n",
    "* 평균화로 인해 데이터의 전체 피크 또는 계곡에 도달하지 않습니다.\n",
    "* 미래의 움직임에 대해 실제로 알려주지 않습니다. 실제로는 데이터의 trend를 묘사하는 것입니다.\n",
    "* 극단적인 historical value 로 인해 SMA가 크게 왜곡 될 수 있습니다.\n",
    "\n",
    "이러한 문제를 해결하기 위해 EWMA (지수 가중 이동 평균)를 사용할 수 있습니다."
   ]
  },
  {
   "cell_type": "code",
   "execution_count": 27,
   "metadata": {},
   "outputs": [
    {
     "data": {
      "text/html": [
       "<div>\n",
       "<style scoped>\n",
       "    .dataframe tbody tr th:only-of-type {\n",
       "        vertical-align: middle;\n",
       "    }\n",
       "\n",
       "    .dataframe tbody tr th {\n",
       "        vertical-align: top;\n",
       "    }\n",
       "\n",
       "    .dataframe thead th {\n",
       "        text-align: right;\n",
       "    }\n",
       "</style>\n",
       "<table border=\"1\" class=\"dataframe\">\n",
       "  <thead>\n",
       "    <tr style=\"text-align: right;\">\n",
       "      <th></th>\n",
       "      <th>Close</th>\n",
       "    </tr>\n",
       "    <tr>\n",
       "      <th>Date</th>\n",
       "      <th></th>\n",
       "    </tr>\n",
       "  </thead>\n",
       "  <tbody>\n",
       "    <tr>\n",
       "      <th>2019-12-31</th>\n",
       "      <td>73.412498</td>\n",
       "    </tr>\n",
       "    <tr>\n",
       "      <th>2020-01-02</th>\n",
       "      <td>75.087502</td>\n",
       "    </tr>\n",
       "    <tr>\n",
       "      <th>2020-01-03</th>\n",
       "      <td>74.357498</td>\n",
       "    </tr>\n",
       "    <tr>\n",
       "      <th>2020-01-06</th>\n",
       "      <td>74.949997</td>\n",
       "    </tr>\n",
       "    <tr>\n",
       "      <th>2020-01-07</th>\n",
       "      <td>74.597504</td>\n",
       "    </tr>\n",
       "  </tbody>\n",
       "</table>\n",
       "</div>"
      ],
      "text/plain": [
       "                Close\n",
       "Date                 \n",
       "2019-12-31  73.412498\n",
       "2020-01-02  75.087502\n",
       "2020-01-03  74.357498\n",
       "2020-01-06  74.949997\n",
       "2020-01-07  74.597504"
      ]
     },
     "execution_count": 27,
     "metadata": {},
     "output_type": "execute_result"
    }
   ],
   "source": [
    "df = yf.download('AAPL', start='2020-01-01', end='2020-06-30', progress=False)\n",
    "df.drop(['Open', 'High', 'Low', 'Adj Close', 'Volume'], axis=1, inplace=True)\n",
    "df.head()"
   ]
  },
  {
   "cell_type": "code",
   "execution_count": 28,
   "metadata": {},
   "outputs": [
    {
     "data": {
      "image/png": "[encoded data removed]",
      "text/plain": [
       "<Figure size 864x432 with 1 Axes>"
      ]
     },
     "metadata": {
      "needs_background": "light"
     },
     "output_type": "display_data"
    }
   ],
   "source": [
    "#SMA : Simple Moving Average\n",
    "\n",
    "df['SMA6'] = df['Close'].rolling(window=6).mean()\n",
    "df['SMA12'] = df['Close'].rolling(window=12).mean()\n",
    "df.plot(figsize=(12, 6));"
   ]
  },
  {
   "cell_type": "markdown",
   "metadata": {},
   "source": [
    "- EWMA를 사용하면 SMA의 지연 효과를 줄일 수 있으며 최근에 발생한 값에 더 많은 가중치를 적용합니다.  \n",
    "\n",
    "- 가장 최근 값에 적용되는 가중치는 EWMA에 사용된 실제 매개 변수와 window 크기로 지정된 기간에 따라 다릅니다.\n",
    "\n",
    "EWMA 공식은 다음과 같습니다.\n",
    "\n",
    "$$ y_t =   \\frac{\\sum\\limits_{i=0}^t w_i x_{t-i}}{\\sum\\limits_{i=0}^t w_i}$$\n",
    "\n",
    "$x_t$ 는 입력값, $w_i$ 는 적용된 weight (i=0 에서 t 사이로 변할 수 있음). $y_t$ 는 산출된 값입니다."
   ]
  },
  {
   "cell_type": "code",
   "execution_count": 29,
   "metadata": {},
   "outputs": [
    {
     "data": {
      "text/html": [
       "<div>\n",
       "<style scoped>\n",
       "    .dataframe tbody tr th:only-of-type {\n",
       "        vertical-align: middle;\n",
       "    }\n",
       "\n",
       "    .dataframe tbody tr th {\n",
       "        vertical-align: top;\n",
       "    }\n",
       "\n",
       "    .dataframe thead th {\n",
       "        text-align: right;\n",
       "    }\n",
       "</style>\n",
       "<table border=\"1\" class=\"dataframe\">\n",
       "  <thead>\n",
       "    <tr style=\"text-align: right;\">\n",
       "      <th></th>\n",
       "      <th>Close</th>\n",
       "      <th>SMA6</th>\n",
       "      <th>SMA12</th>\n",
       "      <th>EWMA12</th>\n",
       "    </tr>\n",
       "    <tr>\n",
       "      <th>Date</th>\n",
       "      <th></th>\n",
       "      <th></th>\n",
       "      <th></th>\n",
       "      <th></th>\n",
       "    </tr>\n",
       "  </thead>\n",
       "  <tbody>\n",
       "    <tr>\n",
       "      <th>2020-06-23</th>\n",
       "      <td>91.632500</td>\n",
       "      <td>88.771666</td>\n",
       "      <td>87.052082</td>\n",
       "      <td>87.036708</td>\n",
       "    </tr>\n",
       "    <tr>\n",
       "      <th>2020-06-24</th>\n",
       "      <td>90.014999</td>\n",
       "      <td>89.104167</td>\n",
       "      <td>87.606249</td>\n",
       "      <td>87.494907</td>\n",
       "    </tr>\n",
       "    <tr>\n",
       "      <th>2020-06-25</th>\n",
       "      <td>91.209999</td>\n",
       "      <td>89.656250</td>\n",
       "      <td>88.040624</td>\n",
       "      <td>88.066459</td>\n",
       "    </tr>\n",
       "    <tr>\n",
       "      <th>2020-06-26</th>\n",
       "      <td>88.407501</td>\n",
       "      <td>89.735416</td>\n",
       "      <td>88.057082</td>\n",
       "      <td>88.118927</td>\n",
       "    </tr>\n",
       "    <tr>\n",
       "      <th>2020-06-29</th>\n",
       "      <td>90.445000</td>\n",
       "      <td>90.237916</td>\n",
       "      <td>88.596249</td>\n",
       "      <td>88.476785</td>\n",
       "    </tr>\n",
       "  </tbody>\n",
       "</table>\n",
       "</div>"
      ],
      "text/plain": [
       "                Close       SMA6      SMA12     EWMA12\n",
       "Date                                                  \n",
       "2020-06-23  91.632500  88.771666  87.052082  87.036708\n",
       "2020-06-24  90.014999  89.104167  87.606249  87.494907\n",
       "2020-06-25  91.209999  89.656250  88.040624  88.066459\n",
       "2020-06-26  88.407501  89.735416  88.057082  88.118927\n",
       "2020-06-29  90.445000  90.237916  88.596249  88.476785"
      ]
     },
     "execution_count": 29,
     "metadata": {},
     "output_type": "execute_result"
    }
   ],
   "source": [
    "df['EWMA12'] = df['Close'].ewm(span=12).mean()\n",
    "df.tail()"
   ]
  },
  {
   "cell_type": "code",
   "execution_count": 30,
   "metadata": {},
   "outputs": [
    {
     "data": {
      "text/plain": [
       "<AxesSubplot:xlabel='Date'>"
      ]
     },
     "execution_count": 30,
     "metadata": {},
     "output_type": "execute_result"
    },
    {
     "data": {
      "image/png": "[encoded data removed]",
      "text/plain": [
       "<Figure size 864x432 with 1 Axes>"
      ]
     },
     "metadata": {
      "needs_background": "light"
     },
     "output_type": "display_data"
    }
   ],
   "source": [
    "df[['Close', 'EWMA12', 'SMA12']].plot(figsize=(12, 6))"
   ]
  },
  {
   "cell_type": "code",
   "execution_count": null,
   "metadata": {},
   "outputs": [],
   "source": []
  }
 ],
 "metadata": {
  "kernelspec": {
   "display_name": "Python 3 (ipykernel)",
   "language": "python",
   "name": "python3"
  },
  "language_info": {
   "codemirror_mode": {
    "name": "ipython",
    "version": 3
   },
   "file_extension": ".py",
   "mimetype": "text/x-python",
   "name": "python",
   "nbconvert_exporter": "python",
   "pygments_lexer": "ipython3",
   "version": "3.9.12"
  }
 },
 "nbformat": 4,
 "nbformat_minor": 2
}
