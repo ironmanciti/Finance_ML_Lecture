{
 "cells": [
  {
   "cell_type": "markdown",
   "id": "f629bf12",
   "metadata": {},
   "source": [
    "# 이동평균선을 이용한 Simple trading strategy \n",
    "\n",
    "- fast signal (단기 이동평균) 이 slow signal (장기 이동평균)위에 있으면 1 주 보유, 아래에 있으면 0 주 보유 전략  \n",
    "- 종가에 매수, 매도 한다고 가정. 거래비용 없다고 가정.\n",
    "\n",
    "- MA10 >= MA50 : 1 주 보유 (매수 or hold), MA10 < MA50 : 0 주 보유 (매도 or no action)  \n",
    " \n",
    "- Daily Profit 계산\n",
    "\n",
    "- 누적 수익 계산"
   ]
  },
  {
   "cell_type": "code",
   "execution_count": null,
   "id": "1c1e2c32",
   "metadata": {},
   "outputs": [],
   "source": []
  },
  {
   "cell_type": "code",
   "execution_count": null,
   "id": "7c14f67d",
   "metadata": {},
   "outputs": [],
   "source": []
  },
  {
   "cell_type": "code",
   "execution_count": null,
   "id": "65ab2645",
   "metadata": {},
   "outputs": [],
   "source": []
  },
  {
   "cell_type": "code",
   "execution_count": null,
   "id": "c91e69c9",
   "metadata": {},
   "outputs": [],
   "source": [
    "# 단기 및 장기 이동평균(MA_SHORT, MA_LONG) 계산\n",
    "# 'Adj Close' 열을 기준으로 단기 이동평균(MA_SHORT)을 계산하고 데이터프레임에 추가합니다.\n",
    "# 'Adj Close' 열을 기준으로 장기 이동평균(MA_LONG)을 계산하고 데이터프레임에 추가합니다.\n",
    "# 매매 신호(Shares)를 생성\n",
    "# 각 날짜에 대해, 단기 이동평균(MA_SHORT)이 장기 이동평균(MA_LONG)보다 크거나 같으면 1(매수),\n",
    "# 그렇지 않으면 0(매도)로 설정하여 'Shares' 열에 저장합니다."
   ]
  },
  {
   "cell_type": "code",
   "execution_count": null,
   "id": "fc5829b6",
   "metadata": {},
   "outputs": [],
   "source": []
  },
  {
   "cell_type": "code",
   "execution_count": null,
   "id": "97c6fb5d",
   "metadata": {},
   "outputs": [],
   "source": [
    "# 'Adj Close'(조정 종가)를 기준으로 다음 날의 종가(NextDay Close)를 생성\n",
    "# shift(-1)은 데이터를 한 행씩 위로 이동시켜 다음 날의 종가 데이터를 가져옵니다."
   ]
  },
  {
   "cell_type": "code",
   "execution_count": null,
   "id": "df3ec67e",
   "metadata": {},
   "outputs": [],
   "source": [
    "# 'MA_SHORT'와 'MA_LONG' 열을 시각화\n",
    "# 단기 이동평균(MA_SHORT)과 장기 이동평균(MA_LONG)을 함께 플로팅합니다.\n",
    "# 그래프 크기를 12x6으로 설정합니다.\n",
    "# 그래프의 제목을 설정합니다. short와 long 변수 값을 제목에 포함시킵니다."
   ]
  },
  {
   "cell_type": "markdown",
   "id": "3bbe1fd0",
   "metadata": {},
   "source": [
    "## Daily Profit"
   ]
  },
  {
   "cell_type": "code",
   "execution_count": null,
   "id": "b1a3b39a",
   "metadata": {},
   "outputs": [],
   "source": [
    "# 일일 수익(Daily Profit) 계산\n",
    "# 매매 신호(Shares)가 1(매수)일 때, 다음 날의 종가(NextDay Close)와 당일 조정 종가(Adj Close)의 차이를 계산하여 수익을 구합니다.\n",
    "# 매수 신호가 아닌 경우 수익은 0으로 설정합니다.\n",
    "# 데이터프레임에서 100번째부터 104번째까지의 행을 출력하여 결과를 확인합니다."
   ]
  },
  {
   "cell_type": "code",
   "execution_count": null,
   "id": "c3967366",
   "metadata": {},
   "outputs": [],
   "source": [
    "# 수익(Profit) 데이터에서 최소값, 최대값, 평균값을 계산합니다.\n",
    "# min()은 최소 수익, max()는 최대 수익, mean()은 평균 수익을 계산합니다."
   ]
  },
  {
   "cell_type": "code",
   "execution_count": null,
   "id": "3f2ee3c7",
   "metadata": {},
   "outputs": [],
   "source": [
    "# 수익(Profit) 데이터를 플로팅하여 시각화\n",
    "# y축 값이 0인 위치에 빨간색 수평선을 그립니다. \n",
    "# 빨간 선 위쪽은 수익을 낸 구간, 아래쪽은 손실을 본 구간을 나타냅니다."
   ]
  },
  {
   "cell_type": "markdown",
   "id": "54ca5465",
   "metadata": {},
   "source": [
    "## 누적 수익"
   ]
  },
  {
   "cell_type": "code",
   "execution_count": null,
   "id": "64cfff86",
   "metadata": {},
   "outputs": [],
   "source": [
    "# 'Profit' 열의 누적 합을 계산하여 'wealth'(누적 자산) 열에 저장합니다.\n",
    "# cumsum() 함수는 각 날짜까지의 수익을 누적하여 자산의 증가량을 계산합니다."
   ]
  },
  {
   "cell_type": "code",
   "execution_count": null,
   "id": "4ba70d36",
   "metadata": {},
   "outputs": [],
   "source": [
    "# 'wealth'(누적 자산)과 'Adj Close'(조정 종가) 열을 함께 시각화\n",
    "# 'wealth'와 'Adj Close' 데이터를 동일한 그래프에 플로팅하여 자산의 누적 변화와 주가 변동을 비교합니다."
   ]
  },
  {
   "cell_type": "code",
   "execution_count": null,
   "id": "dd5a7c94",
   "metadata": {},
   "outputs": [],
   "source": [
    "# 전체 기간 동안의 일수를 계산합니다.\n",
    "# 매매 전략 설명\n",
    "# MA_SHORT >= MA_LONG일 때는 1주 보유(매수 또는 홀드), MA_SHORT < MA_LONG일 때는 0주 보유(매도)를 의미합니다.\n",
    "# 해당 전략으로 전체 기간 동안 얻은 수익을 출력합니다.\n",
    "# ms.index[-2]는 마지막 날의 직전 날을 가리키며, 'wealth' 열의 값을 출력하여 수익을 확인합니다.\n",
    "# 'Adj Close', 'MA_SHORT', 'MA_LONG', 'wealth' 열을 함께 시각화\n",
    "# 그래프 크기를 16x10으로 설정하고, 종가, 단기/장기 이동평균, 그리고 누적 자산 변화를 시각화합니다.\n",
    "# 그래프 제목을 설정합니다. short와 long 변수 값을 제목에 포함시킵니다."
   ]
  },
  {
   "cell_type": "code",
   "execution_count": null,
   "id": "70a4742f",
   "metadata": {},
   "outputs": [],
   "source": []
  }
 ],
 "metadata": {
  "kernelspec": {
   "display_name": "Python 3 (ipykernel)",
   "language": "python",
   "name": "python3"
  },
  "language_info": {
   "codemirror_mode": {
    "name": "ipython",
    "version": 3
   },
   "file_extension": ".py",
   "mimetype": "text/x-python",
   "name": "python",
   "nbconvert_exporter": "python",
   "pygments_lexer": "ipython3",
   "version": "3.9.16"
  }
 },
 "nbformat": 4,
 "nbformat_minor": 5
}
