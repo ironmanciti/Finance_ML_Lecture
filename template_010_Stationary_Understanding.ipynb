{
 "cells": [
  {
   "cell_type": "markdown",
   "id": "7137f47d",
   "metadata": {},
   "source": [
    "# Stationary Time Series (정상 시계열)"
   ]
  },
  {
   "cell_type": "code",
   "execution_count": null,
   "id": "3ae56171",
   "metadata": {},
   "outputs": [],
   "source": []
  },
  {
   "cell_type": "markdown",
   "id": "b76e03a6",
   "metadata": {},
   "source": [
    "## What is Stationarity (정상성)?\n",
    "\n",
    "1. constant mean (일정한 평균)  \n",
    "2. constant variance (일정한 분산)  \n",
    "3. constant autocorrelation structure (일정한 자기상관)  \n",
    "4. no periodic component (주기 성분 없음)"
   ]
  },
  {
   "cell_type": "code",
   "execution_count": null,
   "id": "5c08c183",
   "metadata": {},
   "outputs": [],
   "source": [
    "# white noise 생성"
   ]
  },
  {
   "cell_type": "code",
   "execution_count": null,
   "id": "9025827f",
   "metadata": {},
   "outputs": [],
   "source": [
    "def plot_sequence(x, y, title):"
   ]
  },
  {
   "cell_type": "code",
   "execution_count": null,
   "id": "62faa4a3",
   "metadata": {},
   "outputs": [],
   "source": []
  },
  {
   "cell_type": "markdown",
   "id": "afc1a34a",
   "metadata": {},
   "source": [
    "- 위의 플롯에는 뚜렷한 추세나 계절성이 없습니다. 이 시계열 데이터는 4가지 정상성 조건인 일정한 평균, 일정한 분산, 일정한 자기상관, 주기 성분 없음을 충족합니다.  \n",
    "\n",
    "- 시계열의 histogram 을 plotting 하여 정규분포를 보이면 평균과 분산이 일정하다는 확신을 얻을 수 있습니다."
   ]
  },
  {
   "cell_type": "code",
   "execution_count": null,
   "id": "e5243fef",
   "metadata": {},
   "outputs": [],
   "source": []
  },
  {
   "cell_type": "markdown",
   "id": "64ea3eb3",
   "metadata": {},
   "source": [
    "## Autocorrelation Structure  (자기 상관 구조)\n",
    "\n",
    "- 특정 시점(step)이 다른 시점(step)과 수치적 연관성 있음.\n",
    "\n",
    "- 자기상관성은 difference(차분)에 의해 stationary 로 바꿀 수 있다."
   ]
  },
  {
   "cell_type": "code",
   "execution_count": null,
   "id": "d1a04a2d",
   "metadata": {},
   "outputs": [],
   "source": [
    "# seed to start series\n",
    "# 자기 상관 데이터 생성"
   ]
  },
  {
   "cell_type": "code",
   "execution_count": null,
   "id": "c22d999b",
   "metadata": {},
   "outputs": [],
   "source": []
  },
  {
   "cell_type": "markdown",
   "id": "b6c0566e",
   "metadata": {},
   "source": [
    "시계열이 균일분포 등 비정규분포를 보이면 non-stationay 라고 판단 가능"
   ]
  },
  {
   "cell_type": "code",
   "execution_count": null,
   "id": "edb919e2",
   "metadata": {},
   "outputs": [],
   "source": []
  },
  {
   "cell_type": "markdown",
   "id": "0158f62c",
   "metadata": {},
   "source": [
    "## non-stationary (비정상) data의 특징\n",
    "\n",
    "1. Trend (평균의 변화)가 존재\n",
    "2. 이분산성(변동 분산)  \n",
    "3. Seasonality (계절성, 주기적 구성요소)  \n",
    "4. Trend + Seasonality"
   ]
  },
  {
   "cell_type": "markdown",
   "id": "e5c67cce",
   "metadata": {},
   "source": [
    "### Trend\n",
    "\n",
    "평균이 시간이 지남에 따라 변하므로 non-stationary"
   ]
  },
  {
   "cell_type": "code",
   "execution_count": null,
   "id": "86574c8e",
   "metadata": {},
   "outputs": [],
   "source": []
  },
  {
   "cell_type": "markdown",
   "id": "52237406",
   "metadata": {},
   "source": [
    "### 이분산성(변동 분산)\n",
    "\n",
    "시간에 따른 분산의 변화"
   ]
  },
  {
   "cell_type": "code",
   "execution_count": null,
   "id": "1d2ae52e",
   "metadata": {},
   "outputs": [],
   "source": [
    "# 평균 0, 표준편차 1.0인 정규분포에서 250개의 데이터를 생성하여 level_1에 저장합니다.\n",
    "# 평균 0, 표준편차 10.0인 정규분포에서 250개의 데이터를 생성하여 level_2에 저장합니다.\n",
    "# level_1과 level_2 데이터를 합쳐 하나의 배열로 만듭니다.\n",
    "# 시간과 데이터를 사용하여 비정상적인 시계열 데이터를 플로팅합니다.\n",
    "# 이 시계열 데이터는 시간에 따라 분산이 달라지는 특징을 가집니다."
   ]
  },
  {
   "cell_type": "markdown",
   "id": "431bfe91",
   "metadata": {},
   "source": [
    "### Seasonality\n",
    "\n",
    "- 정상 시계열은 시계열이 관측되는 시간에 따라 속성이 달라지지 않는 시계열입니다. 따라서 추세가 있는 시계열 또는 계절성이 있는 시계열은 고정적이지 않습니다. 추세와 계절성은 다른 시간에 시계열 값에 영향을 미칩니다.\n",
    "\n",
    "- 주기적인 요소가 있으므로 non-stationary"
   ]
  },
  {
   "cell_type": "code",
   "execution_count": null,
   "id": "7811da3c",
   "metadata": {},
   "outputs": [],
   "source": [
    "# 계절성(seasonality) 데이터 생성\n",
    "# time에 따른 sin 함수로 계절성을 만들고, 이를 10으로 스케일링한 뒤 기본값으로 10을 더해 줍니다.\n",
    "# 생성된 계절성 데이터를 시간과 함께 플로팅합니다.\n",
    "# 이 시계열 데이터는 주기적인 패턴(계절성)을 나타냅니다."
   ]
  },
  {
   "cell_type": "markdown",
   "id": "00ca858f",
   "metadata": {},
   "source": [
    "### Trend + Seasonality\n",
    "\n",
    "평균이 시간이 지남에 따라 변하고 주기적인 구성 요소가 있으므로 non-stationary"
   ]
  },
  {
   "cell_type": "code",
   "execution_count": null,
   "id": "7aa281c4",
   "metadata": {},
   "outputs": [],
   "source": [
    "# 트렌드, 계절성, 정상성 데이터를 결합한 시계열 데이터 생성\n",
    "# 기존의 트렌드(trend)에 계절성(seasonality)을 10배 스케일링하여 더하고, \n",
    "# 정상성(stationary) 데이터를 더하여 트렌드 + 계절성 + 정상성을 가진 시계열을 만듭니다.\n",
    "# 생성된 트렌드와 계절성을 포함한 시계열 데이터를 시간과 함께 플로팅합니다.\n",
    "# 그래프 제목은 \"Nonstationary Time Series : Trend + Seasonality\"로 설정합니다."
   ]
  },
  {
   "cell_type": "markdown",
   "id": "95599149",
   "metadata": {},
   "source": [
    "### autocorrelation + trend"
   ]
  },
  {
   "cell_type": "code",
   "execution_count": null,
   "id": "5de503de",
   "metadata": {},
   "outputs": [],
   "source": [
    "# 자기상관(autocorrelation)과 트렌드를 결합한 시계열 데이터 생성\n",
    "# 기존의 트렌드(trend)에 자기상관(lagged)을 10배 스케일링하여 더한 시계열 데이터를 만듭니다.\n",
    "# 생성된 자기상관과 트렌드를 포함한 시계열 데이터를 시간과 함께 플로팅합니다.\n",
    "# 그래프 제목은 \"Nonstationary Time Series : Autocorrelation + Trend\"로 설정합니다."
   ]
  },
  {
   "cell_type": "markdown",
   "id": "c4319cdf",
   "metadata": {},
   "source": [
    "### Regime changes\n",
    "\n",
    "regime change 는 structural break 라고도 하며 data 생성 과정에 변화가 생겨 다른 분포를 만들 때를 뜻한다. 아래의 예는 regime change 가 있어서 전체 data set 을 regression 하는 것보다 data 를 쪼개는 것이 더 잘 맞는 경우를 보여준다. 이런 경우 기저에 깔린 시스템이 변하였으므로 model 이 regime change 이후의 data 에는 더 이상 predictive 하지 못한다. \n",
    "\n",
    "따라서, 주식 시장에 공식을 적용할 때는 regime change 여부를 매번 검증해야 한다."
   ]
  },
  {
   "cell_type": "code",
   "execution_count": null,
   "id": "695d9448",
   "metadata": {},
   "outputs": [],
   "source": [
    "# 시간(time)의 크기를 두 배로 늘린 새로운 시간(time2) 배열을 생성합니다.\n",
    "# 새로운 트렌드(trend2)를 생성합니다. 시간에 음의 상관관계를 가진 트렌드에 정상성(stationary) 데이터를 50배 스케일링하여 더합니다.\n",
    "# 기존의 트렌드(trend)와 새로운 트렌드(trend2)를 결합하여 금융 위기 시나리오를 나타내는 시계열 데이터를 만듭니다.\n",
    "# 생성된 금융 위기 시나리오 데이터를 시간(time2)과 함께 플로팅합니다.\n",
    "# 그래프 제목을 \"Nonstationary Time Series - Financial Crisis\"로 설정합니다."
   ]
  },
  {
   "cell_type": "markdown",
   "id": "beefa8cf",
   "metadata": {},
   "source": [
    "## Differencing 으로 Autocorrelation 제거"
   ]
  },
  {
   "cell_type": "code",
   "execution_count": null,
   "id": "77a9d4fb",
   "metadata": {},
   "outputs": [],
   "source": [
    "# 시간(time)과 지연된(lagged) 구조 데이터를 사용하여 시계열을 플로팅합니다.\n",
    "# 이 시계열 데이터는 지연된 패턴을 포함하고 있습니다."
   ]
  },
  {
   "cell_type": "code",
   "execution_count": null,
   "id": "348bda21",
   "metadata": {},
   "outputs": [],
   "source": [
    "# 지연된(lagged) 데이터에서 차분을 구합니다.\n",
    "# 첫 번째 값부터 끝에서 하나 전까지의 값에서 두 번째 값부터 마지막 값까지의 차이를 계산하여 차분(difference)을 생성합니다.\n",
    "# 차분한 데이터를 시간(time)의 첫 번째 값부터 끝에서 하나 전까지의 시간과 함께 플로팅합니다.\n",
    "# 이 시계열 데이터는 차분을 통해 정상적인 시계열로 변환된 모습을 보여줍니다."
   ]
  },
  {
   "cell_type": "code",
   "execution_count": null,
   "id": "d09ad52d",
   "metadata": {},
   "outputs": [],
   "source": []
  },
  {
   "cell_type": "markdown",
   "id": "bc827ae7",
   "metadata": {},
   "source": [
    "## pandas autocorrelation_plot\n",
    "\n",
    "- Time series 가 random 한 경우 autocorrelation 은 모든 time-lag 에서 zero 에 가까워야 함  \n",
    "\n",
    "- Time series 가 non-random 한 경우 하나 이상의 autocorrelation 이 크게 non-zero 값을 보임  \n",
    "\n",
    "- 플롯의 수평선은 95% 및 99% 신뢰 대역에 해당. 점선은 99% 신뢰 구간."
   ]
  },
  {
   "cell_type": "code",
   "execution_count": null,
   "id": "f301aafd",
   "metadata": {},
   "outputs": [],
   "source": [
    "# 정상성 데이터를 시각화\n",
    "# 두 개의 서브플롯을 생성합니다. fig는 전체 그림을 나타내며, ax1과 ax2는 각 서브플롯을 의미합니다.\n",
    "# 첫 번째 서브플롯(ax1)에서는 정상성 데이터를 기반으로 한 자기상관(autocorrelation)을 시각화합니다.\n",
    "# 두 번째 서브플롯(ax2)에서는 정상성 데이터를 'k-'(검은색 실선)으로 플로팅합니다."
   ]
  },
  {
   "cell_type": "code",
   "execution_count": null,
   "id": "0b31e6cc",
   "metadata": {},
   "outputs": [],
   "source": [
    "# 자기 상관 데이터를 시각화\n",
    "# 두 개의 서브플롯을 생성합니다. fig는 전체 그림을 나타내며, ax1과 ax2는 각각의 서브플롯을 의미합니다.\n",
    "# 첫 번째 서브플롯(ax1)에서는 lagged 데이터를 기반으로 한 자기상관(autocorrelation)을 시각화합니다.\n",
    "# 두 번째 서브플롯(ax2)에서는 lagged 데이터를 'k-'(검은색 실선)으로 플로팅합니다."
   ]
  },
  {
   "cell_type": "code",
   "execution_count": null,
   "id": "18a5c41d",
   "metadata": {},
   "outputs": [],
   "source": [
    "# 금융 위기 시나리오 데이터를 시각화\n",
    "# 두 개의 서브플롯을 생성합니다. fig는 전체 그림을 나타내며, ax1과 ax2는 각각의 서브플롯을 의미합니다.\n",
    "# 첫 번째 서브플롯(ax1)에서는 financial_crisis 데이터를 기반으로 한 자기상관(autocorrelation)을 시각화합니다.\n",
    "# 두 번째 서브플롯(ax2)에서는 financial_crisis 데이터를 'k-'(검은색 실선)으로 플로팅합니다."
   ]
  },
  {
   "cell_type": "code",
   "execution_count": null,
   "id": "ba9ea452",
   "metadata": {},
   "outputs": [],
   "source": [
    "# 트렌드와 계절성 데이터(trend_seasonality)를 시각화\n",
    "# 두 개의 서브플롯을 생성합니다. fig는 전체 그림을 나타내며, ax1과 ax2는 각각의 서브플롯을 의미합니다.\n",
    "# 첫 번째 서브플롯(ax1)에서는 trend_seasonality 데이터를 기반으로 한 자기상관(autocorrelation)을 시각화합니다.\n",
    "# 두 번째 서브플롯(ax2)에서는 trend_seasonality 데이터를 'k-'(검은색 실선)으로 플로팅합니다."
   ]
  },
  {
   "cell_type": "code",
   "execution_count": null,
   "id": "2b678bd5",
   "metadata": {},
   "outputs": [],
   "source": []
  }
 ],
 "metadata": {
  "kernelspec": {
   "display_name": "Python 3 (ipykernel)",
   "language": "python",
   "name": "python3"
  },
  "language_info": {
   "codemirror_mode": {
    "name": "ipython",
    "version": 3
   },
   "file_extension": ".py",
   "mimetype": "text/x-python",
   "name": "python",
   "nbconvert_exporter": "python",
   "pygments_lexer": "ipython3",
   "version": "3.9.16"
  }
 },
 "nbformat": 4,
 "nbformat_minor": 5
}
