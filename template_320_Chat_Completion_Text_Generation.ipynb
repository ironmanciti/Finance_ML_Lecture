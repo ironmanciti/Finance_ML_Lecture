{
 "cells": [
  {
   "cell_type": "markdown",
   "id": "c5a91499-2154-45fc-b4b0-10c888d61c6d",
   "metadata": {},
   "source": [
    "# Text Generation Using OpenAI Models"
   ]
  },
  {
   "cell_type": "markdown",
   "id": "94635dde-ab9f-4d32-b3aa-5db234bb122d",
   "metadata": {},
   "source": [
    "## Chat Completion API"
   ]
  },
  {
   "cell_type": "code",
   "execution_count": null,
   "id": "5402ef56",
   "metadata": {},
   "outputs": [],
   "source": []
  },
  {
   "cell_type": "markdown",
   "id": "09ecb901-f941-40c2-9dcb-e68d6738823a",
   "metadata": {},
   "source": [
    "- 메시지는 메시지 개체의 배열이어야 하며, 각 개체에는role(“system\", “user\" 또는 “assistant\")과 content가 있습니다. 대화는 하나의 메시지만큼 짧을 수도 있고 여러 번 주고받을 수도 있습니다.\n",
    "- 대화는 먼저 system 메시지로 형식화되고 이어서 user 메시지와 assistanc 메시지가 교대로 표시됩니다.  \n",
    "- system 메시지는 assistant의 동작을 설정하는 데 도움이 됩니다. 예를 들어, assitant의 성격을 수정하거나 대화 전반에 걸쳐 assistant가 어떻게 행동해야 하는지에 대한 구체적인 지침을 제공할 수 있습니다. 그러나 system 메시지는 선택 사항이며 system 메시지가 없는 모델의 동작은 \"당신은 도움이 되는 조수입니다\"와 같은 일반적인 메시지를 사용하는 것과 유사할 가능성이 높습니다.  \n",
    "- \n",
    "User 메시지는 assistant가 응답할 요청이나 설명을 제공합니다. Assistant 메시지는 이전 assistant 응답을 저장하지만 원하는 동작의 예를 제공하기 위해 user가 작성할 수도 있습니다  .- \n",
    "사용자 지침이 이전 메시지를 참조할 때 대화 기록을 포함하는 것이 중요합니다. 위의 예에서 사용자의 마지막 질문인 \" Where was it played?\" 는 2020년 월드 시리즈에 대한 이전 메시지의 context 에서만 의미가 있습니다. 모델에는 과거 요청에 대한 기억이 없기 때문에 모든 관련 정보는 각 요청의 대화 기록의 일부로 제공되어야 합니다. 대화가 모델의 토큰 제한에 맞지 않으면 어떤 방식으로든 줄여야 합니다 .\n",
    "\n"
   ]
  },
  {
   "cell_type": "code",
   "execution_count": null,
   "id": "e24da7ab",
   "metadata": {},
   "outputs": [],
   "source": []
  },
  {
   "cell_type": "code",
   "execution_count": null,
   "id": "28fab0d7",
   "metadata": {},
   "outputs": [],
   "source": []
  },
  {
   "cell_type": "code",
   "execution_count": null,
   "id": "716b3ed9",
   "metadata": {},
   "outputs": [],
   "source": []
  },
  {
   "cell_type": "markdown",
   "id": "444715f4-8b62-4c16-a9d3-aa037d3fb67e",
   "metadata": {},
   "source": [
    "### 모든 응답에는 'finish_reason'이 포함되며, 'finish_reason'의 가능한 값은 다음과 같습니다:\n",
    "- stop: API가 완전한 메시지를 반환하거나, stop 매개변수를 통해 제공된 중단 시퀀스 중 하나에 의해 메시지가 종료됨\n",
    "- length: max_tokens 매개변수 또는 토큰 제한으로 인해 완전하지 않은 모델 출력\n",
    "- function_call: 모델이 함수를 호출하기로 결정함"
   ]
  },
  {
   "cell_type": "code",
   "execution_count": null,
   "id": "b4c7088e",
   "metadata": {},
   "outputs": [],
   "source": []
  },
  {
   "cell_type": "markdown",
   "id": "d884b7e7-03d3-4668-8f5b-0e7b447dbeb5",
   "metadata": {},
   "source": [
    "## Token 관리\n",
    "- \"ChatGPT is great!“ 는 6개의 토큰으로 인코딩됩니다 $\\rightarrow$ [\"Chat\", \"G\", \"PT\", \" is\", \" great\", \"!\"]\n",
    "- 예를 들어, API 호출이 메시지 입력에서 10개의 토큰을 사용하고 메시지 출력에서 ​​20개의 토큰을 받은 경우 30개의 토큰에 대한 요금이 청구됩니다.\n"
   ]
  },
  {
   "cell_type": "code",
   "execution_count": null,
   "id": "2a48bde7",
   "metadata": {},
   "outputs": [],
   "source": []
  },
  {
   "cell_type": "code",
   "execution_count": null,
   "id": "54c48cbf",
   "metadata": {},
   "outputs": [],
   "source": []
  },
  {
   "cell_type": "code",
   "execution_count": null,
   "id": "15e1d6da",
   "metadata": {},
   "outputs": [],
   "source": []
  },
  {
   "cell_type": "markdown",
   "id": "0a1ee675-3846-4039-84d8-d87fafb9e3f5",
   "metadata": {},
   "source": [
    "### 기타 parameters\n",
    "\n",
    "seed - 응답 생성을 제어하기 위한 시드 값입니다. 동일한 입력에 대해 항상 같은 결과를 얻을 수 있습니다. 이는 재현 가능성을 위해 사용됩니다.  \n",
    "max_tokens - 응답의 최대 토큰 수를 설정하는 파라미터입니다.  \n",
    "temperature - 창의성과 무작위성을 제어하는 파라미터입니다. 값은 0에서 2 사이로 설정됩니다. 낮은 값(0.0)에 가까울수록모델이 더 결정적인 응답을 생성하며, 덜 창의적이고 더 예측 가능한 응답을 제공합니다. 높은 값(2.0)에 가까울수록 모델이 더 창의적이고 무작위성이 높은 응답을 생성합니다. "
   ]
  },
  {
   "cell_type": "code",
   "execution_count": null,
   "id": "b271065f",
   "metadata": {},
   "outputs": [],
   "source": []
  },
  {
   "cell_type": "code",
   "execution_count": null,
   "id": "d3adf373",
   "metadata": {},
   "outputs": [],
   "source": []
  },
  {
   "cell_type": "code",
   "execution_count": null,
   "id": "20f44428",
   "metadata": {},
   "outputs": [],
   "source": []
  }
 ],
 "metadata": {
  "kernelspec": {
   "display_name": "Python 3 (ipykernel)",
   "language": "python",
   "name": "python3"
  },
  "language_info": {
   "codemirror_mode": {
    "name": "ipython",
    "version": 3
   },
   "file_extension": ".py",
   "mimetype": "text/x-python",
   "name": "python",
   "nbconvert_exporter": "python",
   "pygments_lexer": "ipython3",
   "version": "3.9.16"
  }
 },
 "nbformat": 4,
 "nbformat_minor": 5
}
