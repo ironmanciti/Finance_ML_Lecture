{
 "cells": [
  {
   "cell_type": "markdown",
   "id": "e665c837",
   "metadata": {},
   "source": [
    "# Time Series data 시각화"
   ]
  },
  {
   "cell_type": "code",
   "execution_count": null,
   "id": "e8ff7640",
   "metadata": {},
   "outputs": [],
   "source": [
    "#한글 폰트 사용"
   ]
  },
  {
   "cell_type": "markdown",
   "id": "e4781853",
   "metadata": {},
   "source": [
    "### 원달러 환율 시각화\n",
    "\n",
    "- FRED(Federal Reserve Economic Data) 에서 원달러 환율 가져오기\n",
    "\n",
    "`DEXKOUS` - South Korea Won-Dollar 환율"
   ]
  },
  {
   "cell_type": "code",
   "execution_count": null,
   "id": "127c02d4",
   "metadata": {},
   "outputs": [],
   "source": [
    "# FRED에서 'DEXKOUS' 데이터를 2015-01-01부터 불러옵니다 (원-달러 환율 데이터)."
   ]
  },
  {
   "cell_type": "markdown",
   "id": "b628de87",
   "metadata": {},
   "source": [
    "## cufflinks 로 candle chart 그리기\n",
    "\n",
    "cufflinks라이브러리 자체에서 plotly 와 연동이 되어서 예쁘고 쉽게 그래프를 그릴 수 있다."
   ]
  },
  {
   "cell_type": "code",
   "execution_count": null,
   "id": "2610e8b0",
   "metadata": {},
   "outputs": [],
   "source": [
    "# pip install cufflinks\n",
    "# 설정을 한번만 실행합니다.\n",
    "# world_readable=True는 생성된 그래프가 다른 사람과 공유될 수 있음을 의미합니다.\n",
    "# theme='pearl'은 그래프의 테마를 진주 색상으로 설정합니다.\n",
    "# offline=True는 오프라인에서 그래프를 표시할 수 있게 합니다.\n",
    "# 노트북 환경에서 그래프가 표시될 수 있도록 초기화합니다."
   ]
  },
  {
   "cell_type": "markdown",
   "id": "2e323d8a",
   "metadata": {},
   "source": [
    "`df.iplot` : plotly chart 그리기  \n",
    "- shape : figure의 shape  \n",
    "- default plot : line chart"
   ]
  },
  {
   "cell_type": "code",
   "execution_count": null,
   "id": "efcd837f",
   "metadata": {},
   "outputs": [],
   "source": [
    "# 삼성전자 주가"
   ]
  },
  {
   "cell_type": "code",
   "execution_count": null,
   "id": "7faba52e",
   "metadata": {},
   "outputs": [],
   "source": []
  },
  {
   "cell_type": "markdown",
   "id": "487c0240",
   "metadata": {},
   "source": [
    "candle stick 생성 \n",
    "\n",
    "- EMA : Exponential Moving Average. \n",
    "- SMA : Simple Moving Average"
   ]
  },
  {
   "cell_type": "code",
   "execution_count": null,
   "id": "f06becba",
   "metadata": {},
   "outputs": [],
   "source": [
    "# 노트북 환경에서 plotly 그래프가 정상적으로 표시될 수 있도록 초기화합니다.\n",
    "# 데이터프레임에서 2019-05-01부터 2019-08-31까지의 데이터를 선택합니다.\n",
    "# QuantFig 객체를 생성합니다. 삼성전자 주가 데이터를 시각화하기 위한 객체입니다.\n",
    "# title은 그래프의 제목, legend는 범례의 위치, name은 그래프의 이름입니다.\n",
    "# 주가 그래프에 거래량 데이터를 추가합니다.\n",
    "# 5일 단순 이동평균선(SMA)을 추가합니다. 노란색으로 표시됩니다.\n",
    "# 10일 단순 이동평균선(SMA)을 추가합니다. 파란색으로 표시됩니다.\n",
    "# 20일 단순 이동평균선(SMA)을 추가합니다. 빨간색으로 표시됩니다.\n",
    "# 20일 지수 이동평균선(EMA)을 추가합니다. 초록색으로 표시됩니다.\n",
    "# 인터랙티브한 그래프를 표시합니다."
   ]
  },
  {
   "cell_type": "markdown",
   "id": "e5f46a1a",
   "metadata": {},
   "source": [
    "# 시각화를 통한 주식 시장의 변동 장기 분석\n",
    "- 역사적 바닥, 천장 시각화  \n",
    "- 미국, 한국 시장, 금리 비교  \n",
    "- 비트코인 추세 시각화"
   ]
  },
  {
   "cell_type": "markdown",
   "id": "8888a13b",
   "metadata": {},
   "source": [
    "- 1970 년대 이후의 다우 존수 종합 지수 변동 시각화"
   ]
  },
  {
   "cell_type": "code",
   "execution_count": null,
   "id": "f8557219",
   "metadata": {},
   "outputs": [],
   "source": [
    "# 파일을 읽어옵니다. 첫 번째 열을 인덱스로 사용하고, 날짜를 파싱하여 datetime 형식으로 변환합니다."
   ]
  },
  {
   "cell_type": "code",
   "execution_count": null,
   "id": "a86e8aff",
   "metadata": {},
   "outputs": [],
   "source": []
  },
  {
   "cell_type": "code",
   "execution_count": null,
   "id": "377edb38",
   "metadata": {},
   "outputs": [],
   "source": [
    "# 다우존스 지수(\"^DJI\") 데이터를 2022년 1월 21일부터 불러옵니다."
   ]
  },
  {
   "cell_type": "code",
   "execution_count": null,
   "id": "e9f6a52f",
   "metadata": {},
   "outputs": [],
   "source": [
    "# 두 개의 데이터프레임 dji1과 dji2를 위아래로(concat) 결합합니다.\n",
    "# dji1은 과거 데이터(1970년부터), dji2는 최근 데이터(2022년부터)입니다."
   ]
  },
  {
   "cell_type": "code",
   "execution_count": null,
   "id": "9c6b1ed0",
   "metadata": {},
   "outputs": [],
   "source": []
  },
  {
   "cell_type": "code",
   "execution_count": null,
   "id": "33a79dea",
   "metadata": {},
   "outputs": [],
   "source": [
    "# 파일을 읽어옵니다. 첫 번째 줄은 헤더로 간주되며, 열 이름을 'date'와 'rate'로 지정합니다.\n",
    "# 'date' 열을 datetime 형식으로 변환하여 날짜 데이터를 처리할 수 있도록 합니다.\n",
    "# 'date' 열을 데이터프레임의 인덱스로 설정하여 날짜를 기준으로 데이터에 접근할 수 있도록 합니다."
   ]
  },
  {
   "cell_type": "code",
   "execution_count": null,
   "id": "40a7be3c",
   "metadata": {},
   "outputs": [],
   "source": [
    "# 다우존스 산업 지수에서 'Close' 열(종가)을 그래프로 플로팅합니다."
   ]
  },
  {
   "cell_type": "markdown",
   "id": "e0a7d8ab",
   "metadata": {},
   "source": [
    "가격의 변화가 큰 경우 y 축을 log scale로 취하면 실제 가격 변동률의 착시 현상을 없앨 수 있다. (같은 등락률이 같은 길이로 표현)"
   ]
  },
  {
   "cell_type": "code",
   "execution_count": null,
   "id": "1518a211",
   "metadata": {},
   "outputs": [],
   "source": [
    "# 1행 1열짜리 서브플롯을 추가합니다.\n",
    "# 다우존스 산업 지수의 1976년 6월 이후의 'Close' 데이터를 서브플롯에 플로팅합니다.\n",
    "# y축 스케일을 로그(log) 스케일로 설정합니다.\n",
    "# 서브플롯의 제목을 \"다우존스 산업 지수\"로 설정합니다.\n",
    "# y축 레이블을 'log scale'로 설정합니다.\n",
    "# 2년 만기 미국채 금리 데이터를 별도로 플로팅합니다.\n",
    "# 그래프의 제목을 \"2년 만기 미국채 금리\"로 설정합니다."
   ]
  },
  {
   "cell_type": "markdown",
   "id": "2d3483ea",
   "metadata": {},
   "source": [
    "### 1973~74년 1차 오일 쇼크\n",
    "- 1979년 이란 혁명. 전세계적으로 물가는 상승하면서 실업 등의 문제는 오히려 심각해지는 스태그플레이션이 나타났으며, 미국의 FRB는 급작스럽게 불어난 달러를 미국 은행으로 회수하기 위해 금리를 21%까지 인상"
   ]
  },
  {
   "cell_type": "code",
   "execution_count": null,
   "id": "047b90fa",
   "metadata": {},
   "outputs": [],
   "source": [
    "# 2년 만기 미국채 금리 데이터(bond)에서 1976년 6월 1일부터 1985년 12월 31일까지의 데이터를 선택합니다."
   ]
  },
  {
   "cell_type": "code",
   "execution_count": null,
   "id": "5957e068",
   "metadata": {},
   "outputs": [],
   "source": [
    "# 1976년 6월 1일부터 1985년 12월 31일까지의 다우존스 공업평균 지수(Close)를 선택합니다.\n",
    "# 다우존스 공업평균 지수를 플로팅하고, label을 \"다우존스 공업평균 지수\"로 설정합니다.\n",
    "# 그래프의 제목을 \"1차 오일 쇼크 - 다우존스\"로 설정합니다.\n",
    "# 1976년 6월 1일부터 1985년 12월 31일까지의 10년 만기 미국채 금리 데이터를 플로팅하고, label을 \"10년 만기 US Bond 금리\"로 설정합니다."
   ]
  },
  {
   "cell_type": "code",
   "execution_count": null,
   "id": "a16b290e",
   "metadata": {},
   "outputs": [],
   "source": [
    "# 다우존스 공업평균 지수에서 최고점을 출력합니다.\n",
    "# idxmax()는 최고점이 발생한 날짜를, max()는 해당 날짜의 지수 값을 반환합니다.\n",
    "# 다우존스 공업평균 지수에서 최저점을 출력합니다.\n",
    "# idxmin()은 최저점이 발생한 날짜를, min()은 해당 날짜의 지수 값을 반환합니다.\n",
    "# 최대값과 최저값을 이용하여 최대 하락폭(Drawdown)을 계산하고, 소수점 첫째 자리까지 출력합니다.\n",
    "# Drawdown = (최고점 - 최저점) / 최고점 * 100으로 계산됩니다."
   ]
  },
  {
   "cell_type": "markdown",
   "id": "e7ecc995",
   "metadata": {},
   "source": [
    "### Dow Jones 1974 년 바닥 이후 V자 급등"
   ]
  },
  {
   "cell_type": "code",
   "execution_count": null,
   "id": "fc96760c",
   "metadata": {},
   "outputs": [],
   "source": [
    "# 1974년 10월 1일부터 1975년 8월 31일까지의 다우존스 공업평균 지수(Close)를 선택합니다.\n",
    "# 다우존스 공업평균 지수를 플로팅하고, label을 \"다우존스 공업평균 지수\"로 설정합니다."
   ]
  },
  {
   "cell_type": "code",
   "execution_count": null,
   "id": "82263e06",
   "metadata": {},
   "outputs": [],
   "source": []
  },
  {
   "cell_type": "markdown",
   "id": "cce4feae",
   "metadata": {},
   "source": [
    "### dot-com bubble (2000 년 3월)\n",
    "- 인터넷 관련 분야가 성장하면서 산업 국가의 주식 시장이 지분 가격의 급속한 상승을 본 1995년부터 닷컴 버블이 붕괴된 2001년까지 걸친 거품 경제 현상\n",
    "\n",
    "### 버블 붕괴 시의 다우존스 지수 하락"
   ]
  },
  {
   "cell_type": "code",
   "execution_count": null,
   "id": "4f36a31c",
   "metadata": {},
   "outputs": [],
   "source": []
  },
  {
   "cell_type": "code",
   "execution_count": null,
   "id": "79175901",
   "metadata": {},
   "outputs": [],
   "source": []
  },
  {
   "cell_type": "markdown",
   "id": "a7165d0a",
   "metadata": {},
   "source": [
    "### 2000 년 3월 dot-com bubble의 Nasdaq 붕괴\n",
    "1) 3/7 거래량이 크게 증가하며 하락  \n",
    "2) 3/10 오전장에서만 85 포인트 뛰어 오르며 사상 최고치 경신. 오후에 급락하여 불과 2 포인트 상승으로 마감.  거래량은 평균치 보다 13%나 많음. stall day (기관이 팔고 있다는 표시)  \n",
    "3) 3/14 대량 거래와 함께 4%나 하락  \n",
    "4) 3/16~24 까지 상승세. 랠리가 다시 시작되는 것 아닌가 하는 착각을 불러 일으킴.  \n",
    "5) 4번째 매물 출회되며 상승세에 찬물을 끼얹음.  stall day.  \n",
    "6) 5번째 매물 출회"
   ]
  },
  {
   "cell_type": "code",
   "execution_count": null,
   "id": "2229716e",
   "metadata": {},
   "outputs": [],
   "source": []
  },
  {
   "cell_type": "code",
   "execution_count": null,
   "id": "8f9e794b",
   "metadata": {},
   "outputs": [],
   "source": []
  },
  {
   "cell_type": "markdown",
   "id": "7508b075",
   "metadata": {},
   "source": [
    "### Nasdaq 지수의 2003 년 바닥 확인 후 V자 상승"
   ]
  },
  {
   "cell_type": "code",
   "execution_count": null,
   "id": "ca980009",
   "metadata": {},
   "outputs": [],
   "source": []
  },
  {
   "cell_type": "code",
   "execution_count": null,
   "id": "fb00d25e",
   "metadata": {},
   "outputs": [],
   "source": []
  },
  {
   "cell_type": "markdown",
   "id": "9f7ebe56",
   "metadata": {},
   "source": [
    "### 금융위기 (2007 - 2010)\n",
    "-  2007년 4월(서브프라임 모기지 사태) 또는 2008년 9월부터 미국에서 시작된 세계 규모의 경제 위기"
   ]
  },
  {
   "cell_type": "code",
   "execution_count": null,
   "id": "be175c63",
   "metadata": {},
   "outputs": [],
   "source": []
  },
  {
   "cell_type": "code",
   "execution_count": null,
   "id": "c198010c",
   "metadata": {},
   "outputs": [],
   "source": []
  },
  {
   "cell_type": "markdown",
   "id": "cbbe0ebb",
   "metadata": {},
   "source": [
    "### 2019년 코로나 팬데믹과 2022년의 하락세\n",
    "\n",
    "- 2019년 12월 중국 우한에서 최초 발생  \n",
    "- 한국 종합주가 지수와 비교"
   ]
  },
  {
   "cell_type": "code",
   "execution_count": null,
   "id": "21b37335",
   "metadata": {},
   "outputs": [],
   "source": []
  },
  {
   "cell_type": "code",
   "execution_count": null,
   "id": "f667a94d",
   "metadata": {},
   "outputs": [],
   "source": []
  },
  {
   "cell_type": "code",
   "execution_count": null,
   "id": "fe97636b",
   "metadata": {},
   "outputs": [],
   "source": [
    "# 2018년 12월 1일부터 2020년 4월 1일까지의 다우존스 공업평균 지수(Close)를 선택합니다.\n",
    "# KOSPI 종합주가지수에서 'Close' 열을 선택합니다.\n",
    "# 나스닥 지수에서 'Close' 열을 선택합니다.\n",
    "# 다우존스 지수를 기준으로 첫 번째 값으로 나누어 백분율로 변환합니다.\n",
    "# 종합주가지수를 기준으로 첫 번째 값으로 나누어 백분율로 변환합니다.\n",
    "# 나스닥 지수를 기준으로 첫 번째 값으로 나누어 백분율로 변환합니다.\n",
    "# 다우존스 지수를 플로팅하고, label을 '다우존스지수'로 설정합니다.\n",
    "# 종합주가지수를 플로팅하고, label을 '종합주가지수'로 설정합니다.\n",
    "# 나스닥 지수를 플로팅하고, label을 '나스닥지수'로 설정합니다.\n",
    "# 그래프의 제목을 \"다우존스 공업평균 vs 종합주가 지수 vs 나스닥지수\"로 설정합니다.\n",
    "# 그래프에 범례(legend)를 추가하여 플로팅된 라인의 레이블을 표시합니다.\n",
    "# 다우존스 지수의 최고점, 최저점 및 드로우다운(Drawdown) 출력\n",
    "# 종합주가지수의 최고점, 최저점 및 드로우다운(Drawdown) 출력\n",
    "# 나스닥 지수의 최고점, 최저점 및 드로우다운(Drawdown) 출력"
   ]
  },
  {
   "cell_type": "markdown",
   "id": "3186257c",
   "metadata": {},
   "source": [
    "### 2020년 양적 완화 이후의 주가 회복 "
   ]
  },
  {
   "cell_type": "code",
   "execution_count": null,
   "id": "2e6bac37",
   "metadata": {},
   "outputs": [],
   "source": [
    "# 2019년 12월 1일부터 다우존스 지수('^DJI') 데이터를 불러옵니다.\n",
    "# 2019년 12월 1일부터 KOSPI 지수('^KS11') 데이터를 불러옵니다.\n",
    "# 2019년 12월 1일부터 나스닥 지수('^IXIC') 데이터를 불러옵니다.\n",
    "# 각 지수의 'Close'(종가) 데이터를 선택합니다.\n",
    "# 다우존스 지수를 기준으로 첫 번째 값으로 나누어 백분율로 변환합니다.\n",
    "# 종합주가지수를 기준으로 첫 번째 값으로 나누어 백분율로 변환합니다.\n",
    "# 나스닥 지수를 기준으로 첫 번째 값으로 나누어 백분율로 변환합니다.\n",
    "# 다우존스 지수를 플로팅하고, label을 '다우존스지수'로 설정합니다.\n",
    "# 종합주가지수를 플로팅하고, label을 '종합주가지수'로 설정합니다.\n",
    "# 나스닥 지수를 플로팅하고, label을 '나스닥지수'로 설정합니다.\n",
    "# 그래프의 제목을 \"다우존스 공업평균 vs 종합주가 지수 vs 나스닥지수\"로 설정합니다.\n",
    "# 그래프에 범례(legend)를 추가하여 플로팅된 라인의 레이블을 표시합니다.\n",
    "# 다우존스 지수의 최고점, 최저점 및 상승폭 출력\n",
    "# 종합주가지수의 최고점, 최저점 및 상승폭 출력\n",
    "# 나스닥 지수의 최고점, 최저점 및 상승폭 출력"
   ]
  },
  {
   "cell_type": "markdown",
   "id": "59a7d65b",
   "metadata": {},
   "source": [
    "## 비트코인 가격 추세"
   ]
  },
  {
   "cell_type": "code",
   "execution_count": null,
   "id": "38cde059",
   "metadata": {},
   "outputs": [],
   "source": [
    "#비트코인 원화 가격 (빗썸), 2016~현재"
   ]
  },
  {
   "cell_type": "code",
   "execution_count": null,
   "id": "d866a547",
   "metadata": {},
   "outputs": [],
   "source": []
  }
 ],
 "metadata": {
  "kernelspec": {
   "display_name": "Python 3 (ipykernel)",
   "language": "python",
   "name": "python3"
  },
  "language_info": {
   "codemirror_mode": {
    "name": "ipython",
    "version": 3
   },
   "file_extension": ".py",
   "mimetype": "text/x-python",
   "name": "python",
   "nbconvert_exporter": "python",
   "pygments_lexer": "ipython3",
   "version": "3.9.16"
  }
 },
 "nbformat": 4,
 "nbformat_minor": 5
}
