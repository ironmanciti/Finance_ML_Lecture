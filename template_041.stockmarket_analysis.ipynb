{
 "cells": [
  {
   "cell_type": "markdown",
   "id": "c73847ea",
   "metadata": {},
   "source": [
    "# 주식시장 분석 \n",
    "\n",
    "- 2012-1-1 ~ 2021-12-31 기간의 Tesla, FORD, Apple 의 주가 등락, 변동성, 수익률 비교  \n"
   ]
  },
  {
   "cell_type": "code",
   "execution_count": null,
   "id": "834fa46d",
   "metadata": {},
   "outputs": [],
   "source": []
  },
  {
   "cell_type": "markdown",
   "id": "bd2fa0cd",
   "metadata": {},
   "source": [
    "## yfinance 를 이용한 주가 data 가져오기"
   ]
  },
  {
   "cell_type": "code",
   "execution_count": null,
   "id": "e3942a6a",
   "metadata": {},
   "outputs": [],
   "source": []
  },
  {
   "cell_type": "code",
   "execution_count": null,
   "id": "a98d88ef",
   "metadata": {},
   "outputs": [],
   "source": []
  },
  {
   "cell_type": "code",
   "execution_count": null,
   "id": "79e7435d",
   "metadata": {},
   "outputs": [],
   "source": []
  },
  {
   "cell_type": "markdown",
   "id": "5b1b8573",
   "metadata": {},
   "source": [
    "## 주가 추이 시각화"
   ]
  },
  {
   "cell_type": "code",
   "execution_count": null,
   "id": "02798a21",
   "metadata": {},
   "outputs": [],
   "source": [
    "# Figure 크기를 10x8로 설정하고, 그리드 구조(GridSpec)를 사용하여 서브플롯을 구성\n",
    "# 첫 번째 플롯은 높이 비율을 3으로, 두 번째 플롯은 높이 비율을 2로 설정하여 2개의 서브플롯을 만듭니다.\n",
    "# 서브플롯을 리스트에 추가합니다.\n",
    "# 첫 번째 서브플롯의 x축(날짜 레이블)을 숨깁니다.\n",
    "# 첫 번째 서브플롯에 테슬라(Tesla), 포드(FORD), 애플(Apple)의 종가 데이터를 플로팅합니다.\n",
    "# 각 주식의 'Close'(종가) 열을 플로팅하고, 제목을 \"Close Trend\"로 설정합니다.\n",
    "# 두 번째 서브플롯에 테슬라(Tesla), 포드(FORD), 애플(Apple)의 거래량 데이터를 플로팅합니다.\n",
    "# 각 주식의 'Volume'(거래량) 열을 플로팅하고, 제목을 \"Volume\"으로 설정합니다.\n",
    "# 범례(legend)를 추가하여 플롯에 표시된 라인들을 구분할 수 있도록 합니다."
   ]
  },
  {
   "cell_type": "markdown",
   "id": "492d81ff",
   "metadata": {},
   "source": [
    "**최대 거래량 발생 일자**"
   ]
  },
  {
   "cell_type": "code",
   "execution_count": null,
   "id": "0fbbbcda",
   "metadata": {},
   "outputs": [],
   "source": []
  },
  {
   "cell_type": "code",
   "execution_count": null,
   "id": "09694ce5",
   "metadata": {},
   "outputs": [],
   "source": [
    "# 각 주식의 거래량(Volume) 데이터에서 거래량이 가장 많았던 날의 실제 날짜를 반환합니다.\n",
    "# idxmax() 함수는 가장 큰 값의 위치에 해당하는 인덱스를 반환하며, 이 인덱스는 실제 날짜를 나타냅니다."
   ]
  },
  {
   "cell_type": "markdown",
   "id": "4e4a60c9",
   "metadata": {},
   "source": [
    "## Log Close Price\n",
    "- 서로 scale 이 다른 주가에 대한 실제 변화율을 시각화 하기 위해 price 의 log 를 취함"
   ]
  },
  {
   "cell_type": "code",
   "execution_count": null,
   "id": "6b65ea43",
   "metadata": {},
   "outputs": [],
   "source": [
    "# 테슬라(Tesla) 주식의 'Close' 열을 로그 값으로 변환하여 'log close' 열에 저장합니다.\n",
    "# 포드(Ford) 주식의 'Close' 열을 로그 값으로 변환하여 'log close' 열에 저장합니다.\n",
    "# 애플(Apple) 주식의 'Close' 열을 로그 값으로 변환하여 'log close' 열에 저장합니다."
   ]
  },
  {
   "cell_type": "code",
   "execution_count": null,
   "id": "fd3c8a61",
   "metadata": {},
   "outputs": [],
   "source": [
    "# Figure 크기를 10x8로 설정하고 서브플롯을 생성합니다.\n",
    "# 테슬라(Tesla)의 로그 변환된 종가('log close') 데이터를 플로팅합니다.\n",
    "# ax1은 서브플롯을 지정하며, label은 'Tesla', 제목은 \"Close Trend\"로 설정합니다.\n",
    "# 포드(Ford)의 로그 변환된 종가('log close') 데이터를 플로팅합니다.\n",
    "# 애플(Apple)의 로그 변환된 종가('log close') 데이터를 플로팅합니다.\n",
    "# y축 레이블을 'log price'로 설정합니다."
   ]
  },
  {
   "cell_type": "markdown",
   "id": "33be3aae",
   "metadata": {},
   "source": [
    "## Normalized Price\n",
    "\n",
    "- 시초가를 1 로 맞추어 놓고 변화된 상대 가격 비교"
   ]
  },
  {
   "cell_type": "code",
   "execution_count": null,
   "id": "66571e9b",
   "metadata": {},
   "outputs": [],
   "source": [
    "# 테슬라(Tesla)의 종가를 첫 번째 날의 종가로 나누어 정규화한 값을 'norm close' 열에 저장합니다.\n",
    "# 포드(Ford)의 종가를 첫 번째 날의 종가로 나누어 정규화한 값을 'norm close' 열에 저장합니다.\n",
    "# 애플(Apple)의 종가를 첫 번째 날의 종가로 나누어 정규화한 값을 'norm close' 열에 저장합니다."
   ]
  },
  {
   "cell_type": "code",
   "execution_count": null,
   "id": "c22e16c3",
   "metadata": {},
   "outputs": [],
   "source": [
    "# 그림의 크기를 (10, 8)로 설정합니다.\n",
    "# 서브플롯을 생성합니다.\n",
    "# y축의 스케일을 로그 스케일로 설정합니다.\n",
    "# 테슬라(Tesla)의 정규화된 종가를 플롯합니다.\n",
    "# 포드(Ford)의 정규화된 종가를 플롯합니다.\n",
    "# 애플(Apple)의 정규화된 종가를 플롯합니다."
   ]
  },
  {
   "cell_type": "markdown",
   "id": "70fb979e",
   "metadata": {},
   "source": [
    "## 주식 종목간의 correlation 분석\n",
    "\n",
    "- Tesla 주식이  Apple 과 관련 있는지, GM 과 관련 있는지 분석"
   ]
  },
  {
   "cell_type": "code",
   "execution_count": null,
   "id": "6478b1fc",
   "metadata": {},
   "outputs": [],
   "source": [
    "# Tesla, Ford, Apple의 종가를 열로 가지는 데이터프레임을 생성합니다.\n",
    "# 열 이름을 'Tesla', 'FORD', 'Apple'로 설정합니다.\n",
    "# 산점도 행렬을 생성하여 데이터프레임의 상관관계를 시각화합니다.\n",
    "# 각 변수의 히스토그램을 50개의 구간으로 나누어 표시합니다."
   ]
  },
  {
   "cell_type": "code",
   "execution_count": null,
   "id": "6bc13917",
   "metadata": {},
   "outputs": [],
   "source": []
  },
  {
   "cell_type": "markdown",
   "id": "e4bde04a",
   "metadata": {},
   "source": [
    "## 일일 수익율 (Daily Percentage Change)\n",
    "\n",
    "- 주식을 구입하고 다음 날 팔았을 때의 이득 (손실)\n",
    "\n",
    "- 주식의 변동성 분석에 유용\n",
    "\n",
    "- 일일 수익율의 분포가 넓으면 변동성 큼\n",
    "\n",
    "$r_t = \\frac{P_t}{P_{t-1}} - 1$ \n",
    "\n",
    "$수익(율) = \\frac{당일가격}{전일가격} - 1$\n",
    "\n",
    "```\n",
    "tesla['return'] = tesla['Close'] / tesla['Close'].shift(1) - 1\n",
    "tesla['return'] = tesla['Close'].pct_change(1)  \n",
    "```\n",
    "\n",
    "- histogram 으로 얼마나 넓게 분포하는지 check"
   ]
  },
  {
   "cell_type": "code",
   "execution_count": null,
   "id": "2d50b35e",
   "metadata": {},
   "outputs": [],
   "source": [
    "# Tesla, Ford, Apple의 일일 수익률을 계산합니다.\n",
    "# Tesla의 수익률: 현재 종가를 이전 종가로 나누고 1을 빼서 계산합니다.\n",
    "# Ford의 수익률: pandas의 pct_change()를 사용하여 계산합니다.\n",
    "# Apple의 수익률: pandas의 pct_change()를 사용하여 계산합니다."
   ]
  },
  {
   "cell_type": "code",
   "execution_count": null,
   "id": "f82b4e7d",
   "metadata": {},
   "outputs": [],
   "source": [
    "# Tesla, Ford, Apple의 수익률 분포를 히스토그램으로 시각화합니다.\n",
    "# Tesla의 수익률 히스토그램을 생성합니다. \n",
    "# 100개의 구간으로 나누고, 투명도를 설정하여 겹쳐 보이도록 합니다.\n",
    "# Ford의 수익률 히스토그램을 생성합니다. \n",
    "# 100개의 구간으로 나누고, 투명도를 설정하여 겹쳐 보이도록 합니다.\n",
    "# Apple의 수익률 히스토그램을 생성합니다. \n",
    "# 100개의 구간으로 나누고, 투명도를 설정하여 겹쳐 보이도록 합니다."
   ]
  },
  {
   "cell_type": "code",
   "execution_count": null,
   "id": "1d181e5d",
   "metadata": {},
   "outputs": [],
   "source": [
    "# Tesla, Ford, Apple의 수익률 분포를 커널 밀도 추정(KDE)으로 시각화합니다.\n",
    "# Tesla의 수익률 분포를 KDE로 시각화합니다.\n",
    "# 그래프의 크기를 (8, 6)으로 설정합니다.\n",
    "# Ford의 수익률 분포를 KDE로 시각화합니다.\n",
    "# Apple의 수익률 분포를 KDE로 시각화합니다."
   ]
  },
  {
   "cell_type": "code",
   "execution_count": null,
   "id": "85f79b2c",
   "metadata": {},
   "outputs": [],
   "source": [
    "# Tesla, Ford, Apple의 수익률 데이터를 데이터프레임으로 결합합니다.\n",
    "# Seaborn의 boxplot을 사용하여 수익률의 박스 플롯을 시각화합니다.\n",
    "# 각 회사의 수익률 분포를 박스 플롯으로 비교합니다."
   ]
  },
  {
   "cell_type": "markdown",
   "id": "8b7ec55b",
   "metadata": {},
   "source": [
    "## 누적일일수익률 (Cumulative Daily Returns)\n",
    "\n",
    "- 1 불을 투자했을 때 누적적으로 가장 수익이 많이 났을 주식 파악\n",
    "\n",
    "$i_t = (1+r_t) * i_{t-1}$  \n",
    "\n",
    "\n",
    "$누적수익률 = (1 + 당일수익률) * 전일자 누적수익률$"
   ]
  },
  {
   "cell_type": "code",
   "execution_count": null,
   "id": "1e084d74",
   "metadata": {},
   "outputs": [],
   "source": [
    "# Tesla, Ford, Apple의 누적 수익률을 계산합니다.\n",
    "# 수익률을 1에 더하고 누적 곱셈(cumprod)을 통해 누적 수익률을 구합니다."
   ]
  },
  {
   "cell_type": "code",
   "execution_count": null,
   "id": "f4c78a8b",
   "metadata": {},
   "outputs": [],
   "source": [
    "# 각 회사의 누적 수익률을 로그 스케일로 플로팅합니다."
   ]
  },
  {
   "cell_type": "code",
   "execution_count": null,
   "id": "95fd1883",
   "metadata": {},
   "outputs": [],
   "source": [
    "# Tesla 데이터프레임에서 첫 번째와 마지막 행을 선택합니다."
   ]
  },
  {
   "cell_type": "code",
   "execution_count": null,
   "id": "497c2d16",
   "metadata": {},
   "outputs": [],
   "source": []
  },
  {
   "cell_type": "code",
   "execution_count": null,
   "id": "41ad5e1c",
   "metadata": {},
   "outputs": [],
   "source": []
  },
  {
   "cell_type": "code",
   "execution_count": null,
   "id": "7a0c8468",
   "metadata": {},
   "outputs": [],
   "source": []
  }
 ],
 "metadata": {
  "kernelspec": {
   "display_name": "Python 3 (ipykernel)",
   "language": "python",
   "name": "python3"
  },
  "language_info": {
   "codemirror_mode": {
    "name": "ipython",
    "version": 3
   },
   "file_extension": ".py",
   "mimetype": "text/x-python",
   "name": "python",
   "nbconvert_exporter": "python",
   "pygments_lexer": "ipython3",
   "version": "3.9.16"
  }
 },
 "nbformat": 4,
 "nbformat_minor": 5
}
