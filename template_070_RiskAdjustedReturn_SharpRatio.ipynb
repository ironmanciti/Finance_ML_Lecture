{
 "cells": [
  {
   "cell_type": "markdown",
   "id": "234e50fc",
   "metadata": {},
   "source": [
    "# 변동성과 위험 (Volatility and Risk), Sharpe Ratio\n",
    "### 변동성 \n",
    "변동성(Volatility)은 투자자산의 가격 변동을 나타내는 측정치입니다. 주식, 채권, 상품 등 다양한 자산의 가격은 시간에 따라 변동하며, 이 변동의 크기와 빈도를 측정하는 것이 변동성입니다. 변동성이 높다는 것은 가격 변동의 크기가 크거나 빈도가 높아 불확실성이 높은 상태를 의미하며, 이는 고위험이라고 볼 수 있습니다.\n",
    "\n",
    "변동성을 측정하는 일반적인 방법 중 하나는 표준편차를 사용하는 것입니다. 표준편차는 관찰값들이 평균으로부터 얼마나 떨어져 있는지를 측정하는 통계학적인 개념입니다. 변동성을 계산할 때, 일반적으로 각 관찰치(예: 일일 수익률)과 평균 관찰치간의 차이를 제곱하여 평균을 낸 후, 그 결과값의 제곱근을 구합니다. 이렇게 계산된 값이 표준편차이며, 이를 변동성이라고 부릅니다.\n",
    "\n",
    "### Sharpe Ratio\n",
    "Sharpe Ratio는 위험 대비 수익률을 측정하는 지표로, 투자의 성과를 평가하는 데 사용됩니다. Sharpe Ratio는 예상 수익률을 초과하는 수익률(초과수익률)을 투자의 위험(표준편차 또는 변동성)으로 나눈 것입니다. Sharpe Ratio가 높을수록 동일한 위험 수준에서 더 많은 초과 수익을 얻을 수 있다는 것을 의미합니다. 따라서 Sharpe Ratio는 투자 선택지를 비교할 때 효율적인 도구로 활용될 수 있습니다."
   ]
  },
  {
   "cell_type": "code",
   "execution_count": null,
   "id": "8969e428",
   "metadata": {},
   "outputs": [],
   "source": []
  },
  {
   "cell_type": "code",
   "execution_count": null,
   "id": "eda15663",
   "metadata": {},
   "outputs": [],
   "source": [
    "# CSV 파일로부터 주가 데이터를 불러옵니다.\n",
    "# 주가 데이터에서 일일 수익률을 계산합니다.\n",
    "# pct_change() 함수는 이전 행과 비교하여 퍼센트 변동(수익률)을 계산합니다."
   ]
  },
  {
   "cell_type": "code",
   "execution_count": null,
   "id": "44777b34",
   "metadata": {},
   "outputs": [],
   "source": []
  },
  {
   "cell_type": "markdown",
   "id": "e7438467",
   "metadata": {},
   "source": [
    "표준 편차를 계산합니다.  \n",
    "$$(편차) = (각 변량) - (전체 평균)$$  \n",
    "$$(분산) = \\frac{편차의 제곱의 합}{총 변량의 갯수}$$\n",
    "$$(표준편차) = 분산의 제곱근 (\\sqrt{분산})$$"
   ]
  },
  {
   "cell_type": "code",
   "execution_count": null,
   "id": "cd1d044e",
   "metadata": {},
   "outputs": [],
   "source": [
    "#편차\n",
    "#편차의 제곱\n",
    "#분산 = 편차의 제곱의 평균\n",
    "# 표준편차 (변동성)"
   ]
  },
  {
   "cell_type": "markdown",
   "id": "643b53de",
   "metadata": {},
   "source": [
    "내장된 `.std()` 메소드를 사용할 때도 같은 답이 나와야 하는데 약간의 차이가 납니다.  \n",
    "\n",
    "ddof 인자는 \"Delta Degrees of Freedom\"의 약자로, 표준편차나 분산을 계산할 때 사용하는 분모의 조정값을 의미합니다. 기본값은 1로 설정되어 있으며, 이는 공식에서 N-1을 의미합니다. N은 데이터의 개수입니다. 이렇게 N-1을 사용하는 이유는 표본의 분산이나 표준편차를 계산할 때 편향되지 않은(unbiased) 추정값을 얻기 위함입니다.\n",
    "\n",
    "그러나 ddof=0을 설정하면 분모는 N으로 설정되며, 이는 전체 데이터셋의 표준편차를 계산할 때 사용됩니다. 이는 표본이 아닌 모집단의 표준편차를 계산하는 것으로 볼 수 있습니다.\n",
    "\n",
    "따라서, returns.std(ddof=0)은 'returns' 데이터셋의 모집단 표준편차를 계산합니다."
   ]
  },
  {
   "cell_type": "code",
   "execution_count": null,
   "id": "9678c91a",
   "metadata": {},
   "outputs": [],
   "source": []
  },
  {
   "cell_type": "code",
   "execution_count": null,
   "id": "6733421b",
   "metadata": {},
   "outputs": [],
   "source": []
  },
  {
   "cell_type": "code",
   "execution_count": null,
   "id": "40f75106",
   "metadata": {},
   "outputs": [],
   "source": []
  },
  {
   "cell_type": "code",
   "execution_count": null,
   "id": "03b3ee00",
   "metadata": {},
   "outputs": [],
   "source": []
  },
  {
   "cell_type": "markdown",
   "id": "c00e2351",
   "metadata": {},
   "source": [
    "# 연간 변동성 (Annualizing Volatility) \n",
    "\n",
    "월간 수익률을 기반으로 한 변동성을 연간 변동성으로 변환하려면, 월간 표준편차를 월 수의 제곱근(예를 들어 연간으로 변환할 경우 12의 제곱근)으로 곱해야 합니다. 이렇게 하면 시간 스케일에 따른 변동성을 비교할 수 있습니다.\n",
    "\n",
    "`np.sqrt()`를 사용하는 대신 $0.5$의 거듭제곱으로 올릴 수도 있습니다.  \n",
    "\n",
    "이런 방식으로 환산하는 이유는, 변동성이 랜덤 워크(random walk)와 같은 확률 과정에 의해 주도된다고 가정하기 때문입니다. 랜덤 워크의 경우, 시간 경과에 따른 변동(즉, 위험 또는 변동성)은 시간의 제곱근에 비례하게 됩니다. 이는 통계학과 확률 이론에서 자주 등장하는 개념으로, 주가의 움직임을 묘사하는데 자주 사용됩니다."
   ]
  },
  {
   "cell_type": "code",
   "execution_count": null,
   "id": "52f98fcf",
   "metadata": {},
   "outputs": [],
   "source": [
    "# 월별 수익률의 표준편차(변동성)를 계산한 후 연간 변동성으로 변환합니다.\n",
    "# returns.std()는 월별 수익률의 표준편차(월별 변동성)를 계산합니다.\n",
    "# 여기에 √12를 곱해 연간 변동성(Annualized Volatility)을 계산합니다.\n",
    "# √12를 곱하는 이유는 1년이 12개월이므로, 월별 변동성을 연간 변동성으로 변환하기 위해서입니다."
   ]
  },
  {
   "cell_type": "code",
   "execution_count": null,
   "id": "b955acde",
   "metadata": {},
   "outputs": [],
   "source": [
    "# np.sqrt(12) == 12**0.5"
   ]
  },
  {
   "cell_type": "markdown",
   "id": "a73c41d3",
   "metadata": {},
   "source": [
    "## 위험 조정 수익 (Risk Adjusted Returns)\n",
    "\n",
    "위험 조정 수익이란 투자 수익(investment returns)을 단순히 투입 대비 산출로만 계산하는 것이 아니라, 수익이 나타나는 과정에서 포함된 위험들을 고려했을 때의 수익을 의미한다.\n",
    "\n",
    "예를 들어 시장에 기본적이고 공통적으로 존재하는 위험이 있어서 이에 대한 보상으로 투자 활동에 3%의 수익률이 있어야 할 때, 한 투자 활동으로부터 5%의 수익을 얻었다면 시장 위험을 조정한 수익으로 볼때는 그 투자활동은 2%의 수익을 얻은 것이다. \n",
    "\n",
    "### Sharpe Ratio - 대표적인 위험 조정 수익률 지수  \n",
    "\n",
    "- Sharpe Ratio 계산 \n",
    "\n",
    "$$\\frac{초과 수익}{변동성} \\rightarrow 변동성(위험) \\  한\\ 단위 당 \\ 초과 \\ 수익$$\n",
    "\n",
    "$$SR=\\frac{R_p-R_f}{\\sigma_p}, \\ p: portfolio, f: risk free$$"
   ]
  },
  {
   "cell_type": "code",
   "execution_count": null,
   "id": "c33013c2",
   "metadata": {},
   "outputs": [],
   "source": []
  },
  {
   "cell_type": "code",
   "execution_count": null,
   "id": "0d783fd8",
   "metadata": {},
   "outputs": [],
   "source": [
    "# BLUE 연간 수익률 \n",
    "# BLUE 연간 변동성\n",
    "# BLUE Sharpe Ratio"
   ]
  },
  {
   "cell_type": "code",
   "execution_count": null,
   "id": "683000b0",
   "metadata": {},
   "outputs": [],
   "source": [
    "# ORANGE 연간 수익률 \n",
    "# ORANGE 연간 변동성\n",
    "# ORANGE Sharpe Ratio"
   ]
  },
  {
   "cell_type": "markdown",
   "id": "7ef99b77",
   "metadata": {},
   "source": [
    "### 실제 주식의 Sharpe Ratio 계산\n",
    "- 1 년간 주식에 투자하여 얻은 수익률 계산"
   ]
  },
  {
   "cell_type": "code",
   "execution_count": null,
   "id": "a84d683f",
   "metadata": {},
   "outputs": [],
   "source": [
    "# 분석할 주식의 이름과 티커(Symbol) 리스트\n",
    "# 주가 데이터를 저장할 데이터프레임 초기화\n",
    "# 일일 수익률 데이터를 저장할 데이터프레임 초기화\n",
    "# 시작 날짜와 종료 날짜 설정\n",
    "# 주어진 티커 목록을 반복하며 데이터를 수집하고 처리\n",
    "    # 각 주식의 종가 데이터를 FinanceDataReader를 통해 가져옵니다.\n",
    "    # 주가 데이터에서 'Close' 열을 주식 이름으로 변경\n",
    "    # 주가 데이터를 기존 데이터프레임(dataset)에 추가합니다.\n",
    "    # 주가 데이터에서 일일 수익률을 계산합니다.\n",
    "    # 수익률 데이터에서 첫 번째 NaN 값만 제거합니다.\n",
    "    # 계산된 수익률 데이터를 daily_returns 데이터프레임에 추가합니다.\n",
    "# 최종적으로 계산된 일일 수익률 데이터를 출력합니다."
   ]
  },
  {
   "cell_type": "markdown",
   "id": "221a9a5c",
   "metadata": {},
   "source": [
    "일일 수익률 시각화"
   ]
  },
  {
   "cell_type": "code",
   "execution_count": null,
   "id": "2aa7c0e7",
   "metadata": {},
   "outputs": [],
   "source": []
  },
  {
   "cell_type": "markdown",
   "id": "7dc1871f",
   "metadata": {},
   "source": [
    "일일 변동성(volatility)"
   ]
  },
  {
   "cell_type": "code",
   "execution_count": null,
   "id": "e57f3e08",
   "metadata": {},
   "outputs": [],
   "source": []
  },
  {
   "cell_type": "markdown",
   "id": "e6d5c141",
   "metadata": {},
   "source": [
    "연간 수익률"
   ]
  },
  {
   "cell_type": "code",
   "execution_count": null,
   "id": "4e2317c7",
   "metadata": {},
   "outputs": [],
   "source": []
  },
  {
   "cell_type": "markdown",
   "id": "fa47c1f8",
   "metadata": {},
   "source": [
    "연간 변동성"
   ]
  },
  {
   "cell_type": "code",
   "execution_count": null,
   "id": "e5db1046",
   "metadata": {},
   "outputs": [],
   "source": []
  },
  {
   "cell_type": "markdown",
   "id": "11eb464f",
   "metadata": {},
   "source": [
    "- Sharpe Ratio 계산 \n",
    "\n",
    "초과 수익 / 변동성 --> 변동성(위험) 한단위 당 초과 수익\n",
    "\n",
    "$$SR=\\frac{R_p-R_f}{\\sigma_p}$$\n",
    "\n",
    "p: portfolio, f: risk free"
   ]
  },
  {
   "cell_type": "code",
   "execution_count": null,
   "id": "16b02a90",
   "metadata": {},
   "outputs": [],
   "source": [
    "#무위험 수익률\n",
    "#초과 수익률\n",
    "#샤프지수"
   ]
  },
  {
   "cell_type": "markdown",
   "id": "891f4586",
   "metadata": {},
   "source": [
    "높은 샤프 지수는 동일한 위험 수준에서 더 높은 예상 수익을 제공하는 투자를 나타냅니다.\n",
    "\n",
    "위의 샤프 지수에 따르면, \"카카오\"가 가장 높은 샤프 지수(1.771584)를 가지고 있습니다. 따라서 이 투자가 주어진 위험에 대해 가장 높은 예상 수익률을 제공한다고 볼 수 있습니다."
   ]
  },
  {
   "cell_type": "markdown",
   "id": "0786dbde",
   "metadata": {},
   "source": [
    "실제 주가 시각화"
   ]
  },
  {
   "cell_type": "code",
   "execution_count": null,
   "id": "8846c725",
   "metadata": {},
   "outputs": [],
   "source": []
  },
  {
   "cell_type": "code",
   "execution_count": null,
   "id": "417fdb19",
   "metadata": {},
   "outputs": [],
   "source": []
  },
  {
   "cell_type": "code",
   "execution_count": null,
   "id": "a680746f",
   "metadata": {},
   "outputs": [],
   "source": []
  }
 ],
 "metadata": {
  "kernelspec": {
   "display_name": "Python 3 (ipykernel)",
   "language": "python",
   "name": "python3"
  },
  "language_info": {
   "codemirror_mode": {
    "name": "ipython",
    "version": 3
   },
   "file_extension": ".py",
   "mimetype": "text/x-python",
   "name": "python",
   "nbconvert_exporter": "python",
   "pygments_lexer": "ipython3",
   "version": "3.9.16"
  }
 },
 "nbformat": 4,
 "nbformat_minor": 5
}
