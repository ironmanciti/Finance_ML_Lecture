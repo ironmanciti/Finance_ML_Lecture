{
 "cells": [
  {
   "cell_type": "markdown",
   "id": "4777542e",
   "metadata": {},
   "source": [
    "# Iron Condor\n",
    "\n",
    "주가가 많이 움직일 것 같지 않은 경우의 전략. 제한된 risk 와 제한된 작은 profit 목적. 2 개의 put 과 2 개의 call, 4 개의 행사가로 구성.\n",
    "\n",
    "목적은 주식의 낮은 변동성에서 이익을 얻는 것. 즉, 만기일에 주가가 중간 행사가에서 끝나면 전략 성공.\n",
    "\n",
    "* 같은 만기일의 4 개의 다른 행사가로 구성\n",
    "\n",
    "    - Bull put spread\n",
    "        1. Buy a 240 strike put for 0.8\n",
    "        2. Sell a 250 strike put for 2.8\n",
    "    - Bear call spread\n",
    "        1. Sell a 260 strike call for 2.4\n",
    "        2. Buy a 270 strike call for 0.8"
   ]
  },
  {
   "cell_type": "code",
   "execution_count": null,
   "id": "f77471c7",
   "metadata": {},
   "outputs": [],
   "source": []
  },
  {
   "cell_type": "code",
   "execution_count": null,
   "id": "62cd64c4",
   "metadata": {},
   "outputs": [],
   "source": [
    "def put_payoff(sT, strike_price, premium, contracts=1, multiplier=1):\n",
    "    # 주가가 행사가보다 낮으면, 행사가에서 주가를 뺀 값이 손익(pnl), 아니면 0\n",
    "    # 계약 수와 배수를 곱해 총 손익을 반환\n",
    "def call_payoff(sT, strike_price, premium, contracts=1, multiplier=1):\n",
    "    # 주가가 행사가보다 높으면, 주가에서 행사가를 뺀 값이 손익(pnl), 아니면 0\n",
    "    # 계약 수와 배수를 곱해 총 손익을 반환"
   ]
  },
  {
   "cell_type": "code",
   "execution_count": null,
   "id": "cc104c88",
   "metadata": {},
   "outputs": [],
   "source": [
    "# 현물 가격\n",
    "# 콜옵션 만기 시 주가 범위"
   ]
  },
  {
   "cell_type": "markdown",
   "id": "b2c67ce4",
   "metadata": {},
   "source": [
    "## Bull Put Spread\n",
    "\n",
    "- 주식이 소폭 상승하거나 하락하지 않을 것으로 예상될 때 사용하는 옵션 전략\n",
    "- 주가가 크게 상승하지 않아도 일정 수준 이상에서 유지되면 전략이 성공  \n",
    "- put option 을 사고 동시에 더 높은 행사가의 put option 을 파는 전략. 주가의 작은 상승에서 이익을 얻는 것. 만기일 주가가 높은 행사가 이상으로 오르면 전략 성공."
   ]
  },
  {
   "cell_type": "code",
   "execution_count": null,
   "id": "7e069454",
   "metadata": {},
   "outputs": [],
   "source": [
    "# 풋옵션 매수 (Long Put)\n",
    "# 더 높은 행사가의 풋옵션 매도 (Short Put)\n",
    "# 풋옵션 매수의 손익 계산\n",
    "# 풋옵션 매도의 손익 계산 (매도이므로 -1을 곱함)\n",
    "# Bull Put Spread의 손익 계산 (매수 포지션과 매도 포지션 손익 합)\n",
    "# 손익 그래프 그리기\n",
    "# x축(주가)이 그래프 중간에 위치하도록 설정\n",
    "# 각 포지션의 손익을 그래프로 표현\n",
    "# 현물 가격 표시"
   ]
  },
  {
   "cell_type": "markdown",
   "id": "eadb05c2",
   "metadata": {},
   "source": [
    "# Bear Call Spread\n",
    "- 주가가 하락하거나 크게 상승하지 않을 것으로 예상될 때 사용하는 옵션 전략\n",
    "- 주가가 크게 상승하지 않으면 수익을 얻는 방식  \n",
    "- 콜옵션을 매수하고 동시에 더 낮은 행사가의 콜옵션을 매도. 전략의 목표는 주가의 작은 하락에서 이익을 얻는 것. 만기일 주가가 낮은 행사가 이하로 내리면 전략 성공."
   ]
  },
  {
   "cell_type": "code",
   "execution_count": null,
   "id": "3199e081",
   "metadata": {},
   "outputs": [],
   "source": [
    "# 콜옵션 매도 (Short Call)\n",
    "# 더 높은 행사가의 콜옵션 매수 (Long Call)\n",
    "# 콜옵션 매도의 손익 계산 (매도이므로 -1을 곱함)\n",
    "# 콜옵션 매수의 손익 계산\n",
    "# Bear Call Spread의 손익 계산 (매도 포지션과 매수 포지션 손익 합)\n",
    "# 손익 그래프 그리기\n",
    "# x축(주가)이 그래프 중간에 위치하도록 설정\n",
    "# 각 포지션의 손익을 그래프로 표현\n",
    "# 현물 가격 표시"
   ]
  },
  {
   "cell_type": "markdown",
   "id": "bd0affaa",
   "metadata": {},
   "source": [
    "## Iron Condor\n",
    "\n",
    "주가가 큰 변동 없이 일정 범위에서 유지될 것으로 예상될 때 사용하는 중립적 옵션 전략입니다. 이 전략은 주가가 많이 오르거나 내리지 않고 횡보할 것으로 기대할 때 수익을 극대화할 수 있으며, 변동성이 낮은 시장에서 특히 효과적입니다.  \n",
    "\n",
    "Iron Condor 전략은 4개의 옵션 포지션으로 구성된 복합 전략입니다. 콜옵션과 풋옵션을 사용하여 서로 다른 행사가에서 매도 및 매수 포지션을 동시에 취합니다."
   ]
  },
  {
   "cell_type": "code",
   "execution_count": null,
   "id": "0ba58486",
   "metadata": {},
   "outputs": [],
   "source": [
    "# Iron Condor 전략의 손익 계산 (Bull Put Spread + Bear Call Spread)\n",
    "# 손익 그래프 그리기\n",
    "# x축(주가)이 그래프 중간에 위치하도록 설정\n",
    "# Bull Put Spread의 손익을 빨간색 점선으로 그래프에 표시\n",
    "# Bear Call Spread의 손익을 파란색 점선으로 그래프에 표시\n",
    "# Iron Condor 전략의 전체 손익을 검정색 실선으로 표시\n",
    "# 현물 가격 표시"
   ]
  },
  {
   "cell_type": "markdown",
   "id": "286dc2e3",
   "metadata": {},
   "source": [
    "최대 이익\n",
    "\n",
    "1. position 설정시 받은 net credit 으로 한정된다. (2.8 + 2.4 - 0.8 - 0.8 = 3.6)\n",
    "\n",
    "2. 최대이익은 만기시 주가가 매도한 call 과 put 의 strike price (250, 260) 중간일 때 얻어진다.\n",
    "\n",
    "최대 손실\n",
    "\n",
    "1. 이 전략은 주가가 260 이상 혹은 250 이하가 되면 손실을 보기 시작한다.\n",
    "\n",
    "2. 최대 손실은 주가가 270 이상 혹은 240 이하가 될 때 발생한다.\n",
    "\n",
    "3. 최대손실 금액 = Spread - Net Premium Received = 10 - 3.6 = 6.4\n",
    "\n",
    "* 주가가 좁은 범위 안에서 움직일 것으로 예상되면 이 전략을 통해 프리미엄을 수익으로 얻을 수 있으며, 손실은 미리 설정된 옵션 매수로 제한됩니다."
   ]
  },
  {
   "cell_type": "code",
   "execution_count": null,
   "id": "8a25df49",
   "metadata": {},
   "outputs": [],
   "source": []
  }
 ],
 "metadata": {
  "kernelspec": {
   "display_name": "Python 3 (ipykernel)",
   "language": "python",
   "name": "python3"
  },
  "language_info": {
   "codemirror_mode": {
    "name": "ipython",
    "version": 3
   },
   "file_extension": ".py",
   "mimetype": "text/x-python",
   "name": "python",
   "nbconvert_exporter": "python",
   "pygments_lexer": "ipython3",
   "version": "3.9.16"
  }
 },
 "nbformat": 4,
 "nbformat_minor": 5
}
