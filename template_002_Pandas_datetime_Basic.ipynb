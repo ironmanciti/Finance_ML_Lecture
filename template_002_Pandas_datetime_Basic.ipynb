{
 "cells": [
  {
   "cell_type": "markdown",
   "id": "dabcc3b8",
   "metadata": {},
   "source": [
    "# 시계열 관련 NumPy 및 Pandas 기능"
   ]
  },
  {
   "cell_type": "markdown",
   "id": "26905b2e",
   "metadata": {},
   "source": [
    "## python, numpy, pandas 날짜 타입 비교 및 정리\n",
    "\n",
    "|라이브러리|날짜, 시간 클래스| 타임델타 클래스|\n",
    "|-------|-------------|-------------|\n",
    "|datetime|datetime, date, time|timedelta|\n",
    "|numpy|datetime64|timedelta64|\n",
    "|panads|Timestamp|Timedelta|\n",
    "\n",
    "- datetime은 python 설치 시 기본적으로 내장된 라이브러리로, 날짜를 쓸 것인지, 시간을 쓸 것인지, 날짜와 시간을 합쳐쓸 것인지에 따라 클래스가 분화되어 있음.   \n",
    "예를들어 `2021-3-16` (날짜)을 표시하고 싶으면 `date` 클래스를 사용하고, `2021-3-16 12:34:2` (날짜+시간)를 표시하고 싶으면 `datetime` 클래스를 사용.  \n",
    "\n",
    "\n",
    "- `datetime64`나 `Timestamp`는 각각 numpy, pandas 라이브러리에서 새로 정의한 날짜시간 클래스.   \n",
    "이 둘은 한 클래스로 날짜, 시간, 날짜+시간을 모두 정의할 수 있는 것이 특징."
   ]
  },
  {
   "cell_type": "markdown",
   "id": "ce48965d",
   "metadata": {},
   "source": [
    "### 날짜 데이터 정의 - python "
   ]
  },
  {
   "cell_type": "code",
   "execution_count": null,
   "id": "379d2857",
   "metadata": {},
   "outputs": [],
   "source": [
    "#날짜\n",
    "#날짜 + 시간\n",
    "#시간"
   ]
  },
  {
   "cell_type": "markdown",
   "id": "f6e2b0cd",
   "metadata": {},
   "source": [
    "### 날짜 데이터 정의 - numpy"
   ]
  },
  {
   "cell_type": "code",
   "execution_count": null,
   "id": "6ecc9ec2",
   "metadata": {},
   "outputs": [],
   "source": [
    "#날짜"
   ]
  },
  {
   "cell_type": "markdown",
   "id": "18d401cf",
   "metadata": {},
   "source": [
    "### 날짜 데이터 정의 - pandas \n",
    "- pd.Timestamp :  python datetime.datetime 의 Pandas version\n",
    "- pd.to_datetime :  Scalar, array-like, Series or DataFrame/dictionary 형태 data를 pandas DatetimeIndex로 날짜 변환."
   ]
  },
  {
   "cell_type": "code",
   "execution_count": null,
   "id": "7afd1325",
   "metadata": {},
   "outputs": [],
   "source": [
    "#날짜\n",
    "#날짜 + 시간"
   ]
  },
  {
   "cell_type": "markdown",
   "id": "6ffc0741",
   "metadata": {},
   "source": [
    "### Numpy 의 datetime64 format\n",
    "\n",
    "- NumPy 날짜 배열은 ns(나노초) 단위의 datetime64 객체입니다. \n",
    "- 내부 저장 단위는 문자열 형태에서 자동으로 선택되며 날짜 단위 또는 시간 단위가 될 수 있습니다.   \n",
    "- 날짜 단위는 년('Y'), 월('M'), 주('W'), 일('D')이고 시간 단위는 시('h'), 분('m'), 초('s'), 밀리초('ms') 입니다."
   ]
  },
  {
   "cell_type": "code",
   "execution_count": null,
   "id": "f3081a9c",
   "metadata": {},
   "outputs": [],
   "source": []
  },
  {
   "cell_type": "markdown",
   "id": "c812788c",
   "metadata": {},
   "source": [
    "`datetime64[D]` - 날짜"
   ]
  },
  {
   "cell_type": "code",
   "execution_count": null,
   "id": "08b65236",
   "metadata": {},
   "outputs": [],
   "source": []
  },
  {
   "cell_type": "markdown",
   "id": "a4273e0b",
   "metadata": {},
   "source": [
    "`datetime64[M]` - 월"
   ]
  },
  {
   "cell_type": "markdown",
   "id": "9c35e42e",
   "metadata": {},
   "source": [
    "order_date_monthly = np.array(order_date, dtype='datetime64[M]')\n",
    "order_date_monthly"
   ]
  },
  {
   "cell_type": "code",
   "execution_count": null,
   "id": "164c72d3",
   "metadata": {},
   "outputs": [],
   "source": []
  },
  {
   "cell_type": "markdown",
   "id": "d32e3082",
   "metadata": {},
   "source": [
    "`'datetime64[Y]` - 연"
   ]
  },
  {
   "cell_type": "code",
   "execution_count": null,
   "id": "14a6d01c",
   "metadata": {},
   "outputs": [],
   "source": []
  },
  {
   "cell_type": "markdown",
   "id": "2361ffdb",
   "metadata": {},
   "source": [
    "## DateTimeIndex 를 가진 Pandas 시계열 data 생성 및 처리\n",
    "\n",
    "- Timestamp을 index 로 하는 data 를 시계열데이터 (TimeSeries) 라고 부른다. 즉, index 가 DatetimeIndex 인 데이터이다.\n",
    "\n",
    "- 시계열관련 class 와 생성 방법\n",
    "\n",
    "| class         |           설명          |                               생성방법 |Pandas Class|\n",
    "|---------------|:-----------------------:|---------------------------------------:|------------:|\n",
    "| Timestamp     |     하나의 timestamp    |                 to_datetime, Timestamp |pandas.Timestamp|\n",
    "| DatetimeIndex | timestamp 타입의 인덱스 | to_datetime, date_range, DatetimeIndex |pandas.DatetimeIndex|\n",
    "| Period        |       time period       |                                 Period |pandas.Period|"
   ]
  },
  {
   "cell_type": "markdown",
   "id": "3bcee4d9",
   "metadata": {},
   "source": [
    "## to_datetime()\n",
    "\n",
    "- 날짜/시간을 나타내는 **여러 종류의 문자열**을 자동으로 datetime 자료형으로 바꾼 후 DatetimeIndex 자료형 인덱스를 생성"
   ]
  },
  {
   "cell_type": "code",
   "execution_count": null,
   "id": "506dda25",
   "metadata": {},
   "outputs": [],
   "source": [
    "# 날짜 변환"
   ]
  },
  {
   "cell_type": "markdown",
   "id": "b86fd8fc",
   "metadata": {},
   "source": [
    "## date_range\n",
    "```python\n",
    "pd.date_range(start, end, periods, freq)\n",
    "```\n",
    "\n",
    "- 모든 날짜/시간을 일일히 입력할 필요없이 **시작일과 종료일** 또는 **시작일과 기간**을 입력하면 범위 내의 인덱스를 생성  \n",
    "\n",
    "- freq\n",
    "    - S: 초  \n",
    "    - T: 분  \n",
    "    - H: 시간  \n",
    "    - D: 일(day)  \n",
    "    - B: 주말이 아닌 평일 (Business Day)\n",
    "    - W: 주(일요일)  \n",
    "    - M: 각 달(month)의 마지막 날  \n",
    "    - MS: 각 달의 첫날  \n",
    "\n",
    "[frequency alias](https://pandas.pydata.org/pandas-docs/stable/user_guide/timeseries.html#offset-aliases) 참조"
   ]
  },
  {
   "cell_type": "markdown",
   "id": "9e92386a",
   "metadata": {},
   "source": [
    "start ~ 10일"
   ]
  },
  {
   "cell_type": "code",
   "execution_count": null,
   "id": "7bf11ca9",
   "metadata": {},
   "outputs": [],
   "source": []
  },
  {
   "cell_type": "markdown",
   "id": "4d1a2298",
   "metadata": {},
   "source": [
    "start~end 사이 평일"
   ]
  },
  {
   "cell_type": "code",
   "execution_count": null,
   "id": "b81364e0",
   "metadata": {},
   "outputs": [],
   "source": []
  },
  {
   "cell_type": "markdown",
   "id": "74a35848",
   "metadata": {},
   "source": [
    "start ~ 12 개월"
   ]
  },
  {
   "cell_type": "code",
   "execution_count": null,
   "id": "10300353",
   "metadata": {},
   "outputs": [],
   "source": []
  },
  {
   "cell_type": "markdown",
   "id": "eec1ba51",
   "metadata": {},
   "source": [
    "DataFrame의 index를 datetime으로 변경"
   ]
  },
  {
   "cell_type": "code",
   "execution_count": null,
   "id": "5b9f5816",
   "metadata": {},
   "outputs": [],
   "source": []
  },
  {
   "cell_type": "code",
   "execution_count": null,
   "id": "f2dc6fe6",
   "metadata": {},
   "outputs": [],
   "source": []
  },
  {
   "cell_type": "markdown",
   "id": "d443bd2c",
   "metadata": {},
   "source": [
    "## Pandas DatetimeIndex를 이용한 작업"
   ]
  },
  {
   "cell_type": "code",
   "execution_count": null,
   "id": "dff85119",
   "metadata": {},
   "outputs": [],
   "source": []
  },
  {
   "cell_type": "markdown",
   "id": "b7188f70",
   "metadata": {},
   "source": [
    "기존의  numpy datetime64 format 변수를 사용하여 인덱스 설정"
   ]
  },
  {
   "cell_type": "code",
   "execution_count": null,
   "id": "d9b4aede",
   "metadata": {},
   "outputs": [],
   "source": []
  },
  {
   "cell_type": "code",
   "execution_count": null,
   "id": "b4a9bfa8",
   "metadata": {},
   "outputs": [],
   "source": []
  },
  {
   "cell_type": "markdown",
   "id": "8ebe9682",
   "metadata": {},
   "source": [
    "### Subsetting data\n",
    "\n",
    "이제 DatetimeIndex를 사용하여 데이터 하위 집합을 선택할 수 있습니다."
   ]
  },
  {
   "cell_type": "code",
   "execution_count": null,
   "id": "2169896b",
   "metadata": {},
   "outputs": [],
   "source": []
  },
  {
   "cell_type": "code",
   "execution_count": null,
   "id": "6039e642",
   "metadata": {},
   "outputs": [],
   "source": []
  },
  {
   "cell_type": "markdown",
   "id": "49d54bbd",
   "metadata": {},
   "source": [
    "### Datetime Components\n",
    "\n",
    "Pandas Datetime 변수에는 여러 가지 유용한 구성 요소가 있습니다. DatetimeIndex를 사용하여 월, 연도, 요일, 분기 등과 같은 항목을 추출할 수 있습니다."
   ]
  },
  {
   "cell_type": "markdown",
   "id": "aac59d3e",
   "metadata": {},
   "source": [
    "DatetimeIndex에서 date 추출"
   ]
  },
  {
   "cell_type": "code",
   "execution_count": null,
   "id": "dff28a9b",
   "metadata": {},
   "outputs": [],
   "source": []
  },
  {
   "cell_type": "markdown",
   "id": "f01a84d5",
   "metadata": {},
   "source": [
    "- DatetimeIndex에서 day of week 추출 (Day of Week: Monday=0, Sunday=6)"
   ]
  },
  {
   "cell_type": "code",
   "execution_count": null,
   "id": "868eaad8",
   "metadata": {},
   "outputs": [],
   "source": []
  },
  {
   "cell_type": "code",
   "execution_count": null,
   "id": "d24c97bf",
   "metadata": {},
   "outputs": [],
   "source": []
  },
  {
   "cell_type": "markdown",
   "id": "a470f25d",
   "metadata": {},
   "source": [
    "## resample\n",
    "\n",
    "- 시간 간격을 재조정   \n",
    "- 원래의 데이터가 그룹으로 묶이기 때문에 그룹 연산을 해서 대표값을 구해야 한다."
   ]
  },
  {
   "cell_type": "code",
   "execution_count": null,
   "id": "d55cb358",
   "metadata": {},
   "outputs": [],
   "source": []
  },
  {
   "cell_type": "markdown",
   "id": "91e34d44",
   "metadata": {},
   "source": [
    "주 단위로 down-sampling"
   ]
  },
  {
   "cell_type": "code",
   "execution_count": null,
   "id": "7eeb2d84",
   "metadata": {},
   "outputs": [],
   "source": []
  },
  {
   "cell_type": "markdown",
   "id": "0c6b2ef4",
   "metadata": {},
   "source": [
    "주 단위 평균"
   ]
  },
  {
   "cell_type": "code",
   "execution_count": null,
   "id": "ef51f3c6",
   "metadata": {},
   "outputs": [],
   "source": []
  },
  {
   "cell_type": "markdown",
   "id": "cc2e37ad",
   "metadata": {},
   "source": [
    "월 단위 평균"
   ]
  },
  {
   "cell_type": "code",
   "execution_count": null,
   "id": "558bed60",
   "metadata": {},
   "outputs": [],
   "source": []
  },
  {
   "cell_type": "code",
   "execution_count": null,
   "id": "4546dd27",
   "metadata": {},
   "outputs": [],
   "source": []
  }
 ],
 "metadata": {
  "kernelspec": {
   "display_name": "Python 3 (ipykernel)",
   "language": "python",
   "name": "python3"
  },
  "language_info": {
   "codemirror_mode": {
    "name": "ipython",
    "version": 3
   },
   "file_extension": ".py",
   "mimetype": "text/x-python",
   "name": "python",
   "nbconvert_exporter": "python",
   "pygments_lexer": "ipython3",
   "version": "3.9.16"
  }
 },
 "nbformat": 4,
 "nbformat_minor": 5
}
