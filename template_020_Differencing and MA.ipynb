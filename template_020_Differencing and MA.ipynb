{
 "cells": [
  {
   "cell_type": "markdown",
   "id": "615b30d3",
   "metadata": {},
   "source": [
    "# 차분(Differencing) 과 이동평균(MA)"
   ]
  },
  {
   "cell_type": "code",
   "execution_count": null,
   "id": "2a0de90f",
   "metadata": {},
   "outputs": [],
   "source": [
    "#!pip install --upgrade finance-datareader\n",
    "#!pip install yfinance"
   ]
  },
  {
   "cell_type": "code",
   "execution_count": null,
   "id": "c48461be",
   "metadata": {},
   "outputs": [],
   "source": []
  },
  {
   "cell_type": "markdown",
   "id": "d1f6314c",
   "metadata": {},
   "source": [
    "## Price difference (익일 종가 - 당일 종가)\n",
    "\n",
    "PriceDiff = (Close Price of tomorrow - Close Price of today)\n",
    "\n",
    "- shift(period)"
   ]
  },
  {
   "cell_type": "code",
   "execution_count": null,
   "id": "304123c7",
   "metadata": {},
   "outputs": [],
   "source": [
    "# Facebook(META)의 주가 데이터를 2017년 8월 9일부터 불러옵니다.\n",
    "# Microsoft(MSFT)의 주가 데이터를 2017년 8월 9일부터 불러옵니다."
   ]
  },
  {
   "cell_type": "code",
   "execution_count": null,
   "id": "a2c5101d",
   "metadata": {},
   "outputs": [],
   "source": []
  },
  {
   "cell_type": "code",
   "execution_count": null,
   "id": "588d641e",
   "metadata": {},
   "outputs": [],
   "source": [
    "# Facebook(META) 주가 데이터에 '어제 종가(Yesterday Close)' 열을 추가합니다.\n",
    "# 'Close' 열을 기준으로 데이터를 한 행씩 아래로 이동시켜 전일 종가 데이터를 만듭니다."
   ]
  },
  {
   "cell_type": "markdown",
   "id": "e6933ec8",
   "metadata": {},
   "source": [
    "Price Difference - manual 계산"
   ]
  },
  {
   "cell_type": "code",
   "execution_count": null,
   "id": "37686e2c",
   "metadata": {},
   "outputs": [],
   "source": [
    "# Facebook(META) 주가 데이터에 '가격 차이(Price Difference)' 열을 추가합니다.\n",
    "# 'Price Difference'는 당일 종가('Close')에서 전일 종가('Yesterday Close')를 뺀 값으로 계산됩니다."
   ]
  },
  {
   "cell_type": "markdown",
   "id": "a349bb9e",
   "metadata": {},
   "source": [
    "Price Difference - diff() method 사용"
   ]
  },
  {
   "cell_type": "code",
   "execution_count": null,
   "id": "36e4b139",
   "metadata": {},
   "outputs": [],
   "source": [
    "# Facebook(META) 주가 데이터에 '가격 차이 2(Price Diff2)' 열을 추가합니다.\n",
    "# 'Price Diff2'는 pandas의 diff() 함수를 사용하여 'Close' 열에서 하루 전 종가와의 차이를 계산한 값입니다."
   ]
  },
  {
   "cell_type": "code",
   "execution_count": null,
   "id": "da5c8d84",
   "metadata": {},
   "outputs": [],
   "source": [
    "# Microsoft(MSFT) 주가 데이터에 '어제 종가(Yesterday Close)' 열을 추가합니다.\n",
    "# 'Yesterday Close'는 'Close' 열을 기준으로 데이터를 한 행씩 아래로 이동시켜 전일 종가를 나타냅니다.\n",
    "# Microsoft 주가 데이터에 '가격 차이(Price Difference)' 열을 추가합니다.\n",
    "# 'Price Difference'는 pandas의 diff() 함수를 사용하여 'Close' 열에서 하루 전 종가와의 차이를 계산한 값입니다."
   ]
  },
  {
   "cell_type": "code",
   "execution_count": null,
   "id": "2f2e5f02",
   "metadata": {},
   "outputs": [],
   "source": []
  },
  {
   "cell_type": "code",
   "execution_count": null,
   "id": "3f42b668",
   "metadata": {},
   "outputs": [],
   "source": []
  },
  {
   "cell_type": "markdown",
   "id": "62e2b505",
   "metadata": {},
   "source": [
    "차분한 값으로부터 원래의 값 복원하기"
   ]
  },
  {
   "cell_type": "code",
   "execution_count": null,
   "id": "6120f73e",
   "metadata": {},
   "outputs": [],
   "source": [
    "# Microsoft 주가 데이터에서 'Price Difference'의 누적 합(cumsum)을 계산하고, 첫 번째 종가 값(ms['Close'].iloc[0])을 더합니다.\n",
    "# 이는 첫 번째 종가에서부터 매일 가격 변동을 누적하여 계산한 값을 의미합니다."
   ]
  },
  {
   "cell_type": "markdown",
   "id": "39bcb9b4",
   "metadata": {},
   "source": [
    "## 일일 수익률 계산\n",
    "\n",
    "- 1 주를 계속 보유하였다고 가정.  \n",
    "\n",
    "\n",
    "- 계산 방법. \n",
    "\n",
    "- Daily Return = df/df.shift(1) - 1  \n",
    "    or\n",
    "- Daily Return[1:] = df[1:] / df[:-1].values - 1  \n",
    "    or    \n",
    "- Daily Return = df.pct_chage()"
   ]
  },
  {
   "cell_type": "code",
   "execution_count": null,
   "id": "1b9dd1a0",
   "metadata": {},
   "outputs": [],
   "source": [
    "# Microsoft 주가 데이터에 '수익률(Return)' 열을 추가합니다.\n",
    "# 'Return'은 당일 종가('Close')를 전일 종가('Yesterday Close')로 나눈 값에서 1을 뺀 값으로, 일간 수익률을 나타냅니다."
   ]
  },
  {
   "cell_type": "code",
   "execution_count": null,
   "id": "f4d79ed4",
   "metadata": {},
   "outputs": [],
   "source": []
  },
  {
   "cell_type": "code",
   "execution_count": null,
   "id": "dd47ff3b",
   "metadata": {},
   "outputs": [],
   "source": [
    "# Microsoft 주가 데이터에서 일간 수익률을 계산하는 또 다른 방법입니다.\n",
    "# 'Close'[1:]은 첫 번째 행 이후의 종가 데이터를, 'Close'[:-1]은 마지막 행 전까지의 종가 데이터를 나타냅니다.\n",
    "# 이를 통해 당일 종가를 전일 종가로 나눈 후, 1을 빼서 수익률을 계산합니다."
   ]
  },
  {
   "cell_type": "code",
   "execution_count": null,
   "id": "b9e26578",
   "metadata": {},
   "outputs": [],
   "source": [
    "# Microsoft 주가 데이터에서 'Close' 열의 일간 변동률(percentage change)을 계산합니다.\n",
    "# pct_change() 함수는 각 행에서 이전 행과의 퍼센트 변동률을 계산해 줍니다.\n",
    "# 이를 통해 하루 전 종가 대비 주가가 얼마나 변동했는지를 백분율로 나타냅니다."
   ]
  },
  {
   "cell_type": "code",
   "execution_count": null,
   "id": "b93bb9d0",
   "metadata": {},
   "outputs": [],
   "source": [
    "# Microsoft 주가 데이터에서 첫 번째 날짜(ms.index[0])부터 마지막 날짜(ms.index[-1])까지의 날짜 범위를 생성하고,\n",
    "# 해당 기간 동안의 총 일수를 출력합니다.\n",
    "# 'Return' 열에서 각 일간 수익률에 1을 더한 값을 누적 곱(cumprod)하여 누적 수익률을 계산합니다.\n",
    "# cumprod() 함수는 수익률을 계속 곱해 나가며 최종적으로 기간 동안의 누적 수익률을 계산합니다."
   ]
  },
  {
   "cell_type": "markdown",
   "id": "01b04d36",
   "metadata": {},
   "source": [
    "## 이동평균 - Moving average\n",
    "\n",
    "- DataFrame.rolling()"
   ]
  },
  {
   "cell_type": "code",
   "execution_count": null,
   "id": "a3b96efc",
   "metadata": {},
   "outputs": [],
   "source": [
    "# Facebook(META) 주가 데이터에서 3일 이동평균을 계산합니다.\n",
    "# 'Close' 열과 그 전날('shift(1)'), 이틀 전('shift(2)')의 'Close' 값을 더한 후 3으로 나누어 3일 이동평균을 구합니다."
   ]
  },
  {
   "cell_type": "code",
   "execution_count": null,
   "id": "738ff152",
   "metadata": {},
   "outputs": [],
   "source": [
    "# Facebook(META) 주가 데이터에서 'Close' 열을 기준으로 3일 이동평균을 계산합니다.\n",
    "# rolling(3)은 3일 간격으로 이동평균을 계산하며, mean() 함수로 그 평균값을 구합니다."
   ]
  },
  {
   "cell_type": "markdown",
   "id": "711d7e2b",
   "metadata": {},
   "source": [
    "### 이동평균 계산 및 이동평균선 시각화"
   ]
  },
  {
   "cell_type": "code",
   "execution_count": null,
   "id": "2cfa8a32",
   "metadata": {},
   "outputs": [],
   "source": [
    "# Facebook(META) 주가 데이터에 30일 이동평균(ma30)과 60일 이동평균(ma60)을 각각 추가합니다.\n",
    "# 이동평균을 시각화\n",
    "# 30일 이동평균을 플로팅하고, label을 'MA30'으로 설정합니다.\n",
    "# 60일 이동평균을 플로팅하고, label을 'MA60'으로 설정합니다.\n",
    "# 실제 종가('Close')를 플로팅하고, label을 'Close'로 설정합니다."
   ]
  },
  {
   "cell_type": "code",
   "execution_count": null,
   "id": "a7f521b9",
   "metadata": {},
   "outputs": [],
   "source": [
    "# 특정 기간(2021년 1월 1일 ~ 2021년 12월 31일) 동안의 이동평균을 플로팅\n",
    "# 30일 이동평균(ma30)에서 2021년의 데이터를 선택하여 플로팅하고, label을 'MA30'으로 설정합니다.\n",
    "# 60일 이동평균(ma60)에서 2021년의 데이터를 선택하여 플로팅하고, label을 'MA60'으로 설정합니다.\n",
    "# 실제 종가('Close')에서 2021년의 데이터를 선택하여 플로팅하고, label을 'Close'로 설정합니다."
   ]
  },
  {
   "cell_type": "markdown",
   "id": "89ca0d70",
   "metadata": {},
   "source": [
    "## EWMA (Exponentially-weighted moving average)\n",
    "\n",
    "\n",
    "SMA(Simple Moving Average)에는 몇 가지 \"약점\"이 있습니다.\n",
    "* window 가 작을수록 신호가 아닌 잡음이 증가합니다.\n",
    "* 항상 window 크기만큼 지연됩니다.\n",
    "* 평균화로 인해 데이터의 전체 피크 또는 계곡에 도달하지 않습니다.\n",
    "* 미래의 움직임에 대해 실제로 알려주지 않습니다. 실제로는 데이터의 trend를 묘사하는 것입니다.\n",
    "* 극단적인 historical value 로 인해 SMA가 크게 왜곡 될 수 있습니다.\n",
    "\n",
    "이러한 문제를 해결하기 위해 EWMA (지수 가중 이동 평균)를 사용할 수 있습니다."
   ]
  },
  {
   "cell_type": "code",
   "execution_count": null,
   "id": "2f701cb4",
   "metadata": {},
   "outputs": [],
   "source": []
  },
  {
   "cell_type": "code",
   "execution_count": null,
   "id": "b42c9866",
   "metadata": {},
   "outputs": [],
   "source": [
    "# 단순 이동평균(SMA: Simple Moving Average) 계산\n",
    "# 6일 이동평균(SMA6)을 'Close' 열을 기준으로 계산하여 데이터프레임(df)에 추가합니다.\n",
    "# 12일 이동평균(SMA12)을 'Close' 열을 기준으로 계산하여 데이터프레임(df)에 추가합니다.\n",
    "# 이동평균과 주가 데이터를 시각화\n",
    "# 그래프 크기를 12x6으로 설정한 후, df 데이터프레임 전체를 플로팅합니다."
   ]
  },
  {
   "cell_type": "markdown",
   "id": "4b0e629f",
   "metadata": {},
   "source": [
    "- EWMA를 사용하면 SMA의 지연 효과를 줄일 수 있으며 최근에 발생한 값에 더 많은 가중치를 적용합니다.  \n",
    "\n",
    "- 가장 최근 값에 적용되는 가중치는 EWMA에 사용된 실제 매개 변수와 window 크기로 지정된 기간에 따라 다릅니다.\n",
    "\n",
    "EWMA 공식은 다음과 같습니다.\n",
    "\n",
    "$$ y_t =   \\frac{\\sum\\limits_{i=0}^t w_i x_{t-i}}{\\sum\\limits_{i=0}^t w_i}$$\n",
    "\n",
    "$x_t$ 는 입력값, $w_i$ 는 적용된 weight (i=0 에서 t 사이로 변할 수 있음). $y_t$ 는 산출된 값입니다."
   ]
  },
  {
   "cell_type": "code",
   "execution_count": null,
   "id": "0825d89b",
   "metadata": {},
   "outputs": [],
   "source": [
    "# 지수 가중 이동평균(EWMA: Exponentially Weighted Moving Average) 계산\n",
    "# 12일 지수 가중 이동평균(EWMA12)을 'Close' 열을 기준으로 계산하여 데이터프레임(df)에 추가합니다.\n",
    "# ewm(span=12)은 지수 가중 평균을 계산할 때 사용되며, span은 기간을 의미합니다.\n",
    "# 데이터프레임(df)의 마지막 5줄을 출력하여 확인합니다."
   ]
  },
  {
   "cell_type": "code",
   "execution_count": null,
   "id": "e6747748",
   "metadata": {},
   "outputs": [],
   "source": [
    "# 'Close', 'EWMA12', 'SMA12' 열을 함께 시각화\n",
    "# 데이터프레임(df)에서 'Close'(종가), 'EWMA12'(12일 지수 가중 이동평균), 'SMA12'(12일 단순 이동평균) 열을 선택하여 플로팅합니다."
   ]
  },
  {
   "cell_type": "code",
   "execution_count": null,
   "id": "8b6325c0",
   "metadata": {},
   "outputs": [],
   "source": []
  }
 ],
 "metadata": {
  "kernelspec": {
   "display_name": "Python 3 (ipykernel)",
   "language": "python",
   "name": "python3"
  },
  "language_info": {
   "codemirror_mode": {
    "name": "ipython",
    "version": 3
   },
   "file_extension": ".py",
   "mimetype": "text/x-python",
   "name": "python",
   "nbconvert_exporter": "python",
   "pygments_lexer": "ipython3",
   "version": "3.9.16"
  }
 },
 "nbformat": 4,
 "nbformat_minor": 5
}
