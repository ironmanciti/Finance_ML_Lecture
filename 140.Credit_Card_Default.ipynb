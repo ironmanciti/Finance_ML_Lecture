{
 "cells": [
  {
   "cell_type": "markdown",
   "metadata": {},
   "source": [
    "#  Machine Learning을 활용한 Credit Card Default 예측"
   ]
  },
  {
   "cell_type": "code",
   "execution_count": 1,
   "metadata": {},
   "outputs": [],
   "source": [
    "import pandas as pd\n",
    "import matplotlib.pyplot as plt\n",
    "import seaborn as sns\n",
    "import numpy as np\n",
    "from sklearn.model_selection import train_test_split\n",
    "import korean"
   ]
  },
  {
   "cell_type": "markdown",
   "metadata": {},
   "source": [
    "### Dataset 구성\n",
    "- limit_bal : credit 카드 한도  \n",
    "- payment_status_{month}: 이전 6개월 중 해당 월의 payment status  \n",
    "- bill_statement_{month}: 이전 6개월 중 해당 월의 청구 금액  \n",
    "- previous_payment_{month} : 이전 6개월 중 해당 월의 결제 금액  \n",
    "- default_payment_next_month : 익월 연체 여부 (1, 0)"
   ]
  },
  {
   "cell_type": "code",
   "execution_count": 2,
   "metadata": {},
   "outputs": [
    {
     "name": "stdout",
     "output_type": "stream",
     "text": [
      "(30000, 24)\n"
     ]
    },
    {
     "data": {
      "text/html": [
       "<div>\n",
       "<style scoped>\n",
       "    .dataframe tbody tr th:only-of-type {\n",
       "        vertical-align: middle;\n",
       "    }\n",
       "\n",
       "    .dataframe tbody tr th {\n",
       "        vertical-align: top;\n",
       "    }\n",
       "\n",
       "    .dataframe thead th {\n",
       "        text-align: right;\n",
       "    }\n",
       "</style>\n",
       "<table border=\"1\" class=\"dataframe\">\n",
       "  <thead>\n",
       "    <tr style=\"text-align: right;\">\n",
       "      <th></th>\n",
       "      <th>limit_bal</th>\n",
       "      <th>sex</th>\n",
       "      <th>education</th>\n",
       "      <th>marriage</th>\n",
       "      <th>age</th>\n",
       "      <th>payment_status_sep</th>\n",
       "      <th>payment_status_aug</th>\n",
       "      <th>payment_status_jul</th>\n",
       "      <th>payment_status_jun</th>\n",
       "      <th>payment_status_may</th>\n",
       "      <th>...</th>\n",
       "      <th>bill_statement_jun</th>\n",
       "      <th>bill_statement_may</th>\n",
       "      <th>bill_statement_apr</th>\n",
       "      <th>previous_payment_sep</th>\n",
       "      <th>previous_payment_aug</th>\n",
       "      <th>previous_payment_jul</th>\n",
       "      <th>previous_payment_jun</th>\n",
       "      <th>previous_payment_may</th>\n",
       "      <th>previous_payment_apr</th>\n",
       "      <th>default_payment_next_month</th>\n",
       "    </tr>\n",
       "  </thead>\n",
       "  <tbody>\n",
       "    <tr>\n",
       "      <th>0</th>\n",
       "      <td>20000</td>\n",
       "      <td>Female</td>\n",
       "      <td>University</td>\n",
       "      <td>Married</td>\n",
       "      <td>24.0</td>\n",
       "      <td>Payment delayed 2 months</td>\n",
       "      <td>Payment delayed 2 months</td>\n",
       "      <td>Payed duly</td>\n",
       "      <td>Payed duly</td>\n",
       "      <td>Unknown</td>\n",
       "      <td>...</td>\n",
       "      <td>0</td>\n",
       "      <td>0</td>\n",
       "      <td>0</td>\n",
       "      <td>0</td>\n",
       "      <td>689</td>\n",
       "      <td>0</td>\n",
       "      <td>0</td>\n",
       "      <td>0</td>\n",
       "      <td>0</td>\n",
       "      <td>1</td>\n",
       "    </tr>\n",
       "    <tr>\n",
       "      <th>1</th>\n",
       "      <td>120000</td>\n",
       "      <td>Female</td>\n",
       "      <td>University</td>\n",
       "      <td>Single</td>\n",
       "      <td>26.0</td>\n",
       "      <td>Payed duly</td>\n",
       "      <td>Payment delayed 2 months</td>\n",
       "      <td>Unknown</td>\n",
       "      <td>Unknown</td>\n",
       "      <td>Unknown</td>\n",
       "      <td>...</td>\n",
       "      <td>3272</td>\n",
       "      <td>3455</td>\n",
       "      <td>3261</td>\n",
       "      <td>0</td>\n",
       "      <td>1000</td>\n",
       "      <td>1000</td>\n",
       "      <td>1000</td>\n",
       "      <td>0</td>\n",
       "      <td>2000</td>\n",
       "      <td>1</td>\n",
       "    </tr>\n",
       "    <tr>\n",
       "      <th>2</th>\n",
       "      <td>90000</td>\n",
       "      <td>Female</td>\n",
       "      <td>University</td>\n",
       "      <td>Single</td>\n",
       "      <td>34.0</td>\n",
       "      <td>Unknown</td>\n",
       "      <td>Unknown</td>\n",
       "      <td>Unknown</td>\n",
       "      <td>Unknown</td>\n",
       "      <td>Unknown</td>\n",
       "      <td>...</td>\n",
       "      <td>14331</td>\n",
       "      <td>14948</td>\n",
       "      <td>15549</td>\n",
       "      <td>1518</td>\n",
       "      <td>1500</td>\n",
       "      <td>1000</td>\n",
       "      <td>1000</td>\n",
       "      <td>1000</td>\n",
       "      <td>5000</td>\n",
       "      <td>0</td>\n",
       "    </tr>\n",
       "    <tr>\n",
       "      <th>3</th>\n",
       "      <td>50000</td>\n",
       "      <td>Female</td>\n",
       "      <td>University</td>\n",
       "      <td>Married</td>\n",
       "      <td>37.0</td>\n",
       "      <td>Unknown</td>\n",
       "      <td>Unknown</td>\n",
       "      <td>Unknown</td>\n",
       "      <td>Unknown</td>\n",
       "      <td>Unknown</td>\n",
       "      <td>...</td>\n",
       "      <td>28314</td>\n",
       "      <td>28959</td>\n",
       "      <td>29547</td>\n",
       "      <td>2000</td>\n",
       "      <td>2019</td>\n",
       "      <td>1200</td>\n",
       "      <td>1100</td>\n",
       "      <td>1069</td>\n",
       "      <td>1000</td>\n",
       "      <td>0</td>\n",
       "    </tr>\n",
       "    <tr>\n",
       "      <th>4</th>\n",
       "      <td>50000</td>\n",
       "      <td>Male</td>\n",
       "      <td>University</td>\n",
       "      <td>Married</td>\n",
       "      <td>57.0</td>\n",
       "      <td>Payed duly</td>\n",
       "      <td>Unknown</td>\n",
       "      <td>Payed duly</td>\n",
       "      <td>Unknown</td>\n",
       "      <td>Unknown</td>\n",
       "      <td>...</td>\n",
       "      <td>20940</td>\n",
       "      <td>19146</td>\n",
       "      <td>19131</td>\n",
       "      <td>2000</td>\n",
       "      <td>36681</td>\n",
       "      <td>10000</td>\n",
       "      <td>9000</td>\n",
       "      <td>689</td>\n",
       "      <td>679</td>\n",
       "      <td>0</td>\n",
       "    </tr>\n",
       "  </tbody>\n",
       "</table>\n",
       "<p>5 rows × 24 columns</p>\n",
       "</div>"
      ],
      "text/plain": [
       "   limit_bal     sex   education marriage   age        payment_status_sep  \\\n",
       "0      20000  Female  University  Married  24.0  Payment delayed 2 months   \n",
       "1     120000  Female  University   Single  26.0                Payed duly   \n",
       "2      90000  Female  University   Single  34.0                   Unknown   \n",
       "3      50000  Female  University  Married  37.0                   Unknown   \n",
       "4      50000    Male  University  Married  57.0                Payed duly   \n",
       "\n",
       "         payment_status_aug payment_status_jul payment_status_jun  \\\n",
       "0  Payment delayed 2 months         Payed duly         Payed duly   \n",
       "1  Payment delayed 2 months            Unknown            Unknown   \n",
       "2                   Unknown            Unknown            Unknown   \n",
       "3                   Unknown            Unknown            Unknown   \n",
       "4                   Unknown         Payed duly            Unknown   \n",
       "\n",
       "  payment_status_may  ... bill_statement_jun  bill_statement_may  \\\n",
       "0            Unknown  ...                  0                   0   \n",
       "1            Unknown  ...               3272                3455   \n",
       "2            Unknown  ...              14331               14948   \n",
       "3            Unknown  ...              28314               28959   \n",
       "4            Unknown  ...              20940               19146   \n",
       "\n",
       "   bill_statement_apr  previous_payment_sep  previous_payment_aug  \\\n",
       "0                   0                     0                   689   \n",
       "1                3261                     0                  1000   \n",
       "2               15549                  1518                  1500   \n",
       "3               29547                  2000                  2019   \n",
       "4               19131                  2000                 36681   \n",
       "\n",
       "   previous_payment_jul  previous_payment_jun  previous_payment_may  \\\n",
       "0                     0                     0                     0   \n",
       "1                  1000                  1000                     0   \n",
       "2                  1000                  1000                  1000   \n",
       "3                  1200                  1100                  1069   \n",
       "4                 10000                  9000                   689   \n",
       "\n",
       "   previous_payment_apr  default_payment_next_month  \n",
       "0                     0                           1  \n",
       "1                  2000                           1  \n",
       "2                  5000                           0  \n",
       "3                  1000                           0  \n",
       "4                   679                           0  \n",
       "\n",
       "[5 rows x 24 columns]"
      ]
     },
     "execution_count": 2,
     "metadata": {},
     "output_type": "execute_result"
    }
   ],
   "source": [
    "df = pd.read_csv('data/credit_card_default.csv', index_col=0, na_values='')\n",
    "print(df.shape)\n",
    "df.head()"
   ]
  },
  {
   "cell_type": "markdown",
   "metadata": {},
   "source": [
    "- missing value check"
   ]
  },
  {
   "cell_type": "code",
   "execution_count": 3,
   "metadata": {},
   "outputs": [
    {
     "data": {
      "text/plain": [
       "limit_bal                       0\n",
       "sex                           150\n",
       "education                     150\n",
       "marriage                      150\n",
       "age                           150\n",
       "payment_status_sep              0\n",
       "payment_status_aug              0\n",
       "payment_status_jul              0\n",
       "payment_status_jun              0\n",
       "payment_status_may              0\n",
       "payment_status_apr              0\n",
       "bill_statement_sep              0\n",
       "bill_statement_aug              0\n",
       "bill_statement_jul              0\n",
       "bill_statement_jun              0\n",
       "bill_statement_may              0\n",
       "bill_statement_apr              0\n",
       "previous_payment_sep            0\n",
       "previous_payment_aug            0\n",
       "previous_payment_jul            0\n",
       "previous_payment_jun            0\n",
       "previous_payment_may            0\n",
       "previous_payment_apr            0\n",
       "default_payment_next_month      0\n",
       "dtype: int64"
      ]
     },
     "execution_count": 3,
     "metadata": {},
     "output_type": "execute_result"
    }
   ],
   "source": [
    "df.isnull().sum()"
   ]
  },
  {
   "cell_type": "markdown",
   "metadata": {},
   "source": [
    "### Target 변수의 분포\n",
    "- 신용카드 연체 가능성을 예측하는 것이므로, target 은 `default_payment_next_month` column 입니다."
   ]
  },
  {
   "cell_type": "code",
   "execution_count": 4,
   "metadata": {},
   "outputs": [
    {
     "data": {
      "text/plain": [
       "0    23364\n",
       "1     6636\n",
       "Name: default_payment_next_month, dtype: int64"
      ]
     },
     "execution_count": 4,
     "metadata": {},
     "output_type": "execute_result"
    }
   ],
   "source": [
    "df['default_payment_next_month'].value_counts()"
   ]
  },
  {
   "cell_type": "markdown",
   "metadata": {},
   "source": [
    "## Dealing with missing values"
   ]
  },
  {
   "cell_type": "markdown",
   "metadata": {},
   "source": [
    "- `age`는 median 으로 채운다"
   ]
  },
  {
   "cell_type": "code",
   "execution_count": 5,
   "metadata": {},
   "outputs": [],
   "source": [
    "df['age'].fillna(df['age'].median(), inplace=True)"
   ]
  },
  {
   "cell_type": "markdown",
   "metadata": {},
   "source": [
    "- categorical feature('sex', 'education', 'marriage')는 sklearn 의 SimpleImputer를 이용하여 filling"
   ]
  },
  {
   "cell_type": "code",
   "execution_count": 6,
   "metadata": {},
   "outputs": [],
   "source": [
    "from sklearn.impute import SimpleImputer\n",
    "\n",
    "CAT_FEATURES = ['sex', 'education', 'marriage']\n",
    "\n",
    "for col in CAT_FEATURES:\n",
    "    cat_imputer = SimpleImputer(strategy='most_frequent')\n",
    "    cat_imputer.fit(df[[col]])\n",
    "    df.loc[:, col] = cat_imputer.transform(df[[col]])"
   ]
  },
  {
   "cell_type": "code",
   "execution_count": 7,
   "metadata": {},
   "outputs": [
    {
     "data": {
      "text/plain": [
       "limit_bal                     0\n",
       "sex                           0\n",
       "education                     0\n",
       "marriage                      0\n",
       "age                           0\n",
       "payment_status_sep            0\n",
       "payment_status_aug            0\n",
       "payment_status_jul            0\n",
       "payment_status_jun            0\n",
       "payment_status_may            0\n",
       "payment_status_apr            0\n",
       "bill_statement_sep            0\n",
       "bill_statement_aug            0\n",
       "bill_statement_jul            0\n",
       "bill_statement_jun            0\n",
       "bill_statement_may            0\n",
       "bill_statement_apr            0\n",
       "previous_payment_sep          0\n",
       "previous_payment_aug          0\n",
       "previous_payment_jul          0\n",
       "previous_payment_jun          0\n",
       "previous_payment_may          0\n",
       "previous_payment_apr          0\n",
       "default_payment_next_month    0\n",
       "dtype: int64"
      ]
     },
     "execution_count": 7,
     "metadata": {},
     "output_type": "execute_result"
    }
   ],
   "source": [
    "df.isnull().sum()"
   ]
  },
  {
   "cell_type": "code",
   "execution_count": 8,
   "metadata": {},
   "outputs": [
    {
     "name": "stdout",
     "output_type": "stream",
     "text": [
      "<class 'pandas.core.frame.DataFrame'>\n",
      "Int64Index: 30000 entries, 0 to 29999\n",
      "Data columns (total 24 columns):\n",
      " #   Column                      Non-Null Count  Dtype  \n",
      "---  ------                      --------------  -----  \n",
      " 0   limit_bal                   30000 non-null  int64  \n",
      " 1   sex                         30000 non-null  object \n",
      " 2   education                   30000 non-null  object \n",
      " 3   marriage                    30000 non-null  object \n",
      " 4   age                         30000 non-null  float64\n",
      " 5   payment_status_sep          30000 non-null  object \n",
      " 6   payment_status_aug          30000 non-null  object \n",
      " 7   payment_status_jul          30000 non-null  object \n",
      " 8   payment_status_jun          30000 non-null  object \n",
      " 9   payment_status_may          30000 non-null  object \n",
      " 10  payment_status_apr          30000 non-null  object \n",
      " 11  bill_statement_sep          30000 non-null  int64  \n",
      " 12  bill_statement_aug          30000 non-null  int64  \n",
      " 13  bill_statement_jul          30000 non-null  int64  \n",
      " 14  bill_statement_jun          30000 non-null  int64  \n",
      " 15  bill_statement_may          30000 non-null  int64  \n",
      " 16  bill_statement_apr          30000 non-null  int64  \n",
      " 17  previous_payment_sep        30000 non-null  int64  \n",
      " 18  previous_payment_aug        30000 non-null  int64  \n",
      " 19  previous_payment_jul        30000 non-null  int64  \n",
      " 20  previous_payment_jun        30000 non-null  int64  \n",
      " 21  previous_payment_may        30000 non-null  int64  \n",
      " 22  previous_payment_apr        30000 non-null  int64  \n",
      " 23  default_payment_next_month  30000 non-null  int64  \n",
      "dtypes: float64(1), int64(14), object(9)\n",
      "memory usage: 5.7+ MB\n"
     ]
    }
   ],
   "source": [
    "df.info()"
   ]
  },
  {
   "cell_type": "markdown",
   "metadata": {},
   "source": [
    "- categorical feature들은 `pd.get_dummies`를 이용하여 `one-hot-encoding`"
   ]
  },
  {
   "cell_type": "code",
   "execution_count": 9,
   "metadata": {},
   "outputs": [
    {
     "data": {
      "text/plain": [
       "['sex',\n",
       " 'education',\n",
       " 'marriage',\n",
       " 'payment_status_sep',\n",
       " 'payment_status_aug',\n",
       " 'payment_status_jul',\n",
       " 'payment_status_jun',\n",
       " 'payment_status_may',\n",
       " 'payment_status_apr']"
      ]
     },
     "execution_count": 9,
     "metadata": {},
     "output_type": "execute_result"
    }
   ],
   "source": [
    "cat_columns = list(df.dtypes[df.dtypes == 'object'].index)\n",
    "cat_columns"
   ]
  },
  {
   "cell_type": "code",
   "execution_count": 10,
   "metadata": {},
   "outputs": [
    {
     "data": {
      "text/html": [
       "<div>\n",
       "<style scoped>\n",
       "    .dataframe tbody tr th:only-of-type {\n",
       "        vertical-align: middle;\n",
       "    }\n",
       "\n",
       "    .dataframe tbody tr th {\n",
       "        vertical-align: top;\n",
       "    }\n",
       "\n",
       "    .dataframe thead th {\n",
       "        text-align: right;\n",
       "    }\n",
       "</style>\n",
       "<table border=\"1\" class=\"dataframe\">\n",
       "  <thead>\n",
       "    <tr style=\"text-align: right;\">\n",
       "      <th></th>\n",
       "      <th>sex</th>\n",
       "      <th>education</th>\n",
       "      <th>marriage</th>\n",
       "      <th>payment_status_sep</th>\n",
       "      <th>payment_status_aug</th>\n",
       "      <th>payment_status_jul</th>\n",
       "      <th>payment_status_jun</th>\n",
       "      <th>payment_status_may</th>\n",
       "      <th>payment_status_apr</th>\n",
       "    </tr>\n",
       "  </thead>\n",
       "  <tbody>\n",
       "    <tr>\n",
       "      <th>0</th>\n",
       "      <td>Female</td>\n",
       "      <td>University</td>\n",
       "      <td>Married</td>\n",
       "      <td>Payment delayed 2 months</td>\n",
       "      <td>Payment delayed 2 months</td>\n",
       "      <td>Payed duly</td>\n",
       "      <td>Payed duly</td>\n",
       "      <td>Unknown</td>\n",
       "      <td>Unknown</td>\n",
       "    </tr>\n",
       "    <tr>\n",
       "      <th>1</th>\n",
       "      <td>Female</td>\n",
       "      <td>University</td>\n",
       "      <td>Single</td>\n",
       "      <td>Payed duly</td>\n",
       "      <td>Payment delayed 2 months</td>\n",
       "      <td>Unknown</td>\n",
       "      <td>Unknown</td>\n",
       "      <td>Unknown</td>\n",
       "      <td>Payment delayed 2 months</td>\n",
       "    </tr>\n",
       "    <tr>\n",
       "      <th>2</th>\n",
       "      <td>Female</td>\n",
       "      <td>University</td>\n",
       "      <td>Single</td>\n",
       "      <td>Unknown</td>\n",
       "      <td>Unknown</td>\n",
       "      <td>Unknown</td>\n",
       "      <td>Unknown</td>\n",
       "      <td>Unknown</td>\n",
       "      <td>Unknown</td>\n",
       "    </tr>\n",
       "    <tr>\n",
       "      <th>3</th>\n",
       "      <td>Female</td>\n",
       "      <td>University</td>\n",
       "      <td>Married</td>\n",
       "      <td>Unknown</td>\n",
       "      <td>Unknown</td>\n",
       "      <td>Unknown</td>\n",
       "      <td>Unknown</td>\n",
       "      <td>Unknown</td>\n",
       "      <td>Unknown</td>\n",
       "    </tr>\n",
       "    <tr>\n",
       "      <th>4</th>\n",
       "      <td>Male</td>\n",
       "      <td>University</td>\n",
       "      <td>Married</td>\n",
       "      <td>Payed duly</td>\n",
       "      <td>Unknown</td>\n",
       "      <td>Payed duly</td>\n",
       "      <td>Unknown</td>\n",
       "      <td>Unknown</td>\n",
       "      <td>Unknown</td>\n",
       "    </tr>\n",
       "    <tr>\n",
       "      <th>...</th>\n",
       "      <td>...</td>\n",
       "      <td>...</td>\n",
       "      <td>...</td>\n",
       "      <td>...</td>\n",
       "      <td>...</td>\n",
       "      <td>...</td>\n",
       "      <td>...</td>\n",
       "      <td>...</td>\n",
       "      <td>...</td>\n",
       "    </tr>\n",
       "    <tr>\n",
       "      <th>29995</th>\n",
       "      <td>Female</td>\n",
       "      <td>High school</td>\n",
       "      <td>Married</td>\n",
       "      <td>Unknown</td>\n",
       "      <td>Unknown</td>\n",
       "      <td>Unknown</td>\n",
       "      <td>Unknown</td>\n",
       "      <td>Unknown</td>\n",
       "      <td>Unknown</td>\n",
       "    </tr>\n",
       "    <tr>\n",
       "      <th>29996</th>\n",
       "      <td>Male</td>\n",
       "      <td>High school</td>\n",
       "      <td>Single</td>\n",
       "      <td>Payed duly</td>\n",
       "      <td>Payed duly</td>\n",
       "      <td>Payed duly</td>\n",
       "      <td>Payed duly</td>\n",
       "      <td>Unknown</td>\n",
       "      <td>Unknown</td>\n",
       "    </tr>\n",
       "    <tr>\n",
       "      <th>29997</th>\n",
       "      <td>Male</td>\n",
       "      <td>University</td>\n",
       "      <td>Single</td>\n",
       "      <td>Payment delayed 4 months</td>\n",
       "      <td>Payment delayed 3 months</td>\n",
       "      <td>Payment delayed 2 months</td>\n",
       "      <td>Payed duly</td>\n",
       "      <td>Unknown</td>\n",
       "      <td>Unknown</td>\n",
       "    </tr>\n",
       "    <tr>\n",
       "      <th>29998</th>\n",
       "      <td>Male</td>\n",
       "      <td>High school</td>\n",
       "      <td>Married</td>\n",
       "      <td>Payment delayed 1 month</td>\n",
       "      <td>Payed duly</td>\n",
       "      <td>Unknown</td>\n",
       "      <td>Unknown</td>\n",
       "      <td>Unknown</td>\n",
       "      <td>Payed duly</td>\n",
       "    </tr>\n",
       "    <tr>\n",
       "      <th>29999</th>\n",
       "      <td>Male</td>\n",
       "      <td>University</td>\n",
       "      <td>Married</td>\n",
       "      <td>Unknown</td>\n",
       "      <td>Unknown</td>\n",
       "      <td>Unknown</td>\n",
       "      <td>Unknown</td>\n",
       "      <td>Unknown</td>\n",
       "      <td>Unknown</td>\n",
       "    </tr>\n",
       "  </tbody>\n",
       "</table>\n",
       "<p>30000 rows × 9 columns</p>\n",
       "</div>"
      ],
      "text/plain": [
       "          sex    education marriage        payment_status_sep  \\\n",
       "0      Female   University  Married  Payment delayed 2 months   \n",
       "1      Female   University   Single                Payed duly   \n",
       "2      Female   University   Single                   Unknown   \n",
       "3      Female   University  Married                   Unknown   \n",
       "4        Male   University  Married                Payed duly   \n",
       "...       ...          ...      ...                       ...   \n",
       "29995  Female  High school  Married                   Unknown   \n",
       "29996    Male  High school   Single                Payed duly   \n",
       "29997    Male   University   Single  Payment delayed 4 months   \n",
       "29998    Male  High school  Married   Payment delayed 1 month   \n",
       "29999    Male   University  Married                   Unknown   \n",
       "\n",
       "             payment_status_aug        payment_status_jul payment_status_jun  \\\n",
       "0      Payment delayed 2 months                Payed duly         Payed duly   \n",
       "1      Payment delayed 2 months                   Unknown            Unknown   \n",
       "2                       Unknown                   Unknown            Unknown   \n",
       "3                       Unknown                   Unknown            Unknown   \n",
       "4                       Unknown                Payed duly            Unknown   \n",
       "...                         ...                       ...                ...   \n",
       "29995                   Unknown                   Unknown            Unknown   \n",
       "29996                Payed duly                Payed duly         Payed duly   \n",
       "29997  Payment delayed 3 months  Payment delayed 2 months         Payed duly   \n",
       "29998                Payed duly                   Unknown            Unknown   \n",
       "29999                   Unknown                   Unknown            Unknown   \n",
       "\n",
       "      payment_status_may        payment_status_apr  \n",
       "0                Unknown                   Unknown  \n",
       "1                Unknown  Payment delayed 2 months  \n",
       "2                Unknown                   Unknown  \n",
       "3                Unknown                   Unknown  \n",
       "4                Unknown                   Unknown  \n",
       "...                  ...                       ...  \n",
       "29995            Unknown                   Unknown  \n",
       "29996            Unknown                   Unknown  \n",
       "29997            Unknown                   Unknown  \n",
       "29998            Unknown                Payed duly  \n",
       "29999            Unknown                   Unknown  \n",
       "\n",
       "[30000 rows x 9 columns]"
      ]
     },
     "execution_count": 10,
     "metadata": {},
     "output_type": "execute_result"
    }
   ],
   "source": [
    "df[cat_columns]"
   ]
  },
  {
   "cell_type": "code",
   "execution_count": 11,
   "metadata": {},
   "outputs": [
    {
     "data": {
      "text/html": [
       "<div>\n",
       "<style scoped>\n",
       "    .dataframe tbody tr th:only-of-type {\n",
       "        vertical-align: middle;\n",
       "    }\n",
       "\n",
       "    .dataframe tbody tr th {\n",
       "        vertical-align: top;\n",
       "    }\n",
       "\n",
       "    .dataframe thead th {\n",
       "        text-align: right;\n",
       "    }\n",
       "</style>\n",
       "<table border=\"1\" class=\"dataframe\">\n",
       "  <thead>\n",
       "    <tr style=\"text-align: right;\">\n",
       "      <th></th>\n",
       "      <th>limit_bal</th>\n",
       "      <th>age</th>\n",
       "      <th>bill_statement_sep</th>\n",
       "      <th>bill_statement_aug</th>\n",
       "      <th>bill_statement_jul</th>\n",
       "      <th>bill_statement_jun</th>\n",
       "      <th>bill_statement_may</th>\n",
       "      <th>bill_statement_apr</th>\n",
       "      <th>previous_payment_sep</th>\n",
       "      <th>previous_payment_aug</th>\n",
       "      <th>...</th>\n",
       "      <th>payment_status_may_Unknown</th>\n",
       "      <th>payment_status_apr_Payed duly</th>\n",
       "      <th>payment_status_apr_Payment delayed 2 months</th>\n",
       "      <th>payment_status_apr_Payment delayed 3 months</th>\n",
       "      <th>payment_status_apr_Payment delayed 4 months</th>\n",
       "      <th>payment_status_apr_Payment delayed 5 months</th>\n",
       "      <th>payment_status_apr_Payment delayed 6 months</th>\n",
       "      <th>payment_status_apr_Payment delayed 7 months</th>\n",
       "      <th>payment_status_apr_Payment delayed 8 months</th>\n",
       "      <th>payment_status_apr_Unknown</th>\n",
       "    </tr>\n",
       "  </thead>\n",
       "  <tbody>\n",
       "    <tr>\n",
       "      <th>0</th>\n",
       "      <td>20000</td>\n",
       "      <td>24.0</td>\n",
       "      <td>3913</td>\n",
       "      <td>3102</td>\n",
       "      <td>689</td>\n",
       "      <td>0</td>\n",
       "      <td>0</td>\n",
       "      <td>0</td>\n",
       "      <td>0</td>\n",
       "      <td>689</td>\n",
       "      <td>...</td>\n",
       "      <td>1</td>\n",
       "      <td>0</td>\n",
       "      <td>0</td>\n",
       "      <td>0</td>\n",
       "      <td>0</td>\n",
       "      <td>0</td>\n",
       "      <td>0</td>\n",
       "      <td>0</td>\n",
       "      <td>0</td>\n",
       "      <td>1</td>\n",
       "    </tr>\n",
       "    <tr>\n",
       "      <th>1</th>\n",
       "      <td>120000</td>\n",
       "      <td>26.0</td>\n",
       "      <td>2682</td>\n",
       "      <td>1725</td>\n",
       "      <td>2682</td>\n",
       "      <td>3272</td>\n",
       "      <td>3455</td>\n",
       "      <td>3261</td>\n",
       "      <td>0</td>\n",
       "      <td>1000</td>\n",
       "      <td>...</td>\n",
       "      <td>1</td>\n",
       "      <td>0</td>\n",
       "      <td>1</td>\n",
       "      <td>0</td>\n",
       "      <td>0</td>\n",
       "      <td>0</td>\n",
       "      <td>0</td>\n",
       "      <td>0</td>\n",
       "      <td>0</td>\n",
       "      <td>0</td>\n",
       "    </tr>\n",
       "    <tr>\n",
       "      <th>2</th>\n",
       "      <td>90000</td>\n",
       "      <td>34.0</td>\n",
       "      <td>29239</td>\n",
       "      <td>14027</td>\n",
       "      <td>13559</td>\n",
       "      <td>14331</td>\n",
       "      <td>14948</td>\n",
       "      <td>15549</td>\n",
       "      <td>1518</td>\n",
       "      <td>1500</td>\n",
       "      <td>...</td>\n",
       "      <td>1</td>\n",
       "      <td>0</td>\n",
       "      <td>0</td>\n",
       "      <td>0</td>\n",
       "      <td>0</td>\n",
       "      <td>0</td>\n",
       "      <td>0</td>\n",
       "      <td>0</td>\n",
       "      <td>0</td>\n",
       "      <td>1</td>\n",
       "    </tr>\n",
       "    <tr>\n",
       "      <th>3</th>\n",
       "      <td>50000</td>\n",
       "      <td>37.0</td>\n",
       "      <td>46990</td>\n",
       "      <td>48233</td>\n",
       "      <td>49291</td>\n",
       "      <td>28314</td>\n",
       "      <td>28959</td>\n",
       "      <td>29547</td>\n",
       "      <td>2000</td>\n",
       "      <td>2019</td>\n",
       "      <td>...</td>\n",
       "      <td>1</td>\n",
       "      <td>0</td>\n",
       "      <td>0</td>\n",
       "      <td>0</td>\n",
       "      <td>0</td>\n",
       "      <td>0</td>\n",
       "      <td>0</td>\n",
       "      <td>0</td>\n",
       "      <td>0</td>\n",
       "      <td>1</td>\n",
       "    </tr>\n",
       "    <tr>\n",
       "      <th>4</th>\n",
       "      <td>50000</td>\n",
       "      <td>57.0</td>\n",
       "      <td>8617</td>\n",
       "      <td>5670</td>\n",
       "      <td>35835</td>\n",
       "      <td>20940</td>\n",
       "      <td>19146</td>\n",
       "      <td>19131</td>\n",
       "      <td>2000</td>\n",
       "      <td>36681</td>\n",
       "      <td>...</td>\n",
       "      <td>1</td>\n",
       "      <td>0</td>\n",
       "      <td>0</td>\n",
       "      <td>0</td>\n",
       "      <td>0</td>\n",
       "      <td>0</td>\n",
       "      <td>0</td>\n",
       "      <td>0</td>\n",
       "      <td>0</td>\n",
       "      <td>1</td>\n",
       "    </tr>\n",
       "  </tbody>\n",
       "</table>\n",
       "<p>5 rows × 82 columns</p>\n",
       "</div>"
      ],
      "text/plain": [
       "   limit_bal   age  bill_statement_sep  bill_statement_aug  \\\n",
       "0      20000  24.0                3913                3102   \n",
       "1     120000  26.0                2682                1725   \n",
       "2      90000  34.0               29239               14027   \n",
       "3      50000  37.0               46990               48233   \n",
       "4      50000  57.0                8617                5670   \n",
       "\n",
       "   bill_statement_jul  bill_statement_jun  bill_statement_may  \\\n",
       "0                 689                   0                   0   \n",
       "1                2682                3272                3455   \n",
       "2               13559               14331               14948   \n",
       "3               49291               28314               28959   \n",
       "4               35835               20940               19146   \n",
       "\n",
       "   bill_statement_apr  previous_payment_sep  previous_payment_aug  ...  \\\n",
       "0                   0                     0                   689  ...   \n",
       "1                3261                     0                  1000  ...   \n",
       "2               15549                  1518                  1500  ...   \n",
       "3               29547                  2000                  2019  ...   \n",
       "4               19131                  2000                 36681  ...   \n",
       "\n",
       "   payment_status_may_Unknown  payment_status_apr_Payed duly  \\\n",
       "0                           1                              0   \n",
       "1                           1                              0   \n",
       "2                           1                              0   \n",
       "3                           1                              0   \n",
       "4                           1                              0   \n",
       "\n",
       "   payment_status_apr_Payment delayed 2 months  \\\n",
       "0                                            0   \n",
       "1                                            1   \n",
       "2                                            0   \n",
       "3                                            0   \n",
       "4                                            0   \n",
       "\n",
       "   payment_status_apr_Payment delayed 3 months  \\\n",
       "0                                            0   \n",
       "1                                            0   \n",
       "2                                            0   \n",
       "3                                            0   \n",
       "4                                            0   \n",
       "\n",
       "   payment_status_apr_Payment delayed 4 months  \\\n",
       "0                                            0   \n",
       "1                                            0   \n",
       "2                                            0   \n",
       "3                                            0   \n",
       "4                                            0   \n",
       "\n",
       "   payment_status_apr_Payment delayed 5 months  \\\n",
       "0                                            0   \n",
       "1                                            0   \n",
       "2                                            0   \n",
       "3                                            0   \n",
       "4                                            0   \n",
       "\n",
       "   payment_status_apr_Payment delayed 6 months  \\\n",
       "0                                            0   \n",
       "1                                            0   \n",
       "2                                            0   \n",
       "3                                            0   \n",
       "4                                            0   \n",
       "\n",
       "   payment_status_apr_Payment delayed 7 months  \\\n",
       "0                                            0   \n",
       "1                                            0   \n",
       "2                                            0   \n",
       "3                                            0   \n",
       "4                                            0   \n",
       "\n",
       "   payment_status_apr_Payment delayed 8 months  payment_status_apr_Unknown  \n",
       "0                                            0                           1  \n",
       "1                                            0                           0  \n",
       "2                                            0                           1  \n",
       "3                                            0                           1  \n",
       "4                                            0                           1  \n",
       "\n",
       "[5 rows x 82 columns]"
      ]
     },
     "execution_count": 11,
     "metadata": {},
     "output_type": "execute_result"
    }
   ],
   "source": [
    "df = pd.get_dummies(df, columns=cat_columns)\n",
    "df.head()"
   ]
  },
  {
   "cell_type": "code",
   "execution_count": 12,
   "metadata": {},
   "outputs": [
    {
     "name": "stdout",
     "output_type": "stream",
     "text": [
      "<class 'pandas.core.frame.DataFrame'>\n",
      "Int64Index: 30000 entries, 0 to 29999\n",
      "Data columns (total 82 columns):\n",
      " #   Column                                       Non-Null Count  Dtype  \n",
      "---  ------                                       --------------  -----  \n",
      " 0   limit_bal                                    30000 non-null  int64  \n",
      " 1   age                                          30000 non-null  float64\n",
      " 2   bill_statement_sep                           30000 non-null  int64  \n",
      " 3   bill_statement_aug                           30000 non-null  int64  \n",
      " 4   bill_statement_jul                           30000 non-null  int64  \n",
      " 5   bill_statement_jun                           30000 non-null  int64  \n",
      " 6   bill_statement_may                           30000 non-null  int64  \n",
      " 7   bill_statement_apr                           30000 non-null  int64  \n",
      " 8   previous_payment_sep                         30000 non-null  int64  \n",
      " 9   previous_payment_aug                         30000 non-null  int64  \n",
      " 10  previous_payment_jul                         30000 non-null  int64  \n",
      " 11  previous_payment_jun                         30000 non-null  int64  \n",
      " 12  previous_payment_may                         30000 non-null  int64  \n",
      " 13  previous_payment_apr                         30000 non-null  int64  \n",
      " 14  default_payment_next_month                   30000 non-null  int64  \n",
      " 15  sex_Female                                   30000 non-null  uint8  \n",
      " 16  sex_Male                                     30000 non-null  uint8  \n",
      " 17  education_Graduate school                    30000 non-null  uint8  \n",
      " 18  education_High school                        30000 non-null  uint8  \n",
      " 19  education_Others                             30000 non-null  uint8  \n",
      " 20  education_University                         30000 non-null  uint8  \n",
      " 21  marriage_Married                             30000 non-null  uint8  \n",
      " 22  marriage_Others                              30000 non-null  uint8  \n",
      " 23  marriage_Single                              30000 non-null  uint8  \n",
      " 24  payment_status_sep_Payed duly                30000 non-null  uint8  \n",
      " 25  payment_status_sep_Payment delayed 1 month   30000 non-null  uint8  \n",
      " 26  payment_status_sep_Payment delayed 2 months  30000 non-null  uint8  \n",
      " 27  payment_status_sep_Payment delayed 3 months  30000 non-null  uint8  \n",
      " 28  payment_status_sep_Payment delayed 4 months  30000 non-null  uint8  \n",
      " 29  payment_status_sep_Payment delayed 5 months  30000 non-null  uint8  \n",
      " 30  payment_status_sep_Payment delayed 6 months  30000 non-null  uint8  \n",
      " 31  payment_status_sep_Payment delayed 7 months  30000 non-null  uint8  \n",
      " 32  payment_status_sep_Payment delayed 8 months  30000 non-null  uint8  \n",
      " 33  payment_status_sep_Unknown                   30000 non-null  uint8  \n",
      " 34  payment_status_aug_Payed duly                30000 non-null  uint8  \n",
      " 35  payment_status_aug_Payment delayed 1 month   30000 non-null  uint8  \n",
      " 36  payment_status_aug_Payment delayed 2 months  30000 non-null  uint8  \n",
      " 37  payment_status_aug_Payment delayed 3 months  30000 non-null  uint8  \n",
      " 38  payment_status_aug_Payment delayed 4 months  30000 non-null  uint8  \n",
      " 39  payment_status_aug_Payment delayed 5 months  30000 non-null  uint8  \n",
      " 40  payment_status_aug_Payment delayed 6 months  30000 non-null  uint8  \n",
      " 41  payment_status_aug_Payment delayed 7 months  30000 non-null  uint8  \n",
      " 42  payment_status_aug_Payment delayed 8 months  30000 non-null  uint8  \n",
      " 43  payment_status_aug_Unknown                   30000 non-null  uint8  \n",
      " 44  payment_status_jul_Payed duly                30000 non-null  uint8  \n",
      " 45  payment_status_jul_Payment delayed 1 month   30000 non-null  uint8  \n",
      " 46  payment_status_jul_Payment delayed 2 months  30000 non-null  uint8  \n",
      " 47  payment_status_jul_Payment delayed 3 months  30000 non-null  uint8  \n",
      " 48  payment_status_jul_Payment delayed 4 months  30000 non-null  uint8  \n",
      " 49  payment_status_jul_Payment delayed 5 months  30000 non-null  uint8  \n",
      " 50  payment_status_jul_Payment delayed 6 months  30000 non-null  uint8  \n",
      " 51  payment_status_jul_Payment delayed 7 months  30000 non-null  uint8  \n",
      " 52  payment_status_jul_Payment delayed 8 months  30000 non-null  uint8  \n",
      " 53  payment_status_jul_Unknown                   30000 non-null  uint8  \n",
      " 54  payment_status_jun_Payed duly                30000 non-null  uint8  \n",
      " 55  payment_status_jun_Payment delayed 1 month   30000 non-null  uint8  \n",
      " 56  payment_status_jun_Payment delayed 2 months  30000 non-null  uint8  \n",
      " 57  payment_status_jun_Payment delayed 3 months  30000 non-null  uint8  \n",
      " 58  payment_status_jun_Payment delayed 4 months  30000 non-null  uint8  \n",
      " 59  payment_status_jun_Payment delayed 5 months  30000 non-null  uint8  \n",
      " 60  payment_status_jun_Payment delayed 6 months  30000 non-null  uint8  \n",
      " 61  payment_status_jun_Payment delayed 7 months  30000 non-null  uint8  \n",
      " 62  payment_status_jun_Payment delayed 8 months  30000 non-null  uint8  \n",
      " 63  payment_status_jun_Unknown                   30000 non-null  uint8  \n",
      " 64  payment_status_may_Payed duly                30000 non-null  uint8  \n",
      " 65  payment_status_may_Payment delayed 2 months  30000 non-null  uint8  \n",
      " 66  payment_status_may_Payment delayed 3 months  30000 non-null  uint8  \n",
      " 67  payment_status_may_Payment delayed 4 months  30000 non-null  uint8  \n",
      " 68  payment_status_may_Payment delayed 5 months  30000 non-null  uint8  \n",
      " 69  payment_status_may_Payment delayed 6 months  30000 non-null  uint8  \n",
      " 70  payment_status_may_Payment delayed 7 months  30000 non-null  uint8  \n",
      " 71  payment_status_may_Payment delayed 8 months  30000 non-null  uint8  \n",
      " 72  payment_status_may_Unknown                   30000 non-null  uint8  \n",
      " 73  payment_status_apr_Payed duly                30000 non-null  uint8  \n",
      " 74  payment_status_apr_Payment delayed 2 months  30000 non-null  uint8  \n",
      " 75  payment_status_apr_Payment delayed 3 months  30000 non-null  uint8  \n",
      " 76  payment_status_apr_Payment delayed 4 months  30000 non-null  uint8  \n",
      " 77  payment_status_apr_Payment delayed 5 months  30000 non-null  uint8  \n",
      " 78  payment_status_apr_Payment delayed 6 months  30000 non-null  uint8  \n",
      " 79  payment_status_apr_Payment delayed 7 months  30000 non-null  uint8  \n",
      " 80  payment_status_apr_Payment delayed 8 months  30000 non-null  uint8  \n",
      " 81  payment_status_apr_Unknown                   30000 non-null  uint8  \n",
      "dtypes: float64(1), int64(14), uint8(67)\n",
      "memory usage: 5.6 MB\n"
     ]
    }
   ],
   "source": [
    "df.info()"
   ]
  },
  {
   "cell_type": "code",
   "execution_count": 13,
   "metadata": {},
   "outputs": [],
   "source": [
    "X = df.copy()\n",
    "y = X.pop('default_payment_next_month')"
   ]
  },
  {
   "cell_type": "markdown",
   "metadata": {},
   "source": [
    "### 편향된 target 이므로 층화 추출법으로 train/test 분리"
   ]
  },
  {
   "cell_type": "code",
   "execution_count": 14,
   "metadata": {},
   "outputs": [
    {
     "data": {
      "text/plain": [
       "((24000, 81), (6000, 81), (24000,), (6000,))"
      ]
     },
     "execution_count": 14,
     "metadata": {},
     "output_type": "execute_result"
    }
   ],
   "source": [
    "X_train, X_test, y_train, y_test = train_test_split(X, y, \n",
    "                                                   test_size=0.2, \n",
    "                                                   stratify=y, \n",
    "                                                   random_state=42)\n",
    "\n",
    "X_train.shape, X_test.shape, y_train.shape, y_test.shape"
   ]
  },
  {
   "cell_type": "markdown",
   "metadata": {},
   "source": [
    "### target의 비율이 train과 test set에 유지되었는지 확인"
   ]
  },
  {
   "cell_type": "code",
   "execution_count": 15,
   "metadata": {},
   "outputs": [
    {
     "data": {
      "text/plain": [
       "0    0.778792\n",
       "1    0.221208\n",
       "Name: default_payment_next_month, dtype: float64"
      ]
     },
     "execution_count": 15,
     "metadata": {},
     "output_type": "execute_result"
    }
   ],
   "source": [
    "y_train.value_counts(normalize=True)"
   ]
  },
  {
   "cell_type": "code",
   "execution_count": 16,
   "metadata": {},
   "outputs": [
    {
     "data": {
      "text/plain": [
       "0    0.778833\n",
       "1    0.221167\n",
       "Name: default_payment_next_month, dtype: float64"
      ]
     },
     "execution_count": 16,
     "metadata": {},
     "output_type": "execute_result"
    }
   ],
   "source": [
    "y_test.value_counts(normalize=True)"
   ]
  },
  {
   "cell_type": "markdown",
   "metadata": {},
   "source": [
    "## RandomForeset classifier model 생성 및 예측"
   ]
  },
  {
   "cell_type": "code",
   "execution_count": 17,
   "metadata": {},
   "outputs": [],
   "source": [
    "from sklearn.ensemble import RandomForestClassifier\n",
    "from sklearn.metrics import confusion_matrix, accuracy_score, \\\n",
    "                                            precision_score, recall_score\n",
    "\n",
    "import seaborn as sns"
   ]
  },
  {
   "cell_type": "code",
   "execution_count": 18,
   "metadata": {},
   "outputs": [],
   "source": [
    "clf = RandomForestClassifier(n_estimators=100, random_state=42)\n",
    "clf.fit(X_train, y_train)\n",
    "y_pred = clf.predict(X_test)"
   ]
  },
  {
   "cell_type": "markdown",
   "metadata": {},
   "source": [
    "- Evaluate the results:"
   ]
  },
  {
   "cell_type": "code",
   "execution_count": 19,
   "metadata": {},
   "outputs": [
    {
     "name": "stdout",
     "output_type": "stream",
     "text": [
      "accuracy: 0.8145\n",
      "precision: 0.6445945945945946\n",
      "recall: 0.359457422758101\n"
     ]
    }
   ],
   "source": [
    "print(\"accuracy:\", accuracy_score(y_test, y_pred))\n",
    "print(\"precision:\", precision_score(y_test, y_pred))\n",
    "print(\"recall:\", recall_score(y_test, y_pred))"
   ]
  },
  {
   "cell_type": "code",
   "execution_count": 20,
   "metadata": {},
   "outputs": [
    {
     "data": {
      "image/png": "[encoded data removed]",
      "text/plain": [
       "<Figure size 720x360 with 2 Axes>"
      ]
     },
     "metadata": {
      "needs_background": "light"
     },
     "output_type": "display_data"
    }
   ],
   "source": [
    "cm = confusion_matrix(y_test, y_pred)\n",
    "\n",
    "ax = sns.heatmap(cm, annot=True, fmt='d')\n",
    "ax.set_xticklabels(['No Default', 'Default'])\n",
    "ax.set_yticklabels(['No Default', 'Default'])\n",
    "plt.show()"
   ]
  },
  {
   "cell_type": "markdown",
   "metadata": {},
   "source": [
    "- recall 을 높이기 위해 threshold 조정"
   ]
  },
  {
   "cell_type": "code",
   "execution_count": 21,
   "metadata": {},
   "outputs": [
    {
     "data": {
      "text/plain": [
       "array([False, False, False, ..., False, False, False])"
      ]
     },
     "execution_count": 21,
     "metadata": {},
     "output_type": "execute_result"
    }
   ],
   "source": [
    "y_proba = clf.predict_proba(X_test)\n",
    "y_pred = y_proba[:, 1] > 0.3\n",
    "y_pred"
   ]
  },
  {
   "cell_type": "code",
   "execution_count": 22,
   "metadata": {},
   "outputs": [
    {
     "name": "stdout",
     "output_type": "stream",
     "text": [
      "accuracy: 0.7813333333333333\n",
      "precision: 0.5052410901467506\n",
      "recall: 0.544837980406933\n"
     ]
    }
   ],
   "source": [
    "print(\"accuracy:\", accuracy_score(y_test, y_pred))\n",
    "print(\"precision:\", precision_score(y_test, y_pred))\n",
    "print(\"recall:\", recall_score(y_test, y_pred))"
   ]
  },
  {
   "cell_type": "code",
   "execution_count": 23,
   "metadata": {},
   "outputs": [
    {
     "data": {
      "image/png": "[encoded data removed]",
      "text/plain": [
       "<Figure size 720x360 with 2 Axes>"
      ]
     },
     "metadata": {
      "needs_background": "light"
     },
     "output_type": "display_data"
    }
   ],
   "source": [
    "cm = confusion_matrix(y_test, y_pred)\n",
    "\n",
    "ax = sns.heatmap(cm, annot=True, fmt='d')\n",
    "ax.set_xticklabels(['No Default', 'Default'])\n",
    "ax.set_yticklabels(['No Default', 'Default'])\n",
    "plt.show()"
   ]
  },
  {
   "cell_type": "code",
   "execution_count": null,
   "metadata": {},
   "outputs": [],
   "source": []
  }
 ],
 "metadata": {
  "kernelspec": {
   "display_name": "Python 3 (ipykernel)",
   "language": "python",
   "name": "python3"
  },
  "language_info": {
   "codemirror_mode": {
    "name": "ipython",
    "version": 3
   },
   "file_extension": ".py",
   "mimetype": "text/x-python",
   "name": "python",
   "nbconvert_exporter": "python",
   "pygments_lexer": "ipython3",
   "version": "3.9.12"
  }
 },
 "nbformat": 4,
 "nbformat_minor": 4
}
