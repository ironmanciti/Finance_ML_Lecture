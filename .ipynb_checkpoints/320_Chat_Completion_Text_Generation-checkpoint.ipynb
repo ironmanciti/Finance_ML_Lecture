{
 "cells": [
  {
   "cell_type": "markdown",
   "id": "c5a91499-2154-45fc-b4b0-10c888d61c6d",
   "metadata": {},
   "source": [
    "# Text Generation Using OpenAI Models"
   ]
  },
  {
   "cell_type": "markdown",
   "id": "94635dde-ab9f-4d32-b3aa-5db234bb122d",
   "metadata": {},
   "source": [
    "## Chat Completion API"
   ]
  },
  {
   "cell_type": "code",
   "execution_count": 1,
   "id": "989f8b65-992a-4c1c-b196-aa19cfff4e95",
   "metadata": {},
   "outputs": [],
   "source": [
    "import os\n",
    "import openai\n",
    "import sys\n",
    "sys.path.append('./')\n",
    "\n",
    "from dotenv import load_dotenv, find_dotenv\n",
    "_ = load_dotenv(find_dotenv()) # read local .env file"
   ]
  },
  {
   "cell_type": "markdown",
   "id": "09ecb901-f941-40c2-9dcb-e68d6738823a",
   "metadata": {},
   "source": [
    "- 메시지는 메시지 개체의 배열이어야 하며, 각 개체에는role(“system\", “user\" 또는 “assistant\")과 content가 있습니다. 대화는 하나의 메시지만큼 짧을 수도 있고 여러 번 주고받을 수도 있습니다.\n",
    "- 대화는 먼저 system 메시지로 형식화되고 이어서 user 메시지와 assistanc 메시지가 교대로 표시됩니다.  \n",
    "- system 메시지는 assistant의 동작을 설정하는 데 도움이 됩니다. 예를 들어, assitant의 성격을 수정하거나 대화 전반에 걸쳐 assistant가 어떻게 행동해야 하는지에 대한 구체적인 지침을 제공할 수 있습니다. 그러나 system 메시지는 선택 사항이며 system 메시지가 없는 모델의 동작은 \"당신은 도움이 되는 조수입니다\"와 같은 일반적인 메시지를 사용하는 것과 유사할 가능성이 높습니다.  \n",
    "- \n",
    "User 메시지는 assistant가 응답할 요청이나 설명을 제공합니다. Assistant 메시지는 이전 assistant 응답을 저장하지만 원하는 동작의 예를 제공하기 위해 user가 작성할 수도 있습니다  .- \n",
    "사용자 지침이 이전 메시지를 참조할 때 대화 기록을 포함하는 것이 중요합니다. 위의 예에서 사용자의 마지막 질문인 \" Where was it played?\" 는 2020년 월드 시리즈에 대한 이전 메시지의 context 에서만 의미가 있습니다. 모델에는 과거 요청에 대한 기억이 없기 때문에 모든 관련 정보는 각 요청의 대화 기록의 일부로 제공되어야 합니다. 대화가 모델의 토큰 제한에 맞지 않으면 어떤 방식으로든 줄여야 합니다 .\n",
    "\n"
   ]
  },
  {
   "cell_type": "code",
   "execution_count": 2,
   "id": "db721c95-6024-4d85-961c-a5d4c648e9a0",
   "metadata": {},
   "outputs": [],
   "source": [
    "from openai import OpenAI\n",
    "client = OpenAI()\n",
    "\n",
    "Model = \"gpt-4o-mini\"\n",
    "\n",
    "response = client.chat.completions.create(\n",
    "  model=Model,\n",
    "  messages=[\n",
    "    {\"role\": \"system\", \"content\": \"You are a helpful assistant.\"},\n",
    "    {\"role\": \"user\", \"content\": \"2020년 코리안 시리즈를 우승한 야구팀이 어디?\"},\n",
    "    {\"role\": \"assistant\", \"content\": \"2020년 한국시리즈(Korean Series) 우승 야구팀은 NC 다이노스(NC Dinos)입니다.\"},\n",
    "    {\"role\": \"user\", \"content\": \"마지막 게임이 어디에서 열렸어?\"}\n",
    "  ]\n",
    ")"
   ]
  },
  {
   "cell_type": "code",
   "execution_count": 3,
   "id": "1bb38be4-cac2-4e73-a784-4c0732006b17",
   "metadata": {},
   "outputs": [
    {
     "data": {
      "text/plain": [
       "{'id': 'chatcmpl-A8cJshX1x8FasDleNdifOrlL6qBiG',\n",
       " 'choices': [{'finish_reason': 'stop',\n",
       "   'index': 0,\n",
       "   'logprobs': None,\n",
       "   'message': {'content': '2020년 한국시리즈 마지막 게임은 창원 NC파크에서 열렸습니다. NC 다이노스가 이 대회에서 우승을 차지한 경기입니다.',\n",
       "    'role': 'assistant',\n",
       "    'refusal': None}}],\n",
       " 'created': 1726617288,\n",
       " 'model': 'gpt-4o-mini-2024-07-18',\n",
       " 'object': 'chat.completion',\n",
       " 'system_fingerprint': 'fp_483d39d857',\n",
       " 'usage': {'completion_tokens': 38,\n",
       "  'prompt_tokens': 81,\n",
       "  'total_tokens': 119,\n",
       "  'completion_tokens_details': {'reasoning_tokens': 0}}}"
      ]
     },
     "execution_count": 3,
     "metadata": {},
     "output_type": "execute_result"
    }
   ],
   "source": [
    "response.to_dict()"
   ]
  },
  {
   "cell_type": "code",
   "execution_count": 4,
   "id": "82f42489-3c5a-4eee-a76b-f2716c219821",
   "metadata": {},
   "outputs": [
    {
     "name": "stdout",
     "output_type": "stream",
     "text": [
      "2020년 한국시리즈 마지막 게임은 창원 NC파크에서 열렸습니다. NC 다이노스가 이 대회에서 우승을 차지한 경기입니다.\n"
     ]
    }
   ],
   "source": [
    "print(response.choices[0].message.content)"
   ]
  },
  {
   "cell_type": "markdown",
   "id": "444715f4-8b62-4c16-a9d3-aa037d3fb67e",
   "metadata": {},
   "source": [
    "### 모든 응답에는 'finish_reason'이 포함되며, 'finish_reason'의 가능한 값은 다음과 같습니다:\n",
    "- stop: API가 완전한 메시지를 반환하거나, stop 매개변수를 통해 제공된 중단 시퀀스 중 하나에 의해 메시지가 종료됨\n",
    "- length: max_tokens 매개변수 또는 토큰 제한으로 인해 완전하지 않은 모델 출력\n",
    "- function_call: 모델이 함수를 호출하기로 결정함"
   ]
  },
  {
   "cell_type": "code",
   "execution_count": 5,
   "id": "b3f0eebb-d556-4424-92f8-d710d03b7e29",
   "metadata": {},
   "outputs": [
    {
     "name": "stdout",
     "output_type": "stream",
     "text": [
      "stop\n"
     ]
    }
   ],
   "source": [
    "print(response.choices[0].finish_reason)"
   ]
  },
  {
   "cell_type": "markdown",
   "id": "d884b7e7-03d3-4668-8f5b-0e7b447dbeb5",
   "metadata": {},
   "source": [
    "## Token 관리\n",
    "- \"ChatGPT is great!“ 는 6개의 토큰으로 인코딩됩니다 $\\rightarrow$ [\"Chat\", \"G\", \"PT\", \" is\", \" great\", \"!\"]\n",
    "- 예를 들어, API 호출이 메시지 입력에서 10개의 토큰을 사용하고 메시지 출력에서 ​​20개의 토큰을 받은 경우 30개의 토큰에 대한 요금이 청구됩니다.\n"
   ]
  },
  {
   "cell_type": "code",
   "execution_count": 6,
   "id": "daef7c91-651c-4194-8f02-99dcf105ff1a",
   "metadata": {},
   "outputs": [
    {
     "name": "stdout",
     "output_type": "stream",
     "text": [
      "CompletionUsage(completion_tokens=38, prompt_tokens=81, total_tokens=119, completion_tokens_details={'reasoning_tokens': 0})\n",
      "81\n"
     ]
    }
   ],
   "source": [
    "print(response.usage)\n",
    "print(response.usage.prompt_tokens)"
   ]
  },
  {
   "cell_type": "code",
   "execution_count": 7,
   "id": "247fc77a-fe74-4fd1-9ae4-646e368e5b65",
   "metadata": {},
   "outputs": [],
   "source": [
    "import tiktoken\n",
    "\n",
    "encoding = tiktoken.encoding_for_model(Model)"
   ]
  },
  {
   "cell_type": "code",
   "execution_count": 8,
   "id": "bc86c2c7-11d0-4449-99a5-9f33b75c1bfe",
   "metadata": {},
   "outputs": [
    {
     "name": "stdout",
     "output_type": "stream",
     "text": [
      "system\n",
      "[17360]\n",
      "You are a helpful assistant designed to output JSON.\n",
      "[3575, 553, 261, 10297, 29186, 6884, 316, 4733, 8205, 13]\n",
      "user\n",
      "[1428]\n",
      "2020년 코리안 시리즈를 우승한 야구팀이 어디?\n",
      "[1323, 15, 12622, 43824, 4960, 14307, 12468, 186042, 4831, 26090, 42643, 3748, 109887, 10997, 91214, 2186, 154074, 30]\n",
      "assistant\n",
      "[173781]\n",
      "2020년 한국시리즈(Korean Series) 우승 야구팀은 NC 다이노스(NC Dinos)입니다.\n",
      "[1323, 15, 12622, 52971, 5637, 186042, 28797, 99693, 14932, 8, 26090, 42643, 109887, 10997, 91214, 4740, 28895, 14367, 2186, 21464, 5648, 10564, 34, 415, 8200, 8, 27001, 13]\n",
      "user\n",
      "[1428]\n",
      "마지막 게임이 어디에서 열렸어? 한국어로 답해줘\n",
      "[11630, 118016, 55377, 2186, 154074, 11440, 49496, 76892, 5959, 30, 52971, 5959, 3710, 107393, 5650, 153545]\n"
     ]
    },
    {
     "data": {
      "text/plain": [
       "92"
      ]
     },
     "execution_count": 8,
     "metadata": {},
     "output_type": "execute_result"
    }
   ],
   "source": [
    "messages=[\n",
    "    {\"role\": \"system\", \"content\": \"You are a helpful assistant designed to output JSON.\"},\n",
    "    {\"role\": \"user\", \"content\": \"2020년 코리안 시리즈를 우승한 야구팀이 어디?\"},\n",
    "    {\"role\": \"assistant\", \"content\": \"2020년 한국시리즈(Korean Series) 우승 야구팀은 NC 다이노스(NC Dinos)입니다.\"},\n",
    "    {\"role\": \"user\", \"content\": \"마지막 게임이 어디에서 열렸어? 한국어로 답해줘\"}\n",
    "  ]\n",
    "\n",
    "num_tokens = 0\n",
    "for message in messages:\n",
    "  num_tokens += 4  # every message follows <im_start>{role/name}\\n{content}<im_end>\\n\n",
    "  for key, value in message.items():\n",
    "      num_tokens += len(encoding.encode(value))\n",
    "      print(value)\n",
    "      print(encoding.encode(value))\n",
    "\n",
    "num_tokens"
   ]
  },
  {
   "cell_type": "markdown",
   "id": "0a1ee675-3846-4039-84d8-d87fafb9e3f5",
   "metadata": {},
   "source": [
    "### 기타 parameters\n",
    "\n",
    "seed - 응답 생성을 제어하기 위한 시드 값입니다. 동일한 입력에 대해 항상 같은 결과를 얻을 수 있습니다. 이는 재현 가능성을 위해 사용됩니다.  \n",
    "max_tokens - 응답의 최대 토큰 수를 설정하는 파라미터입니다.  \n",
    "temperature - 창의성과 무작위성을 제어하는 파라미터입니다. 값은 0에서 2 사이로 설정됩니다. 낮은 값(0.0)에 가까울수록모델이 더 결정적인 응답을 생성하며, 덜 창의적이고 더 예측 가능한 응답을 제공합니다. 높은 값(2.0)에 가까울수록 모델이 더 창의적이고 무작위성이 높은 응답을 생성합니다. "
   ]
  },
  {
   "cell_type": "code",
   "execution_count": 11,
   "id": "1043b529-c5f8-4160-ae7f-4e7cfa76bb39",
   "metadata": {},
   "outputs": [
    {
     "data": {
      "text/html": [
       "\n",
       "    <table>\n",
       "    <tr><th style=\"text-align: left;\">Response</th><td style=\"text-align: left;\">제목: 붉은 행성으로의 여정\n",
       "\n",
       "2035년, 인류는 마침내 화성 탐사를 위한 첫 유인 우주선 '호프'를 발사했다. 우주선에는 6명의 우주 비행사가 탑승하고 있었고, 그들은 각각 과학자, 의사, 엔지니어, 그리고 탐험가로 구성되어 있었다. 이들은 화성에서의 새로운 삶을 위한 첫걸음을 내딛기 위해 훈련과 준비를 거듭해왔다.\n",
       "\n",
       "우주선이 발사된 후, 승무원들은 지구를 뒤로하고 무한한 우주의 어둠 속으로 나아갔다. 창밖으로 펼쳐지는 별빛은 그들에게 희망의 상징이자, 새로운 도전의 시작을 알리는 신호였다. 하루하루가 지나면서 그들은 서로의 존재에 의지하며, 어려운 상황을 극복해 나갔다.\n",
       "\n",
       "여행 중 가장 큰 위기는 우주선의 산소 공급 장치에 문제가 생겼을 때 발생했다. 엔지니어인 미나는 즉시 문제를 진단하고, 다수의 대체 시스템을 가동해야 했다. 그녀의 침착한 대처 덕분에 팀원들은 안정을 찾을 수 있었고, 함께 힘을 모아 문제를 해결했다. 이 사건은 그들에게 팀워크의 중요성을 다시 한번 일깨워주었다.\n",
       "\n",
       "마침내 6개월의 긴 여정 끝에 화성에 도착한 그들은 붉은 행성의 경이로운 풍경을 바라보며 감격에 젖었다. 화성의 대기는 희박했지만, 그들은 각자의 임무를 수행하기 위해 준비한 모든 것을 쏟아부었다. 과학자들은 샘플을 채취하고, 의사는 생명의 징후를 확인하며, 탐험가는 미지의 땅을 탐험했다.\n",
       "\n",
       "그들이 화성에서 보낸 시간은 단순한 탐험이 아닌, 인류의 미래를 위한 중요한 발걸음이었다. 화성에서의 연구 결과는 지구의 기후 문제를 해결하는 데 큰 도움이 될 것이라는 희망을 안겼다. \n",
       "\n",
       "여정이 끝나고, 그들은 지구로 돌아갈 준비를 하면서도 화성에 남겨진 아름다운 기억을 가슴에 새겼다. 인류의 꿈과 탐험은 이어질 것이며, 그들은 그 여정의 첫 주인공으로서 새로운 역사를 썼다. \n",
       "\n",
       "붉은 행성을 뒤로하고 지구를 향해 떠나는 우주선 '호프'의 모습은 다시 한번 희망을 상징하는 별빛처럼 빛나고 있었다.</td></tr>\n",
       "    <tr><th style=\"text-align: left;\">System Fingerprint</th><td style=\"text-align: left;\">fp_483d39d857</td></tr>\n",
       "    <tr><th style=\"text-align: left;\">Number of completion tokens</th><td style=\"text-align: left;\">589</td></tr>\n",
       "    <tr><th style=\"text-align: left;\">finish reason</th><td style=\"text-align: left;\">stop</td></tr>\n",
       "    </table>\n",
       "    "
      ],
      "text/plain": [
       "<IPython.core.display.HTML object>"
      ]
     },
     "metadata": {},
     "output_type": "display_data"
    }
   ],
   "source": [
    "from IPython.display import display, HTML\n",
    "\n",
    "GPT_MODEL = \"gpt-4o-mini\"\n",
    "SEED = 123\n",
    "\n",
    "topic = \"a journey to Mars\"\n",
    "system_message = \"You are a helpful assistant that generates short stories.\"\n",
    "user_request = f\"{topic}에 관한 짧은 이야기를 한국어로 생성하세요.\"\n",
    "\n",
    "try:\n",
    "    messages = [\n",
    "        {\"role\": \"system\", \"content\": system_message},\n",
    "        {\"role\": \"user\", \"content\": user_request},\n",
    "    ]\n",
    "\n",
    "    response = openai.chat.completions.create(\n",
    "        model=GPT_MODEL,\n",
    "        messages=messages,\n",
    "        seed=SEED,\n",
    "        max_tokens=1000,\n",
    "        temperature=0.7,\n",
    "    )\n",
    "\n",
    "    response_content = response.choices[0].message.content\n",
    "    system_fingerprint = response.system_fingerprint  # 특정 API 응답을 식별하고 추적하는 데 도움 되는 고유 식별자\n",
    "    completion_tokens = (\n",
    "        response.usage.total_tokens - response.usage.prompt_tokens\n",
    "    )\n",
    "    finish_reason = response.choices[0].finish_reason\n",
    "\n",
    "    table = f\"\"\"\n",
    "    <table>\n",
    "    <tr><th style=\"text-align: left;\">Response</th><td style=\"text-align: left;\">{response_content}</td></tr>\n",
    "    <tr><th style=\"text-align: left;\">System Fingerprint</th><td style=\"text-align: left;\">{system_fingerprint}</td></tr>\n",
    "    <tr><th style=\"text-align: left;\">Number of completion tokens</th><td style=\"text-align: left;\">{completion_tokens}</td></tr>\n",
    "    <tr><th style=\"text-align: left;\">finish reason</th><td style=\"text-align: left;\">{finish_reason}</td></tr>\n",
    "    </table>\n",
    "    \"\"\"\n",
    "    display(HTML(table))\n",
    "except Exception as e:\n",
    "    print(f\"An error occurred: {e}\")"
   ]
  },
  {
   "cell_type": "code",
   "execution_count": 12,
   "id": "bcbc14ee-2a65-4ca9-9de6-2f25a75c68d3",
   "metadata": {},
   "outputs": [
    {
     "data": {
      "text/plain": [
       "{'id': 'chatcmpl-A8cQQfyhYsIwytd8MgnYHmjvhDOgM',\n",
       " 'choices': [{'finish_reason': 'stop',\n",
       "   'index': 0,\n",
       "   'logprobs': None,\n",
       "   'message': {'content': \"제목: 붉은 행성으로의 여정\\n\\n2035년, 인류는 마침내 화성 탐사를 위한 첫 유인 우주선 '호프'를 발사했다. 우주선에는 6명의 우주 비행사가 탑승하고 있었고, 그들은 각각 과학자, 의사, 엔지니어, 그리고 탐험가로 구성되어 있었다. 이들은 화성에서의 새로운 삶을 위한 첫걸음을 내딛기 위해 훈련과 준비를 거듭해왔다.\\n\\n우주선이 발사된 후, 승무원들은 지구를 뒤로하고 무한한 우주의 어둠 속으로 나아갔다. 창밖으로 펼쳐지는 별빛은 그들에게 희망의 상징이자, 새로운 도전의 시작을 알리는 신호였다. 하루하루가 지나면서 그들은 서로의 존재에 의지하며, 어려운 상황을 극복해 나갔다.\\n\\n여행 중 가장 큰 위기는 우주선의 산소 공급 장치에 문제가 생겼을 때 발생했다. 엔지니어인 미나는 즉시 문제를 진단하고, 다수의 대체 시스템을 가동해야 했다. 그녀의 침착한 대처 덕분에 팀원들은 안정을 찾을 수 있었고, 함께 힘을 모아 문제를 해결했다. 이 사건은 그들에게 팀워크의 중요성을 다시 한번 일깨워주었다.\\n\\n마침내 6개월의 긴 여정 끝에 화성에 도착한 그들은 붉은 행성의 경이로운 풍경을 바라보며 감격에 젖었다. 화성의 대기는 희박했지만, 그들은 각자의 임무를 수행하기 위해 준비한 모든 것을 쏟아부었다. 과학자들은 샘플을 채취하고, 의사는 생명의 징후를 확인하며, 탐험가는 미지의 땅을 탐험했다.\\n\\n그들이 화성에서 보낸 시간은 단순한 탐험이 아닌, 인류의 미래를 위한 중요한 발걸음이었다. 화성에서의 연구 결과는 지구의 기후 문제를 해결하는 데 큰 도움이 될 것이라는 희망을 안겼다. \\n\\n여정이 끝나고, 그들은 지구로 돌아갈 준비를 하면서도 화성에 남겨진 아름다운 기억을 가슴에 새겼다. 인류의 꿈과 탐험은 이어질 것이며, 그들은 그 여정의 첫 주인공으로서 새로운 역사를 썼다. \\n\\n붉은 행성을 뒤로하고 지구를 향해 떠나는 우주선 '호프'의 모습은 다시 한번 희망을 상징하는 별빛처럼 빛나고 있었다.\",\n",
       "    'role': 'assistant',\n",
       "    'refusal': None}}],\n",
       " 'created': 1726617694,\n",
       " 'model': 'gpt-4o-mini-2024-07-18',\n",
       " 'object': 'chat.completion',\n",
       " 'system_fingerprint': 'fp_483d39d857',\n",
       " 'usage': {'completion_tokens': 589,\n",
       "  'prompt_tokens': 38,\n",
       "  'total_tokens': 627,\n",
       "  'completion_tokens_details': {'reasoning_tokens': 0}}}"
      ]
     },
     "execution_count": 12,
     "metadata": {},
     "output_type": "execute_result"
    }
   ],
   "source": [
    "response.to_dict()"
   ]
  },
  {
   "cell_type": "code",
   "execution_count": null,
   "id": "9e304b90-0d30-4dca-89f4-4d7c46ae346c",
   "metadata": {},
   "outputs": [],
   "source": []
  }
 ],
 "metadata": {
  "kernelspec": {
   "display_name": "Python 3 (ipykernel)",
   "language": "python",
   "name": "python3"
  },
  "language_info": {
   "codemirror_mode": {
    "name": "ipython",
    "version": 3
   },
   "file_extension": ".py",
   "mimetype": "text/x-python",
   "name": "python",
   "nbconvert_exporter": "python",
   "pygments_lexer": "ipython3",
   "version": "3.9.16"
  }
 },
 "nbformat": 4,
 "nbformat_minor": 5
}
