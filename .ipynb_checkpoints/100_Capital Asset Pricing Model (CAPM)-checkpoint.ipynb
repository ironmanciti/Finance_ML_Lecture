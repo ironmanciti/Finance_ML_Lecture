{
 "cells": [
  {
   "cell_type": "markdown",
   "metadata": {
    "colab_type": "text",
    "id": "_OtNKjlXS5YR"
   },
   "source": [
    "# CAPM - Capital Asset Pricing Model \n",
    "\n",
    "## simple linear regression으로 CAPM을 Modeling\n",
    "- market portfolio 는 S&P500 사용\n",
    "- Apple 단일 주식 portfolio 사용\n",
    "\n",
    "### CAPM 공식 이용\n",
    "### $$ r_i = r_f + \\beta * (r_m - r_f )$$\n",
    "$r_i$ : 자산 𝑖 의 기대 수익률입니다. 자산 투자 시 예상되는 수익률입니다.  \n",
    "$r_f$ : 무위험 수익률 (Risk-free rate)입니다.  \n",
    "𝛽: 자산의 베타 계수입니다. 이 값은 자산이 시장 전체의 변동에 대해 얼마나 민감하게 반응하는지를 나타냅니다.  \n",
    "$r_m$ : 시장 수익률 (Market return). 시장 전체(예: 주식 시장)의 평균적인 수익률을 나타냅니다.  \n",
    "$(r_m - r_f )$ : **시장 위험 프리미엄 (Market risk premium)**입니다. 이는 시장 전체의 기대 수익률에서 무위험 수익률을 뺀 값으로, 시장에 투자할 때 추가적으로 기대되는 수익률을 의미합니다.  \n",
    "\n",
    "- CAPM 공식은 베타 계수가 클수록 자산의 변동성(시장에 대한 민감도)이 크기 때문에, 추가적인 위험을 감수함으로써 더 높은 기대 수익률을 가질 수 있다는 의미입니다."
   ]
  },
  {
   "cell_type": "code",
   "execution_count": 1,
   "metadata": {
    "colab": {
     "base_uri": "https://localhost:8080/",
     "height": 87
    },
    "colab_type": "code",
    "executionInfo": {
     "elapsed": 498,
     "status": "ok",
     "timestamp": 1598746093978,
     "user": {
      "displayName": "Stemplicity",
      "photoUrl": "https://lh3.googleusercontent.com/a-/AOh14Gj2vCFt-bD5mPBhUWX0QA6xiBgoXQXtwUm2jgjaCg=s64",
      "userId": "10668071569687886186"
     },
     "user_tz": 240
    },
    "id": "TMxtZdEjRjoc",
    "outputId": "d94b2db6-ceeb-461d-c6e8-e9068cb5bd94"
   },
   "outputs": [],
   "source": [
    "import pandas as pd\n",
    "import seaborn as sns\n",
    "import matplotlib.pyplot as plt\n",
    "import numpy as np"
   ]
  },
  {
   "cell_type": "code",
   "execution_count": 2,
   "metadata": {
    "colab": {
     "base_uri": "https://localhost:8080/",
     "height": 415
    },
    "colab_type": "code",
    "executionInfo": {
     "elapsed": 2366,
     "status": "ok",
     "timestamp": 1598745719012,
     "user": {
      "displayName": "Stemplicity",
      "photoUrl": "https://lh3.googleusercontent.com/a-/AOh14Gj2vCFt-bD5mPBhUWX0QA6xiBgoXQXtwUm2jgjaCg=s64",
      "userId": "10668071569687886186"
     },
     "user_tz": 240
    },
    "id": "rjnkqEJzRjtC",
    "outputId": "5e1ba6b2-700f-4d71-f04d-db5bbc05d8d1"
   },
   "outputs": [
    {
     "data": {
      "text/html": [
       "<div>\n",
       "<style scoped>\n",
       "    .dataframe tbody tr th:only-of-type {\n",
       "        vertical-align: middle;\n",
       "    }\n",
       "\n",
       "    .dataframe tbody tr th {\n",
       "        vertical-align: top;\n",
       "    }\n",
       "\n",
       "    .dataframe thead th {\n",
       "        text-align: right;\n",
       "    }\n",
       "</style>\n",
       "<table border=\"1\" class=\"dataframe\">\n",
       "  <thead>\n",
       "    <tr style=\"text-align: right;\">\n",
       "      <th></th>\n",
       "      <th>Date</th>\n",
       "      <th>AAPL</th>\n",
       "      <th>BA</th>\n",
       "      <th>T</th>\n",
       "      <th>MGM</th>\n",
       "      <th>AMZN</th>\n",
       "      <th>IBM</th>\n",
       "      <th>TSLA</th>\n",
       "      <th>GOOG</th>\n",
       "      <th>sp500</th>\n",
       "    </tr>\n",
       "  </thead>\n",
       "  <tbody>\n",
       "    <tr>\n",
       "      <th>0</th>\n",
       "      <td>2012-01-12</td>\n",
       "      <td>60.198570</td>\n",
       "      <td>75.510002</td>\n",
       "      <td>30.120001</td>\n",
       "      <td>12.13</td>\n",
       "      <td>175.929993</td>\n",
       "      <td>180.550003</td>\n",
       "      <td>28.250000</td>\n",
       "      <td>313.644379</td>\n",
       "      <td>1295.500000</td>\n",
       "    </tr>\n",
       "    <tr>\n",
       "      <th>1</th>\n",
       "      <td>2012-01-13</td>\n",
       "      <td>59.972858</td>\n",
       "      <td>74.599998</td>\n",
       "      <td>30.070000</td>\n",
       "      <td>12.35</td>\n",
       "      <td>178.419998</td>\n",
       "      <td>179.160004</td>\n",
       "      <td>22.790001</td>\n",
       "      <td>311.328064</td>\n",
       "      <td>1289.089966</td>\n",
       "    </tr>\n",
       "    <tr>\n",
       "      <th>2</th>\n",
       "      <td>2012-01-17</td>\n",
       "      <td>60.671429</td>\n",
       "      <td>75.239998</td>\n",
       "      <td>30.250000</td>\n",
       "      <td>12.25</td>\n",
       "      <td>181.660004</td>\n",
       "      <td>180.000000</td>\n",
       "      <td>26.600000</td>\n",
       "      <td>313.116364</td>\n",
       "      <td>1293.670044</td>\n",
       "    </tr>\n",
       "    <tr>\n",
       "      <th>3</th>\n",
       "      <td>2012-01-18</td>\n",
       "      <td>61.301430</td>\n",
       "      <td>75.059998</td>\n",
       "      <td>30.330000</td>\n",
       "      <td>12.73</td>\n",
       "      <td>189.440002</td>\n",
       "      <td>181.070007</td>\n",
       "      <td>26.809999</td>\n",
       "      <td>315.273285</td>\n",
       "      <td>1308.040039</td>\n",
       "    </tr>\n",
       "    <tr>\n",
       "      <th>4</th>\n",
       "      <td>2012-01-19</td>\n",
       "      <td>61.107143</td>\n",
       "      <td>75.559998</td>\n",
       "      <td>30.420000</td>\n",
       "      <td>12.80</td>\n",
       "      <td>194.449997</td>\n",
       "      <td>180.520004</td>\n",
       "      <td>26.760000</td>\n",
       "      <td>318.590851</td>\n",
       "      <td>1314.500000</td>\n",
       "    </tr>\n",
       "  </tbody>\n",
       "</table>\n",
       "</div>"
      ],
      "text/plain": [
       "         Date       AAPL         BA          T    MGM        AMZN         IBM  \\\n",
       "0  2012-01-12  60.198570  75.510002  30.120001  12.13  175.929993  180.550003   \n",
       "1  2012-01-13  59.972858  74.599998  30.070000  12.35  178.419998  179.160004   \n",
       "2  2012-01-17  60.671429  75.239998  30.250000  12.25  181.660004  180.000000   \n",
       "3  2012-01-18  61.301430  75.059998  30.330000  12.73  189.440002  181.070007   \n",
       "4  2012-01-19  61.107143  75.559998  30.420000  12.80  194.449997  180.520004   \n",
       "\n",
       "        TSLA        GOOG        sp500  \n",
       "0  28.250000  313.644379  1295.500000  \n",
       "1  22.790001  311.328064  1289.089966  \n",
       "2  26.600000  313.116364  1293.670044  \n",
       "3  26.809999  315.273285  1308.040039  \n",
       "4  26.760000  318.590851  1314.500000  "
      ]
     },
     "execution_count": 2,
     "metadata": {},
     "output_type": "execute_result"
    }
   ],
   "source": [
    "stocks_df = pd.read_csv('data/stock.csv')\n",
    "stocks_df.head()"
   ]
  },
  {
   "cell_type": "markdown",
   "metadata": {},
   "source": [
    "날짜를 기준으로 데이터를 정렬하고 날짜를 인덱스로 설정"
   ]
  },
  {
   "cell_type": "code",
   "execution_count": 3,
   "metadata": {
    "colab": {
     "base_uri": "https://localhost:8080/",
     "height": 415
    },
    "colab_type": "code",
    "executionInfo": {
     "elapsed": 2358,
     "status": "ok",
     "timestamp": 1598745719014,
     "user": {
      "displayName": "Stemplicity",
      "photoUrl": "https://lh3.googleusercontent.com/a-/AOh14Gj2vCFt-bD5mPBhUWX0QA6xiBgoXQXtwUm2jgjaCg=s64",
      "userId": "10668071569687886186"
     },
     "user_tz": 240
    },
    "id": "O-iq0rQVRysa",
    "outputId": "a640c031-0201-44bf-98bf-387a53420e1f"
   },
   "outputs": [
    {
     "data": {
      "text/html": [
       "<div>\n",
       "<style scoped>\n",
       "    .dataframe tbody tr th:only-of-type {\n",
       "        vertical-align: middle;\n",
       "    }\n",
       "\n",
       "    .dataframe tbody tr th {\n",
       "        vertical-align: top;\n",
       "    }\n",
       "\n",
       "    .dataframe thead th {\n",
       "        text-align: right;\n",
       "    }\n",
       "</style>\n",
       "<table border=\"1\" class=\"dataframe\">\n",
       "  <thead>\n",
       "    <tr style=\"text-align: right;\">\n",
       "      <th></th>\n",
       "      <th>AAPL</th>\n",
       "      <th>BA</th>\n",
       "      <th>T</th>\n",
       "      <th>MGM</th>\n",
       "      <th>AMZN</th>\n",
       "      <th>IBM</th>\n",
       "      <th>TSLA</th>\n",
       "      <th>GOOG</th>\n",
       "      <th>sp500</th>\n",
       "    </tr>\n",
       "    <tr>\n",
       "      <th>Date</th>\n",
       "      <th></th>\n",
       "      <th></th>\n",
       "      <th></th>\n",
       "      <th></th>\n",
       "      <th></th>\n",
       "      <th></th>\n",
       "      <th></th>\n",
       "      <th></th>\n",
       "      <th></th>\n",
       "    </tr>\n",
       "  </thead>\n",
       "  <tbody>\n",
       "    <tr>\n",
       "      <th>2012-01-12</th>\n",
       "      <td>60.198570</td>\n",
       "      <td>75.510002</td>\n",
       "      <td>30.120001</td>\n",
       "      <td>12.13</td>\n",
       "      <td>175.929993</td>\n",
       "      <td>180.550003</td>\n",
       "      <td>28.250000</td>\n",
       "      <td>313.644379</td>\n",
       "      <td>1295.500000</td>\n",
       "    </tr>\n",
       "    <tr>\n",
       "      <th>2012-01-13</th>\n",
       "      <td>59.972858</td>\n",
       "      <td>74.599998</td>\n",
       "      <td>30.070000</td>\n",
       "      <td>12.35</td>\n",
       "      <td>178.419998</td>\n",
       "      <td>179.160004</td>\n",
       "      <td>22.790001</td>\n",
       "      <td>311.328064</td>\n",
       "      <td>1289.089966</td>\n",
       "    </tr>\n",
       "    <tr>\n",
       "      <th>2012-01-17</th>\n",
       "      <td>60.671429</td>\n",
       "      <td>75.239998</td>\n",
       "      <td>30.250000</td>\n",
       "      <td>12.25</td>\n",
       "      <td>181.660004</td>\n",
       "      <td>180.000000</td>\n",
       "      <td>26.600000</td>\n",
       "      <td>313.116364</td>\n",
       "      <td>1293.670044</td>\n",
       "    </tr>\n",
       "    <tr>\n",
       "      <th>2012-01-18</th>\n",
       "      <td>61.301430</td>\n",
       "      <td>75.059998</td>\n",
       "      <td>30.330000</td>\n",
       "      <td>12.73</td>\n",
       "      <td>189.440002</td>\n",
       "      <td>181.070007</td>\n",
       "      <td>26.809999</td>\n",
       "      <td>315.273285</td>\n",
       "      <td>1308.040039</td>\n",
       "    </tr>\n",
       "    <tr>\n",
       "      <th>2012-01-19</th>\n",
       "      <td>61.107143</td>\n",
       "      <td>75.559998</td>\n",
       "      <td>30.420000</td>\n",
       "      <td>12.80</td>\n",
       "      <td>194.449997</td>\n",
       "      <td>180.520004</td>\n",
       "      <td>26.760000</td>\n",
       "      <td>318.590851</td>\n",
       "      <td>1314.500000</td>\n",
       "    </tr>\n",
       "  </tbody>\n",
       "</table>\n",
       "</div>"
      ],
      "text/plain": [
       "                 AAPL         BA          T    MGM        AMZN         IBM  \\\n",
       "Date                                                                         \n",
       "2012-01-12  60.198570  75.510002  30.120001  12.13  175.929993  180.550003   \n",
       "2012-01-13  59.972858  74.599998  30.070000  12.35  178.419998  179.160004   \n",
       "2012-01-17  60.671429  75.239998  30.250000  12.25  181.660004  180.000000   \n",
       "2012-01-18  61.301430  75.059998  30.330000  12.73  189.440002  181.070007   \n",
       "2012-01-19  61.107143  75.559998  30.420000  12.80  194.449997  180.520004   \n",
       "\n",
       "                 TSLA        GOOG        sp500  \n",
       "Date                                            \n",
       "2012-01-12  28.250000  313.644379  1295.500000  \n",
       "2012-01-13  22.790001  311.328064  1289.089966  \n",
       "2012-01-17  26.600000  313.116364  1293.670044  \n",
       "2012-01-18  26.809999  315.273285  1308.040039  \n",
       "2012-01-19  26.760000  318.590851  1314.500000  "
      ]
     },
     "execution_count": 3,
     "metadata": {},
     "output_type": "execute_result"
    }
   ],
   "source": [
    "# stocks_df 데이터프레임을 'Date' 열을 기준으로 정렬합니다.\n",
    "# set_index('Date')는 'Date' 열을 인덱스로 설정합니다.\n",
    "stocks_df = stocks_df.sort_values(by=['Date']).set_index('Date')\n",
    "\n",
    "stocks_df.head()"
   ]
  },
  {
   "cell_type": "markdown",
   "metadata": {},
   "source": [
    "price를 시작일 price로 normalize하는 함수"
   ]
  },
  {
   "cell_type": "code",
   "execution_count": 4,
   "metadata": {
    "colab": {},
    "colab_type": "code",
    "id": "329hiIB9SUN_"
   },
   "outputs": [],
   "source": [
    "# 각 열의 첫 번째 값에 대한 비율로 나누어 각 값을 스케일링\n",
    "def normalize(df):\n",
    "    # 데이터프레임을 복사하여 원본 데이터가 변경되지 않도록 합니다.\n",
    "    x = df.copy()\n",
    "    \n",
    "    # 데이터프레임의 각 열에 대해 반복 작업을 수행합니다.\n",
    "    for col in x.columns:\n",
    "        # 각 열의 첫 번째 값으로 모든 값을 나누어 정규화합니다.\n",
    "        # x[col][0]은 해당 열의 첫 번째 값을 의미하며, 각 값은 그 값에 대한 비율로 변경됩니다.\n",
    "        x[col] = x[col] / x[col][0]\n",
    "    \n",
    "    # 정규화된 데이터프레임을 반환\n",
    "    return x"
   ]
  },
  {
   "cell_type": "markdown",
   "metadata": {
    "colab_type": "text",
    "id": "xFn-qwFhUIZk"
   },
   "source": [
    "- 일일 수익률 계산"
   ]
  },
  {
   "cell_type": "code",
   "execution_count": 5,
   "metadata": {},
   "outputs": [],
   "source": [
    "daily_returns = stocks_df.pct_change()\n",
    "daily_returns.dropna(inplace=True)"
   ]
  },
  {
   "cell_type": "markdown",
   "metadata": {
    "colab_type": "text",
    "id": "pYWIagXexSLT"
   },
   "source": [
    "- 다음 중 일일 평균 수익률이 더 높은 것은 무엇입니까?\n",
    "   - S&P500 or Google\n",
    "   - S&P500 or Amazon"
   ]
  },
  {
   "cell_type": "code",
   "execution_count": 6,
   "metadata": {
    "colab": {},
    "colab_type": "code",
    "id": "b6OTX0Uiy-W0"
   },
   "outputs": [
    {
     "data": {
      "text/plain": [
       "TSLA     0.002385\n",
       "AMZN     0.001512\n",
       "AAPL     0.001077\n",
       "GOOG     0.000844\n",
       "BA       0.000659\n",
       "MGM      0.000647\n",
       "sp500    0.000493\n",
       "T        0.000082\n",
       "IBM     -0.000061\n",
       "dtype: float64"
      ]
     },
     "execution_count": 6,
     "metadata": {},
     "output_type": "execute_result"
    }
   ],
   "source": [
    "# 각 열(자산)의 평균 일일 수익률을 계산하고 평균 수익률을 내림차순으로 정렬합니다.\n",
    "daily_returns.mean().sort_values(ascending=False)"
   ]
  },
  {
   "cell_type": "markdown",
   "metadata": {
    "colab_type": "text",
    "id": "CF3D8GlUp6W0"
   },
   "source": [
    "### 단일 주식에 대한 베타 계산\n",
    "- 단일 주식의 일일 수익률"
   ]
  },
  {
   "cell_type": "code",
   "execution_count": 7,
   "metadata": {},
   "outputs": [],
   "source": [
    "stock = 'AAPL'\n",
    "stock_name = 'Apple'"
   ]
  },
  {
   "cell_type": "code",
   "execution_count": 8,
   "metadata": {
    "colab": {
     "base_uri": "https://localhost:8080/",
     "height": 225
    },
    "colab_type": "code",
    "executionInfo": {
     "elapsed": 1133,
     "status": "ok",
     "timestamp": 1598746198836,
     "user": {
      "displayName": "Stemplicity",
      "photoUrl": "https://lh3.googleusercontent.com/a-/AOh14Gj2vCFt-bD5mPBhUWX0QA6xiBgoXQXtwUm2jgjaCg=s64",
      "userId": "10668071569687886186"
     },
     "user_tz": 240
    },
    "id": "mOU9h77xrQP2",
    "outputId": "c55a814e-c0ca-4e6d-93b3-364fa6677e07"
   },
   "outputs": [
    {
     "data": {
      "text/plain": [
       "Date\n",
       "2012-01-13   -0.003749\n",
       "2012-01-17    0.011648\n",
       "2012-01-18    0.010384\n",
       "2012-01-19   -0.003169\n",
       "2012-01-20   -0.017417\n",
       "                ...   \n",
       "2020-08-05    0.003625\n",
       "2020-08-06    0.034889\n",
       "2020-08-07   -0.024495\n",
       "2020-08-10    0.014535\n",
       "2020-08-11   -0.029740\n",
       "Name: AAPL, Length: 2158, dtype: float64"
      ]
     },
     "execution_count": 8,
     "metadata": {},
     "output_type": "execute_result"
    }
   ],
   "source": [
    "daily_returns[stock]"
   ]
  },
  {
   "cell_type": "markdown",
   "metadata": {},
   "source": [
    "S&P500 (Market)의 일일 수익률"
   ]
  },
  {
   "cell_type": "code",
   "execution_count": 9,
   "metadata": {
    "colab": {
     "base_uri": "https://localhost:8080/",
     "height": 225
    },
    "colab_type": "code",
    "executionInfo": {
     "elapsed": 651,
     "status": "ok",
     "timestamp": 1598746206674,
     "user": {
      "displayName": "Stemplicity",
      "photoUrl": "https://lh3.googleusercontent.com/a-/AOh14Gj2vCFt-bD5mPBhUWX0QA6xiBgoXQXtwUm2jgjaCg=s64",
      "userId": "10668071569687886186"
     },
     "user_tz": 240
    },
    "id": "rUL6HpbQq20e",
    "outputId": "dc7ac97b-e923-40ac-9af3-52332bc9222b"
   },
   "outputs": [
    {
     "data": {
      "text/plain": [
       "Date\n",
       "2012-01-13   -0.004948\n",
       "2012-01-17    0.003553\n",
       "2012-01-18    0.011108\n",
       "2012-01-19    0.004939\n",
       "2012-01-20    0.000669\n",
       "                ...   \n",
       "2020-08-05    0.006430\n",
       "2020-08-06    0.006428\n",
       "2020-08-07    0.000633\n",
       "2020-08-10    0.002742\n",
       "2020-08-11   -0.007969\n",
       "Name: sp500, Length: 2158, dtype: float64"
      ]
     },
     "execution_count": 9,
     "metadata": {},
     "output_type": "execute_result"
    }
   ],
   "source": [
    "daily_returns['sp500']"
   ]
  },
  {
   "cell_type": "markdown",
   "metadata": {},
   "source": [
    "선택한 주식과 S&P500(시장) 사이의 산점도를 플로팅합니다."
   ]
  },
  {
   "cell_type": "code",
   "execution_count": 10,
   "metadata": {
    "colab": {
     "base_uri": "https://localhost:8080/",
     "height": 297
    },
    "colab_type": "code",
    "executionInfo": {
     "elapsed": 1192,
     "status": "ok",
     "timestamp": 1598746465039,
     "user": {
      "displayName": "Stemplicity",
      "photoUrl": "https://lh3.googleusercontent.com/a-/AOh14Gj2vCFt-bD5mPBhUWX0QA6xiBgoXQXtwUm2jgjaCg=s64",
      "userId": "10668071569687886186"
     },
     "user_tz": 240
    },
    "id": "h82k_tNZqhaj",
    "outputId": "f4ebcc70-aafb-477e-ca7b-8a4b2d6ed8eb"
   },
   "outputs": [
    {
     "data": {
      "text/plain": [
       "<Axes: xlabel='sp500', ylabel='AAPL'>"
      ]
     },
     "execution_count": 10,
     "metadata": {},
     "output_type": "execute_result"
    },
    {
     "data": {
      "image/png": "[encoded data removed]",
      "text/plain": [
       "<Figure size 640x480 with 1 Axes>"
      ]
     },
     "metadata": {},
     "output_type": "display_data"
    }
   ],
   "source": [
    "# daily_returns 데이터프레임에서 산점도(scatter plot)를 생성합니다.\n",
    "# x='sp500'은 x축에 S&P 500 지수의 일일 수익률을 설정\n",
    "# y=stock은 y축에 특정 주식의 일일 수익률을 설정\n",
    "daily_returns.plot(kind='scatter', x='sp500', y=stock)"
   ]
  },
  {
   "cell_type": "markdown",
   "metadata": {},
   "source": [
    "### Linear Regression을 이용한 BETA 계산"
   ]
  },
  {
   "cell_type": "code",
   "execution_count": 11,
   "metadata": {},
   "outputs": [
    {
     "data": {
      "text/plain": [
       "((2158, 1), (2158,))"
      ]
     },
     "execution_count": 11,
     "metadata": {},
     "output_type": "execute_result"
    }
   ],
   "source": [
    "# daily_returns 데이터프레임에서 S&P 500 지수의 수익률을 가져와 X 변수에 저장\n",
    "# 2차원 배열로 변환하기 위해 reshape(-1, 1)을 사용\n",
    "X = daily_returns['sp500'].values.reshape(-1, 1)\n",
    "\n",
    "# daily_returns 데이터프레임에서 Apple(AAPL) 주식의 수익률을 y 변수에 저장\n",
    "y = daily_returns['AAPL']\n",
    "\n",
    "X.shape, y.shape"
   ]
  },
  {
   "cell_type": "code",
   "execution_count": 12,
   "metadata": {},
   "outputs": [
    {
     "data": {
      "text/plain": [
       "(1.1128913172512678, 0.000528366115486677)"
      ]
     },
     "execution_count": 12,
     "metadata": {},
     "output_type": "execute_result"
    }
   ],
   "source": [
    "import warnings\n",
    "warnings.filterwarnings('ignore')\n",
    "\n",
    "from sklearn.linear_model import LinearRegression\n",
    "\n",
    "lr = LinearRegression()\n",
    "lr.fit(X, y)\n",
    "\n",
    "lr.coef_[0], lr.intercept_"
   ]
  },
  {
   "cell_type": "markdown",
   "metadata": {},
   "source": [
    "- 알파는 시장을 이길 수 있는 전략의 능력을 나타냅니다(S&P500).  즉, 특정 주식이 시장과 무관한 요인으로 인해 주식이 얻는 초과 수익을 의미합니다.\n",
    "\n",
    "- 예를 들어 양수 0.00175 알파는 특정 주식 또는 포트폴리오의 수익률이 벤치마크 S&P500 지수를 0.17% 초과했음을 의미합니다."
   ]
  },
  {
   "cell_type": "code",
   "execution_count": 13,
   "metadata": {},
   "outputs": [
    {
     "name": "stdout",
     "output_type": "stream",
     "text": [
      "AAPL 주식의 BETA = 1.113, alpha = 0.001\n"
     ]
    }
   ],
   "source": [
    "beta = lr.coef_[0]\n",
    "alpha = lr.intercept_\n",
    "print(f\"{stock} 주식의 BETA = {beta:.3f}, alpha = {alpha:.3f}\")"
   ]
  },
  {
   "cell_type": "markdown",
   "metadata": {},
   "source": [
    "### 증권시장선 Line plot\n",
    "\n",
    "<img src=\"https://i.imgur.com/tOn1h2J.png\" width=450 />"
   ]
  },
  {
   "cell_type": "code",
   "execution_count": 14,
   "metadata": {},
   "outputs": [
    {
     "data": {
      "text/plain": [
       "[<matplotlib.lines.Line2D at 0x1e7ff30da00>]"
      ]
     },
     "execution_count": 14,
     "metadata": {},
     "output_type": "execute_result"
    },
    {
     "data": {
      "image/png": "[encoded data removed]",
      "text/plain": [
       "<Figure size 640x480 with 1 Axes>"
      ]
     },
     "metadata": {},
     "output_type": "display_data"
    }
   ],
   "source": [
    "# daily_returns 데이터프레임에서 S&P 500 지수와 특정 주식의 일일 수익률을 산점도로 시각화합니다.\n",
    "# x축에 S&P 500 지수의 일일 수익률을 설정하고,\n",
    "# y축에 특정 주식의 일일 수익률을 설정합니다.\n",
    "daily_returns.plot(kind='scatter', x='sp500', y=stock)\n",
    "\n",
    "# 회귀선(선형 관계)을 추가하여 주식 수익률과 S&P 500 지수 간의 관계를 시각화합니다.\n",
    "# beta * daily_returns['sp500'] + alpha는 회귀 직선의 방정식입니다.\n",
    "plt.plot(daily_returns['sp500'], beta * daily_returns['sp500'] + alpha, 'r')"
   ]
  },
  {
   "cell_type": "markdown",
   "metadata": {
    "colab_type": "text",
    "id": "R7ojW2776nuY"
   },
   "source": [
    "## beta를 구한 개별 주식에 CAPM 공식 적용\n",
    "- 개별 주식의 기대 수익률 계산\n",
    "### $ r_i = r_f + \\beta * (r_m - r_f )$   "
   ]
  },
  {
   "cell_type": "code",
   "execution_count": 15,
   "metadata": {
    "colab": {
     "base_uri": "https://localhost:8080/",
     "height": 35
    },
    "colab_type": "code",
    "executionInfo": {
     "elapsed": 520,
     "status": "ok",
     "timestamp": 1598752981603,
     "user": {
      "displayName": "Stemplicity",
      "photoUrl": "https://lh3.googleusercontent.com/a-/AOh14Gj2vCFt-bD5mPBhUWX0QA6xiBgoXQXtwUm2jgjaCg=s64",
      "userId": "10668071569687886186"
     },
     "user_tz": 240
    },
    "id": "6MZZaoXP6vvG",
    "outputId": "bf13d64e-7d48-4464-ec8f-f47359f14268"
   },
   "outputs": [
    {
     "name": "stdout",
     "output_type": "stream",
     "text": [
      "AAPL 주식의 BETA = 1.1128913172512678\n"
     ]
    }
   ],
   "source": [
    "print(f\"{stock} 주식의 BETA = {beta}\")"
   ]
  },
  {
   "cell_type": "markdown",
   "metadata": {},
   "source": [
    "S&P500의 일일 평균 수익률"
   ]
  },
  {
   "cell_type": "code",
   "execution_count": 16,
   "metadata": {
    "colab": {
     "base_uri": "https://localhost:8080/",
     "height": 35
    },
    "colab_type": "code",
    "executionInfo": {
     "elapsed": 1076,
     "status": "ok",
     "timestamp": 1598752984079,
     "user": {
      "displayName": "Stemplicity",
      "photoUrl": "https://lh3.googleusercontent.com/a-/AOh14Gj2vCFt-bD5mPBhUWX0QA6xiBgoXQXtwUm2jgjaCg=s64",
      "userId": "10668071569687886186"
     },
     "user_tz": 240
    },
    "id": "sH1DdoOC1Xw9",
    "outputId": "1ac843c5-2e2a-4edd-f0ee-a0639f56b35b"
   },
   "outputs": [
    {
     "data": {
      "text/plain": [
       "0.0004933885924478228"
      ]
     },
     "execution_count": 16,
     "metadata": {},
     "output_type": "execute_result"
    }
   ],
   "source": [
    "daily_returns['sp500'].mean()"
   ]
  },
  {
   "cell_type": "markdown",
   "metadata": {},
   "source": [
    "S&P500의 연간 수익률"
   ]
  },
  {
   "cell_type": "code",
   "execution_count": 17,
   "metadata": {},
   "outputs": [
    {
     "data": {
      "text/plain": [
       "0.12433392529685133"
      ]
     },
     "execution_count": 17,
     "metadata": {},
     "output_type": "execute_result"
    }
   ],
   "source": [
    "rm = daily_returns['sp500'].mean() * 252\n",
    "rm"
   ]
  },
  {
   "cell_type": "markdown",
   "metadata": {},
   "source": [
    "개별 주식의 연간 수익률"
   ]
  },
  {
   "cell_type": "code",
   "execution_count": 18,
   "metadata": {},
   "outputs": [
    {
     "data": {
      "text/plain": [
       "0.1355478629713519"
      ]
     },
     "execution_count": 18,
     "metadata": {},
     "output_type": "execute_result"
    }
   ],
   "source": [
    "rf = 0.025  # 무위험 수익률\n",
    "\n",
    "R_i = rf + beta * (rm - rf)\n",
    "R_i"
   ]
  },
  {
   "cell_type": "code",
   "execution_count": 19,
   "metadata": {},
   "outputs": [
    {
     "name": "stdout",
     "output_type": "stream",
     "text": [
      "\n",
      "CAPM 공식에 따르면,\n",
      "단순히 마켓 인덱스에 투자할 때 연 12.43%의 수익이 기대되나, \n",
      "Apple 주식에 투자할 때는 연 13.55%의 수익이 기대된다. \n",
      "공격적 투자.\n",
      "\n"
     ]
    }
   ],
   "source": [
    "print(\n",
    "f\"\"\"\n",
    "CAPM 공식에 따르면,\n",
    "단순히 마켓 인덱스에 투자할 때 연 {rm * 100:.2f}%의 수익이 기대되나, \n",
    "{stock_name} 주식에 투자할 때는 연 {R_i * 100:.2f}%의 수익이 기대된다. \n",
    "공격적 투자.\n",
    "\"\"\")"
   ]
  },
  {
   "cell_type": "markdown",
   "metadata": {},
   "source": [
    "- AT&T의 기대 수익률 계산"
   ]
  },
  {
   "cell_type": "code",
   "execution_count": 20,
   "metadata": {},
   "outputs": [
    {
     "data": {
      "text/plain": [
       "0.09896701474644304"
      ]
     },
     "execution_count": 20,
     "metadata": {},
     "output_type": "execute_result"
    }
   ],
   "source": [
    "stock = 'T' \n",
    "\n",
    "X = daily_returns['sp500'].values.reshape(-1, 1)\n",
    "y = daily_returns[stock]\n",
    "\n",
    "lr = LinearRegression()\n",
    "lr.fit(X, y)\n",
    "\n",
    "beta = lr.coef_[0]\n",
    "\n",
    "ER_AT = rf + beta * (rm - rf)\n",
    "ER_AT"
   ]
  },
  {
   "cell_type": "code",
   "execution_count": 21,
   "metadata": {},
   "outputs": [
    {
     "name": "stdout",
     "output_type": "stream",
     "text": [
      "\n",
      "CAPM 공식에 따르면,\n",
      "단순히 마켓 인덱스에 투자할 때 연 12.43%의 수익이 기대되나, \n",
      "T 주식에 투자할 때는 연 9.90%의 수익이 기대된다. \n",
      "방어적 투자.\n",
      "\n"
     ]
    }
   ],
   "source": [
    "print(\n",
    "f\"\"\"\n",
    "CAPM 공식에 따르면,\n",
    "단순히 마켓 인덱스에 투자할 때 연 {rm * 100:.2f}%의 수익이 기대되나, \n",
    "{stock} 주식에 투자할 때는 연 {ER_AT * 100:.2f}%의 수익이 기대된다. \n",
    "방어적 투자.\n",
    "\"\"\")"
   ]
  },
  {
   "cell_type": "markdown",
   "metadata": {
    "colab_type": "text",
    "id": "l0dj0g3IUcau"
   },
   "source": [
    "## 모든 주식에 대한 베타 계산"
   ]
  },
  {
   "cell_type": "code",
   "execution_count": 22,
   "metadata": {
    "scrolled": true
   },
   "outputs": [
    {
     "data": {
      "image/png": "[encoded data removed]",
      "text/plain": [
       "<Figure size 640x480 with 1 Axes>"
      ]
     },
     "metadata": {},
     "output_type": "display_data"
    },
    {
     "data": {
      "image/png": "[encoded data removed]",
      "text/plain": [
       "<Figure size 640x480 with 1 Axes>"
      ]
     },
     "metadata": {},
     "output_type": "display_data"
    },
    {
     "data": {
      "image/png": "[encoded data removed]",
      "text/plain": [
       "<Figure size 640x480 with 1 Axes>"
      ]
     },
     "metadata": {},
     "output_type": "display_data"
    },
    {
     "data": {
      "image/png": "[encoded data removed]",
      "text/plain": [
       "<Figure size 640x480 with 1 Axes>"
      ]
     },
     "metadata": {},
     "output_type": "display_data"
    },
    {
     "data": {
      "image/png": "[encoded data removed]",
      "text/plain": [
       "<Figure size 640x480 with 1 Axes>"
      ]
     },
     "metadata": {},
     "output_type": "display_data"
    },
    {
     "data": {
      "image/png": "[encoded data removed]",
      "text/plain": [
       "<Figure size 640x480 with 1 Axes>"
      ]
     },
     "metadata": {},
     "output_type": "display_data"
    },
    {
     "data": {
      "image/png": "[encoded data removed]",
      "text/plain": [
       "<Figure size 640x480 with 1 Axes>"
      ]
     },
     "metadata": {},
     "output_type": "display_data"
    },
    {
     "data": {
      "image/png": "[encoded data removed]",
      "text/plain": [
       "<Figure size 640x480 with 1 Axes>"
      ]
     },
     "metadata": {},
     "output_type": "display_data"
    }
   ],
   "source": [
    "# 빈 딕셔너리를 생성하여 각 주식의 베타와 알파 값을 저장할 준비를 합니다.\n",
    "betas = {}\n",
    "alphas = {}\n",
    "\n",
    "# S&P 500 지수의 일일 수익률 데이터를 X 변수에 저장합니다.\n",
    "X = daily_returns['sp500'].values.reshape(-1, 1)\n",
    "\n",
    "for col in daily_returns.columns[:-1]:  # S&P 500을 제외한 다른 자산들에 대해 반복\n",
    "    \n",
    "    # 주식(col)의 일일 수익률 데이터를 y 변수에 저장\n",
    "    y = daily_returns[col]\n",
    "    \n",
    "    # 선형 회귀 모델을 생성\n",
    "    lr = LinearRegression()\n",
    "    \n",
    "    # X(S&P 500 지수)와 y(해당 주식 수익률)를 사용해 선형 회귀 모델을 학습\n",
    "    lr.fit(X, y)\n",
    "    \n",
    "    # 회귀 모델의 계수(coef_, 베타)와 절편(intercept_, 알파)을 저장\n",
    "    beta = lr.coef_[0]  # S&P 500 지수와 주식 간의 상관관계를 나타내는 베타 값\n",
    "    alpha = lr.intercept_  # 주식의 초과 수익률을 나타내는 알파 값\n",
    "    \n",
    "    # 베타와 알파 값을 각각 betas와 alphas 딕셔너리에 저장\n",
    "    betas[col] = beta\n",
    "    alphas[col] = alpha\n",
    "    \n",
    "    # x축은 S&P 500 지수의 수익률, y축은 해당 주식의 수익률을 표시\n",
    "    daily_returns.plot(kind='scatter', x='sp500', y=col)\n",
    "    \n",
    "    # 선형 회귀선(베타와 알파를 사용하여 계산된)을 빨간색으로 그래프에 추가\n",
    "    plt.plot(daily_returns['sp500'], \n",
    "             beta * daily_returns['sp500'] + alpha, 'r')\n",
    "    \n",
    "    # y축 눈금을 -0.2에서 0.2까지로 설정하여 그래프를 일관성 있게 시각화\n",
    "    plt.yticks([-0.2, 0.2])"
   ]
  },
  {
   "cell_type": "code",
   "execution_count": 23,
   "metadata": {},
   "outputs": [
    {
     "data": {
      "text/plain": [
       "{'AAPL': 1.1128913172512678,\n",
       " 'BA': 1.3828672486978595,\n",
       " 'T': 0.7446299391209865,\n",
       " 'MGM': 1.6535680574526659,\n",
       " 'AMZN': 0.9917324469003794,\n",
       " 'IBM': 0.9604160257868408,\n",
       " 'TSLA': 1.2686113556558827,\n",
       " 'GOOG': 1.0348810754991697}"
      ]
     },
     "execution_count": 23,
     "metadata": {},
     "output_type": "execute_result"
    }
   ],
   "source": [
    "betas"
   ]
  },
  {
   "cell_type": "code",
   "execution_count": 24,
   "metadata": {},
   "outputs": [
    {
     "data": {
      "text/plain": [
       "{'AAPL': 0.000528366115486677,\n",
       " 'BA': -2.2917621700546524e-05,\n",
       " 'T': -0.0002857669555418169,\n",
       " 'MGM': -0.00016893147351190903,\n",
       " 'AMZN': 0.0010226143412733805,\n",
       " 'IBM': -0.0005347976691264369,\n",
       " 'TSLA': 0.0017591658245946465,\n",
       " 'GOOG': 0.00033371078131782443}"
      ]
     },
     "execution_count": 24,
     "metadata": {},
     "output_type": "execute_result"
    }
   ],
   "source": [
    "alphas"
   ]
  },
  {
   "cell_type": "markdown",
   "metadata": {
    "colab_type": "text",
    "id": "-zduPVSdJAzj"
   },
   "source": [
    "## CAPM 공식을 적용하여 포트폴리오 수익률 계산"
   ]
  },
  {
   "cell_type": "markdown",
   "metadata": {},
   "source": [
    "모든 주식 목록을 얻습니다."
   ]
  },
  {
   "cell_type": "code",
   "execution_count": 25,
   "metadata": {
    "colab": {
     "base_uri": "https://localhost:8080/",
     "height": 35
    },
    "colab_type": "code",
    "executionInfo": {
     "elapsed": 1360,
     "status": "ok",
     "timestamp": 1598754914080,
     "user": {
      "displayName": "Stemplicity",
      "photoUrl": "https://lh3.googleusercontent.com/a-/AOh14Gj2vCFt-bD5mPBhUWX0QA6xiBgoXQXtwUm2jgjaCg=s64",
      "userId": "10668071569687886186"
     },
     "user_tz": 240
    },
    "id": "CLNoqavJUnnd",
    "outputId": "cb41aea5-9206-4bfe-feb4-b296e0b9fd9f"
   },
   "outputs": [
    {
     "data": {
      "text/plain": [
       "['AAPL', 'BA', 'T', 'MGM', 'AMZN', 'IBM', 'TSLA', 'GOOG']"
      ]
     },
     "execution_count": 25,
     "metadata": {},
     "output_type": "execute_result"
    }
   ],
   "source": [
    "stocks = list(betas.keys())\n",
    "stocks"
   ]
  },
  {
   "cell_type": "code",
   "execution_count": 26,
   "metadata": {},
   "outputs": [],
   "source": [
    "# 주식별로 예상 수익률(Expected Returns)을 저장할 딕셔너리 초기화\n",
    "ERs = {}\n",
    "\n",
    "# 무위험 수익률 설정\n",
    "rf = 0.025\n",
    "\n",
    "# S&P 500 지수의 연간 평균 수익률을 계산합니다.\n",
    "rm = daily_returns['sp500'].mean() * 252\n",
    "\n",
    "# 각 주식에 대해 예상 수익률(ER, Expected Return)을 계산합니다.\n",
    "for stock in stocks:\n",
    "    # 예상 수익률(ER) = rf + 베타 * (시장 수익률 - 무위험 수익률)\n",
    "    ERs[stock] = rf + betas[stock] * (rm - rf)"
   ]
  },
  {
   "cell_type": "code",
   "execution_count": 27,
   "metadata": {},
   "outputs": [
    {
     "data": {
      "text/plain": [
       "{'AAPL': 0.1355478629713519,\n",
       " 'BA': 0.1623656319776155,\n",
       " 'T': 0.09896701474644304,\n",
       " 'MGM': 0.1892554058922627,\n",
       " 'AMZN': 0.12351267679486588,\n",
       " 'IBM': 0.1204018937594089,\n",
       " 'TSLA': 0.15101614563345875,\n",
       " 'GOOG': 0.1277987994447597}"
      ]
     },
     "execution_count": 27,
     "metadata": {},
     "output_type": "execute_result"
    }
   ],
   "source": [
    "ERs"
   ]
  },
  {
   "cell_type": "code",
   "execution_count": 28,
   "metadata": {
    "colab": {},
    "colab_type": "code",
    "id": "joheLJL0LXi0"
   },
   "outputs": [
    {
     "name": "stdout",
     "output_type": "stream",
     "text": [
      "CAPM 을 이용한 주식의 연간 기대 수익률 :\n",
      "AAPL       : 13.55%\n",
      "BA         : 16.24%\n",
      "T          : 9.90%\n",
      "MGM        : 18.93%\n",
      "AMZN       : 12.35%\n",
      "IBM        : 12.04%\n",
      "TSLA       : 15.10%\n",
      "GOOG       : 12.78%\n"
     ]
    }
   ],
   "source": [
    "print(\"CAPM 을 이용한 주식의 연간 기대 수익률 :\")\n",
    "for stock in stocks:\n",
    "    print(f\"{stock:<10} : {ERs[stock] * 100:.2f}%\")"
   ]
  },
  {
   "cell_type": "markdown",
   "metadata": {},
   "source": [
    "### Portfolio 의 기대 수익 계산\n",
    "\n",
    "- 위 주식들로 구성된 포트폴리오에서 동일한 가중치를 가정합니다."
   ]
  },
  {
   "cell_type": "code",
   "execution_count": 29,
   "metadata": {
    "colab": {
     "base_uri": "https://localhost:8080/",
     "height": 35
    },
    "colab_type": "code",
    "executionInfo": {
     "elapsed": 547,
     "status": "ok",
     "timestamp": 1598755137289,
     "user": {
      "displayName": "Stemplicity",
      "photoUrl": "https://lh3.googleusercontent.com/a-/AOh14Gj2vCFt-bD5mPBhUWX0QA6xiBgoXQXtwUm2jgjaCg=s64",
      "userId": "10668071569687886186"
     },
     "user_tz": 240
    },
    "id": "4-wQS2MNM_lG",
    "outputId": "ff10fba6-9779-4404-d81f-af72b5a35976"
   },
   "outputs": [
    {
     "data": {
      "text/plain": [
       "array([0.125, 0.125, 0.125, 0.125, 0.125, 0.125, 0.125, 0.125])"
      ]
     },
     "execution_count": 29,
     "metadata": {},
     "output_type": "execute_result"
    }
   ],
   "source": [
    "# np.ones(len(stocks))는 주식 개수만큼 1로 이루어진 배열을 생성합니다.\n",
    "# 이 두 값의 곱을 통해 각 주식의 비중을 동일하게 1/주식 개수로 설정합니다.\n",
    "portfolio_weights = 1 / len(stocks) * np.ones(len(stocks))\n",
    "\n",
    "portfolio_weights"
   ]
  },
  {
   "cell_type": "markdown",
   "metadata": {},
   "source": [
    "- 위 포트폴리오 기대 수익률 계산"
   ]
  },
  {
   "cell_type": "code",
   "execution_count": 30,
   "metadata": {},
   "outputs": [
    {
     "data": {
      "text/plain": [
       "13.86081789025208"
      ]
     },
     "execution_count": 30,
     "metadata": {},
     "output_type": "execute_result"
    }
   ],
   "source": [
    "# portfolio_weights는 각 주식의 포트폴리오 내 비중을 나타냅니다.\n",
    "# 두 리스트를 요소별로 곱하여 가중합을 구한 뒤, * 100을 통해 백분율로 변환합니다.\n",
    "ER_portfolio = sum(list(ERs.values()) * portfolio_weights) * 100\n",
    "\n",
    "# 계산된 포트폴리오의 기대 수익률을 출력\n",
    "ER_portfolio"
   ]
  },
  {
   "cell_type": "markdown",
   "metadata": {},
   "source": [
    "- Apple 50%, MGM 50% 구성된 포트폴리오의 기대 수익률"
   ]
  },
  {
   "cell_type": "code",
   "execution_count": 31,
   "metadata": {
    "colab": {},
    "colab_type": "code",
    "id": "7UvSzOcHQ3Us"
   },
   "outputs": [
    {
     "data": {
      "text/plain": [
       "16.24016344318073"
      ]
     },
     "execution_count": 31,
     "metadata": {},
     "output_type": "execute_result"
    }
   ],
   "source": [
    "ER_portfolio = (0.5 * ERs['AAPL'] + 0.5 * ERs['MGM']) * 100\n",
    "ER_portfolio"
   ]
  },
  {
   "cell_type": "code",
   "execution_count": null,
   "metadata": {},
   "outputs": [],
   "source": []
  }
 ],
 "metadata": {
  "colab": {
   "authorship_tag": "ABX9TyMaRbA/bqiLJiI9SL7InFbR",
   "collapsed_sections": [],
   "name": "Finance 101 - Capital Asset Pricing Model (CAPM) - Skeleton Prior Filming.ipynb",
   "provenance": []
  },
  "kernelspec": {
   "display_name": "Python 3 (ipykernel)",
   "language": "python",
   "name": "python3"
  },
  "language_info": {
   "codemirror_mode": {
    "name": "ipython",
    "version": 3
   },
   "file_extension": ".py",
   "mimetype": "text/x-python",
   "name": "python",
   "nbconvert_exporter": "python",
   "pygments_lexer": "ipython3",
   "version": "3.9.16"
  }
 },
 "nbformat": 4,
 "nbformat_minor": 4
}
