{
 "cells": [
  {
   "cell_type": "markdown",
   "id": "f22bcce6",
   "metadata": {},
   "source": [
    "# Portfolio Optimization (포트폴리오 최적화)\n",
    "\n",
    "- 위험회피적 투자자가 시장 위험의 주어진 수준에 따라 기대수익을 최적화하거나 최대화하여 보상 수준을 선택  \n",
    "\n",
    "\n",
    "- 방법 1 – Monte Carlo Simulation 에 의한 최적 포트폴리오 탐색\n",
    "- 방법 2 – scipy 를 이용한 수학적 최적화 (Mathematical Optimization)"
   ]
  },
  {
   "cell_type": "code",
   "execution_count": null,
   "id": "ca2328ad",
   "metadata": {},
   "outputs": [],
   "source": []
  },
  {
   "cell_type": "code",
   "execution_count": null,
   "id": "dbfb6b0e",
   "metadata": {},
   "outputs": [],
   "source": []
  },
  {
   "cell_type": "markdown",
   "id": "2cabe5e5",
   "metadata": {},
   "source": [
    "- portfolio 생성"
   ]
  },
  {
   "cell_type": "code",
   "execution_count": null,
   "id": "2b798de4",
   "metadata": {},
   "outputs": [],
   "source": [
    "# 종목 코드와 종목명을 리스트로 저장합니다.\n",
    "# stock_list에는 ('종목 코드', '종목명')의 형태로 데이터가 저장되어 있습니다.\n",
    "# 주가 데이터를 저장할 빈 데이터프레임을 생성합니다.\n",
    "# stock_list에 있는 종목 코드와 종목명을 이용해 데이터를 반복 처리합니다.\n",
    "    # 종목의 종가 데이터를 FinanceDataReader를 통해 가져옵니다.\n",
    "    # 만약 데이터프레임(df)이 비어있다면, 해당 종목의 코드를 출력합니다.\n",
    "    # 종가 데이터를 portfolio 데이터프레임에 열(column)로 추가합니다.\n",
    "    # concat 함수는 새로운 열을 수평 방향(axis=1)으로 추가합니다.\n",
    "# code_names에는 stock_list에서 종목명(name)만 따로 추출해 저장합니다.\n",
    "# portfolio 데이터프레임의 열 이름을 종목명 리스트로 변경합니다."
   ]
  },
  {
   "cell_type": "markdown",
   "id": "a4434879",
   "metadata": {},
   "source": [
    "- 포트폴리오 각 자산의 일일 log 수익률 생성 (daily log return)"
   ]
  },
  {
   "cell_type": "code",
   "execution_count": null,
   "id": "c2084ff6",
   "metadata": {},
   "outputs": [],
   "source": []
  },
  {
   "cell_type": "markdown",
   "id": "fa6b930b",
   "metadata": {},
   "source": [
    "asset 간의 상관 계수"
   ]
  },
  {
   "cell_type": "code",
   "execution_count": null,
   "id": "290a5cae",
   "metadata": {},
   "outputs": [],
   "source": []
  },
  {
   "cell_type": "markdown",
   "id": "4f208db3",
   "metadata": {},
   "source": [
    "## Method 1 - Monte Carlo Simulation\n",
    "\n",
    "- 가능한 allocation 의 조합을 loop 로 반복하여 최적의 조합 (Highest Sharpe ratio) 을 찾는다.\n",
    "\n",
    "\n",
    "$$Portfolio \\ SR = \\frac{(포트폴리오 \\ 기대수익률 - 무위험수익률)}{포트폴리오\\  기대수익률과 \\ 무위험수익률\\  공분산의 \\ 표준편차}$$ \n",
    "\n",
    "$$SR=\\frac{R_p - R_f}{\\sigma_p}$$ \n",
    "\n"
   ]
  },
  {
   "cell_type": "markdown",
   "id": "dd3be011",
   "metadata": {},
   "source": [
    "위의 자산을 1/4 씩 동일 비중으로 포트폴리오 구성한 경우 portfolio 의 샤프 비율 계산"
   ]
  },
  {
   "cell_type": "code",
   "execution_count": null,
   "id": "fe01b983",
   "metadata": {},
   "outputs": [],
   "source": []
  },
  {
   "cell_type": "markdown",
   "id": "725ef9f5",
   "metadata": {},
   "source": [
    "**포트폴리오의 연간 covariance**\n",
    "\n",
    "공분산(covariance)은 두 주식의 수익률 변동이 어떻게 관련되어 있는지 측정하는 지표입니다. 이 경우, 공분산은 제곱 단위으로 측정되므로 연간화할 때 제곱근을 사용하지 않고 거래일 수(일반적으로 252일)를 곱합니다.  \n",
    "\n",
    "np.dot( ..., weights)는 두 배열의 내적을 계산합니다. 연간 공분산 행렬과 각 주식의 비중(weights)을 곱하여 포트폴리오 전체의 공분산을 계산합니다."
   ]
  },
  {
   "cell_type": "code",
   "execution_count": null,
   "id": "c20c82af",
   "metadata": {},
   "outputs": [],
   "source": [
    "# 로그 수익률(log_ret) 데이터에서 연간 공분산 행렬을 계산한 후, 포트폴리오 가중치(weights)와 곱하여 전체 포트폴리오의 공분산을 계산합니다.\n",
    "# log_ret.cov()는 로그 수익률의 공분산 행렬을 계산합니다.\n",
    "# * 252는 주식시장이 1년에 252일 거래되기 때문에 연간 공분산을 계산하기 위한 보정입니다.\n",
    "# np.dot()는 두 배열의 내적을 계산하는 함수로, 연간 공분산 행렬과 포트폴리오 가중치(weights)의 내적을 구합니다."
   ]
  },
  {
   "cell_type": "markdown",
   "id": "41ea4602",
   "metadata": {},
   "source": [
    "**포트폴리오의 연간 수익률 계산**\n",
    "\n",
    "각 주식의 평균 로그 수익률에 그 주식이 포트폴리오에서 차지하는 비중을 곱한 후, 이를 모두 더하여(np.sum) 주식 포트폴리오의 일별 예상 수익률을 얻습니다. 그 후, 이 일별 예상 수익률을 연간화하기 위해 252를 곱합니다. "
   ]
  },
  {
   "cell_type": "code",
   "execution_count": null,
   "id": "35c67a05",
   "metadata": {},
   "outputs": [],
   "source": [
    "# 로그 수익률(log_ret)의 평균 수익률과 가중치(weights)를 곱하여 포트폴리오의 기대 수익률을 계산합니다.\n",
    "# log_ret.mean()은 각 자산의 평균 로그 수익률을 계산합니다.\n",
    "# * weights는 각 자산에 할당된 가중치를 반영하여 가중합을 구합니다.\n",
    "# * 252는 주식시장이 1년에 252일 거래되기 때문에, 일간 수익률을 연간 수익률로 변환하기 위한 보정입니다."
   ]
  },
  {
   "cell_type": "markdown",
   "id": "d806eab1",
   "metadata": {},
   "source": [
    "**포트폴리오의 연간 변동성 계산**\n",
    "\n",
    "'np.dot(weights.T, cov)'는 가중치 벡터와 공분산 행렬의 내적을 계산하는 것으로, 이 값은 포트폴리오의 분산을 나타냅니다.\n",
    "\n",
    "이 분산 값에 'np.sqrt' 함수를 적용하여 포트폴리오의 표준편차(또는 변동성)을 계산합니다. 이 값은 포트폴리오의 위험을 나타내며, 값이 클수록 포트폴리오의 위험이 크다는 것을 의미합니다."
   ]
  },
  {
   "cell_type": "code",
   "execution_count": null,
   "id": "514d9519",
   "metadata": {},
   "outputs": [],
   "source": [
    "# 포트폴리오의 연간 변동성(위험)을 계산합니다.\n",
    "# weights.T는 포트폴리오 가중치 벡터의 전치 행렬(transpose)입니다.\n",
    "# np.dot(weights.T, cov)은 포트폴리오 가중치와 공분산 행렬(cov)의 내적을 계산하여 포트폴리오의 분산을 구합니다.\n",
    "# np.sqrt()는 이 값을 제곱근으로 변환하여 포트폴리오의 변동성(volatility, vol)을 계산합니다."
   ]
  },
  {
   "cell_type": "markdown",
   "id": "8498bca4",
   "metadata": {},
   "source": [
    "**포트폴리오의 샤프지수**"
   ]
  },
  {
   "cell_type": "code",
   "execution_count": null,
   "id": "5475e766",
   "metadata": {},
   "outputs": [],
   "source": [
    "# 포트폴리오의 수익률 대비 변동성 비율을 계산\n",
    "# ret은 포트폴리오의 연간 기대 수익률을 의미하고, vol은 포트폴리오의 연간 변동성(위험)을 의미\n",
    "# ret / vol은 변동성(위험) 한 단위당 기대 수익률을 나타내며, 이는 포트폴리오의 효율성을 평가하는 지표로 사용됩니다.\n",
    "# 수익률 대비 변동성 비율을 출력합니다."
   ]
  },
  {
   "cell_type": "markdown",
   "id": "978a9769",
   "metadata": {},
   "source": [
    "### 모든 내용을 집합하여 샤프비율 계산 함수 작성\n",
    "    반환값 - 연간 기대 수익률, 연간 covariance, sharp ratio 반환 "
   ]
  },
  {
   "cell_type": "code",
   "execution_count": null,
   "id": "66259e7c",
   "metadata": {},
   "outputs": [],
   "source": [
    "def get_ret_vol_sr(weights, log_ret):\n",
    "    # 가중치를 numpy array로 변환\n",
    "    # 각 주식의 로그 수익률에 대한 공분산을 계산하고, 가중치를 곱한 후 연간화\n",
    "    # 각 주식의 평균 로그 수익률에 가중치를 곱한 후 합산하여 포트폴리오의 일별 예상 수익률을 구하고, 이를 연간화\n",
    "    # 포트폴리오의 분산을 계산한 후, 이의 제곱근을 구하여 포트폴리오의 변동성(표준편차)를 계산\n",
    "    # 포트폴리오의 수익률을 변동성으로 나누어 샤프 지수를 계산\n",
    "    # 수익률, 변동성, 샤프 지수를 원소로 하는 numpy array를 반환"
   ]
  },
  {
   "cell_type": "code",
   "execution_count": null,
   "id": "e2ae9107",
   "metadata": {},
   "outputs": [],
   "source": []
  },
  {
   "cell_type": "markdown",
   "id": "e6a072b0",
   "metadata": {},
   "source": [
    "**MC Simulation - 각 자산의 비중을 무작위로 선택하여 특정 자산 비중에서의 연간 수익률, 변동성, 샤프비율 계산**\n",
    "\n",
    "주어진 주식 포트폴리오에 대해 각각 랜덤한 가중치를 할당하여 해당 가중치에서의 예상 수익률, 변동성, 샤프 지수를 계산하고, 이를 각각의 배열에 저장하는 과정을 반복적으로 수행합니다. 이렇게 하면 랜덤한 가중치 조합에 대한 포트폴리오 성능을 시뮬레이션하여 최적의 포트폴리오를 탐색하는 데 도움이 됩니다."
   ]
  },
  {
   "cell_type": "code",
   "execution_count": null,
   "id": "b20f0e24",
   "metadata": {},
   "outputs": [],
   "source": [
    "# 랜덤 시드 설정\n",
    "# 주식의 개수를 구합니다.\n",
    "# 반복 횟수 설정\n",
    "# 결과를 저장할 배열 초기화\n",
    "# 반복 수만큼 시뮬레이션\n",
    "    # 각 주식에 대한 가중치를 랜덤하게 생성\n",
    "    # 가중치의 합이 1이 되도록 스케일링\n",
    "    # 이번 반복에서의 가중치 저장\n",
    "    # 주어진 가중치에서의 수익률, 변동성, 샤프 지수 계산\n",
    "    # 결과 저장"
   ]
  },
  {
   "cell_type": "code",
   "execution_count": null,
   "id": "c7bf97ba",
   "metadata": {},
   "outputs": [],
   "source": []
  },
  {
   "cell_type": "code",
   "execution_count": null,
   "id": "758a81c1",
   "metadata": {},
   "outputs": [],
   "source": []
  },
  {
   "cell_type": "markdown",
   "id": "66c39cbc",
   "metadata": {},
   "source": [
    "- 최적 샤프 비율 (highest sharpe ratio)을 구하고, 그 때의 최적 자산 배분 비율을 구함"
   ]
  },
  {
   "cell_type": "code",
   "execution_count": null,
   "id": "8bdaf884",
   "metadata": {},
   "outputs": [],
   "source": [
    "# MC method 에 의해 simulation 한 최적 sharpe ratio"
   ]
  },
  {
   "cell_type": "markdown",
   "id": "1c358d3d",
   "metadata": {},
   "source": [
    "최적 Sharpe ratio 일 때의 daily return 과 volatility, 최적 portfolio 비율"
   ]
  },
  {
   "cell_type": "code",
   "execution_count": null,
   "id": "c3a141a0",
   "metadata": {},
   "outputs": [],
   "source": []
  },
  {
   "cell_type": "markdown",
   "id": "09b41e7f",
   "metadata": {},
   "source": [
    "- 포트폴리오 조합 및 최적 포트폴리오 시각화"
   ]
  },
  {
   "cell_type": "code",
   "execution_count": null,
   "id": "d1b47d44",
   "metadata": {},
   "outputs": [],
   "source": [
    "# 포트폴리오의 변동성(vol_arr)과 수익률(ret_arr)을 산점도로 시각화합니다.\n",
    "# c=sharpe_arr는 샤프 비율 배열을 색으로 사용하여 각 포트폴리오의 효율성을 시각적으로 나타냅니다.\n",
    "# marker='.'는 점으로 표시, cmap='plasma'는 색상 팔레트를 설정합니다.\n",
    "# 색상 바를 추가하여 샤프 비율(Sharpe Ratio)을 시각적으로 표시합니다.\n",
    "# 그리드를 추가하여 그래프를 보기 쉽게 만듭니다.\n",
    "# x축 레이블을 'Volatility'(변동성)으로 설정합니다.\n",
    "# y축 레이블을 'Return'(수익률)으로 설정합니다.\n",
    "# 최적의 포트폴리오를 표시합니다.\n",
    "# 최적 포트폴리오는 샤프 비율이 가장 높은 포트폴리오로, 그 좌표(vol_arr[max_idx], ret_arr[max_idx])를 빨간색 원('ro')으로 표시합니다.\n",
    "# markeredgecolor='k'는 마커의 테두리를 검은색으로 설정, markersize=10은 마커의 크기를 10으로 설정합니다."
   ]
  },
  {
   "cell_type": "markdown",
   "id": "9e4b752e",
   "metadata": {},
   "source": [
    "## Method 2 - Scipy 를 이용한 수학적 최적화 (Mathematical Optimization)\n",
    "\n",
    "수학적 최적화는 주어진 제약 조건 아래에서 목표 함수를 최대화 또는 최소화하는 입력 값(변수)을 찾는 과정입니다. 예를 들어, 포트폴리오 최적화에서 목표 함수는 샤프 지수(포트폴리오의 예상 수익률을 변동성으로 나눈 값)이며, 제약 조건은 포트폴리오의 총 가중치가 1이 되어야 한다는 것입니다.\n",
    "\n",
    "Scipy는 수치 계산을 위한 파이썬 라이브러리로, 여러 종류의 최적화 알고리즘을 제공합니다. `scipy.optimize` 모듈에서 이 알고리즘들을 사용할 수 있습니다. 이 알고리즘들은 목표 함수와 초기 점, 제약 조건 등을 입력으로 받아 최적의 해를 찾아냅니다.\n",
    "\n",
    "포트폴리오 최적화에서는 다음과 같은 과정으로 진행됩니다:\n",
    "\n",
    "1. 목표 함수 정의: 샤프 지수를 최대화하는 것이 목표입니다. 이를 위해 예상 수익률, 변동성 등을 계산하는 함수를 정의합니다.\n",
    "2. 초기 점 설정: 최적화 알고리즘은 초기 점에서 시작해 최적의 해를 찾아냅니다. 주식의 가중치를 동일하게 설정하는 것이 일반적입니다.\n",
    "3. 제약 조건 설정: 포트폴리오의 총 가중치가 1이 되도록 제약 조건을 설정합니다.\n",
    "4. 최적화: Scipy의 최적화 함수를 호출하여 최적의 해를 찾습니다. 이때 목표 함수, 초기 점, 제약 조건 등을 입력으로 제공합니다.\n",
    "\n",
    "이렇게 하면 최적의 포트폴리오, 즉 샤프 지수를 최대화하는 주식의 가중치를 찾을 수 있습니다. 이를 통해 포트폴리오의 수익률을 최대한 높이고 변동성을 최소화하는 투자 전략을 수립할 수 있습니다."
   ]
  },
  {
   "cell_type": "markdown",
   "id": "d977dd0d",
   "metadata": {},
   "source": [
    "**Sharpe ratio 의 maximize 를 minimize 함수로 하므로 sharpe ratio * (-1) 을 minimize 하는 trick 을 이용한다.**"
   ]
  },
  {
   "cell_type": "code",
   "execution_count": null,
   "id": "f38504b5",
   "metadata": {},
   "outputs": [],
   "source": [
    "# 목적 함수 정의 - 샤프비율 최대화\n",
    "# weights는 각 자산의 비중을 나타냅니다.\n",
    "# get_ret_vol_sr 함수는 수익률, 변동성, 샤프 비율을 반환하는 함수로,\n",
    "# [2]는 샤프 비율을 의미합니다. 샤프 비율을 최대화하기 위해 음수를 반환합니다.\n",
    "# 최적화 과정에서 최소화를 수행하므로 샤프 비율을 최대화하려면 음수로 변환하여 최소화합니다.\n",
    "def neg_sharpe(weights):\n",
    "# 제약 조건 함수 정의\n",
    "# 각 자산의 비중(weights)의 합이 1이어야 함을 보장합니다.\n",
    "def check_sum(weights):\n",
    "    # 자산 비중의 합이 1이면 0을 반환하여 제약 조건을 만족시킵니다.\n",
    "# 제약 조건 설정\n",
    "# 'eq'는 방정식 제약 조건을 의미하며, 자산 비중 합이 1이어야 함을 의미합니다.\n",
    "# 각 자산의 비중에 대한 경계 설정\n",
    "# 각 자산의 비중은 최소 0에서 최대 1 사이로 제한됩니다.\n",
    "# 각 자산의 초기 비중을 동일하게 설정\n",
    "# 자산의 초기 비중을 동일하게 설정하여, 각 자산에 대해 1/자산 수만큼의 비중을 할당합니다.\n",
    "# scipy의 minimize 함수를 사용하여 최적화 수행\n",
    "# neg_sharpe 함수는 최소화할 대상 함수이고,\n",
    "# x0는 초기 비중, method는 SLSQP(Sequential Least Squares Programming) 알고리즘을 사용,\n",
    "# bounds는 자산 비중의 경계, constraints는 제약 조건을 나타냅니다.\n",
    "# 최적화 결과를 출력합니다."
   ]
  },
  {
   "cell_type": "markdown",
   "id": "31d7e93a",
   "metadata": {},
   "source": [
    "- x: objective function을 minimize (Sharpe Ratio를 최대화)하는 x 값 (asset weights)\n",
    "- fun : 최적화 알고리즘이 찾은 최적 해에서의 목표 함수(neg_sharpe)의 값. 즉, 최적화된 포트폴리오에서의 샤프 비율의 음수"
   ]
  },
  {
   "cell_type": "markdown",
   "id": "5aab3117",
   "metadata": {},
   "source": [
    "- MC method로 구한 결과와 수학적 optimize 결과가 유사하면 successful result 이다."
   ]
  },
  {
   "cell_type": "code",
   "execution_count": null,
   "id": "43c28ddd",
   "metadata": {},
   "outputs": [],
   "source": []
  },
  {
   "cell_type": "markdown",
   "id": "1c68c437",
   "metadata": {},
   "source": [
    "- optimum asset weights 일 때의 return, volatility, sharpe ratio 구하기"
   ]
  },
  {
   "cell_type": "code",
   "execution_count": null,
   "id": "9d1efb82",
   "metadata": {},
   "outputs": [],
   "source": []
  },
  {
   "cell_type": "markdown",
   "id": "3235dcf1",
   "metadata": {},
   "source": [
    "## Efficient Frontier (효율적 투자선)\n",
    "\n",
    "- Efficient Frontier 는 정의된 수준의 위험 또는 주어진 기대수익 수준의 가장 낮은 위험에 대해 가장 높은 수익률을 제공하는 최적 포트폴리오 세트이다. \n",
    "\n",
    "- 효율적 전선 아래에 있는 포트폴리오는 동일한 위험 수준에 대해 효율적 전선 상의 포트폴리오 보다 낮은 수익을 제공하므로 최선의 포트폴리오가 아님. 효율적 전선 오른쪽의 포트폴리오는 동일한 수익에 대해 위험 수준이 높으므로 최선의 포트폴리오가 아님.\n",
    "\n",
    "<img src=\"https://i.imgur.com/f5l3zG0.png\" width=450 />"
   ]
  },
  {
   "cell_type": "code",
   "execution_count": null,
   "id": "7306a68f",
   "metadata": {},
   "outputs": [],
   "source": [
    "# 목적 함수 설정 - 특정 자산 비중(weights)에서 가장 낮은 변동성을 찾는 함수\n",
    "# weights는 각 자산의 비중을 나타냅니다.\n",
    "# get_ret_vol_sr 함수는 수익률, 변동성, 샤프 비율을 반환하는 함수입니다.\n",
    "# [1]은 변동성(volatility)을 의미하며, 이 변동성을 최소화하는 것이 이 함수의 목적입니다.\n",
    "def minimize_volatility(weights):"
   ]
  },
  {
   "cell_type": "code",
   "execution_count": null,
   "id": "9886044e",
   "metadata": {},
   "outputs": [],
   "source": [
    "# 최적화 함수\n",
    "# possible_return 값에 따라 변동성을 최소화하는 최적의 자산 비중을 찾습니다.\n",
    "def optimized_result(possible_return):\n",
    "    # 제약 조건 설정\n",
    "    # 첫 번째 제약 조건: 자산 비중의 합이 1이 되어야 함 (check_sum 함수 사용)\n",
    "    # 두 번째 제약 조건: 기대 수익률이 가능한 수익률(possible_return)과 같아야 함\n",
    "    # minimize 함수를 사용하여 변동성을 최소화하는 최적의 자산 비중을 찾습니다.\n",
    "    # minimize_volatility 함수는 변동성을 최소화하는 함수,\n",
    "    # x0는 초기 자산 비중, method='SLSQP'는 Sequential Least Squares Programming 알고리즘 사용,\n",
    "    # bounds는 각 자산 비중의 경계를 설정하며, constraints는 제약 조건을 의미합니다.\n",
    "    # 최적화 결과 반환"
   ]
  },
  {
   "cell_type": "markdown",
   "id": "b748517b",
   "metadata": {},
   "source": [
    "- possible return이 frontier_y일 때의 volatility를 구한다.  \n",
    "- optimized_result 의 fun 이 목적함수의 반환값 $\\rightarrow$ 즉, volatility 값  \n",
    "    - fun : 최적화 알고리즘이 찾은 최적 해에서의 목표 함수(minimize_volatility)의 값 \n",
    "    - x : 자산 비중"
   ]
  },
  {
   "cell_type": "code",
   "execution_count": null,
   "id": "284e5506",
   "metadata": {},
   "outputs": [],
   "source": [
    "# return 의 시각화 범위 설정"
   ]
  },
  {
   "cell_type": "markdown",
   "id": "912888db",
   "metadata": {},
   "source": [
    "- 모든 return (frontier_y)에 대한 volatility 를 구함"
   ]
  },
  {
   "cell_type": "code",
   "execution_count": null,
   "id": "72ce6bc3",
   "metadata": {},
   "outputs": [],
   "source": [
    "# 효율적 투자선의 변동성 값을 저장할 리스트를 초기화합니다.\n",
    "# 주어진 기대 수익률 리스트 frontier_y에 대해 반복하며 변동성을 계산합니다.\n",
    "    # 각 기대 수익률(possible_return)에 대해 변동성을 최소화하는 최적의 자산 비중을 찾습니다.\n",
    "    # 최적화 결과에서 변동성 값을 리스트에 추가합니다.\n",
    "    # result.fun은 최적화된 변동성 값(목표 함수의 값)을 의미합니다.\n",
    "# 계산된 효율적 투자선의 변동성 값 중 처음 5개의 값을 출력합니다."
   ]
  },
  {
   "cell_type": "markdown",
   "id": "86b9b3e4",
   "metadata": {},
   "source": [
    "- 모든 possible return 과 volatility를 연결하는 plot 시각화."
   ]
  },
  {
   "cell_type": "code",
   "execution_count": null,
   "id": "33556236",
   "metadata": {},
   "outputs": [],
   "source": [
    "# 효율적 투자선(Efficient Frontier)을 시각화합니다.\n",
    "# frontier_volatility는 각 기대 수익률에 대응하는 변동성 값의 리스트입니다.\n",
    "# frontier_y는 기대 수익률을 나타냅니다.\n",
    "# 'g--'는 초록색 점선으로 그래프를 그리며, linewidth=3은 선의 굵기를 지정합니다.\n",
    "# label='Efficient Frontier'는 범례에 'Efficient Frontier'로 표시됩니다.\n",
    "# 최적 포트폴리오를 시각화합니다.\n",
    "# opt_rvs[1]은 최적 포트폴리오의 변동성(Volatility), opt_rvs[0]은 최적 포트폴리오의 수익률(Return)입니다.\n",
    "# 'ro'는 빨간색 원 마커로 최적 포트폴리오를 표시하며, markersize=10은 마커 크기를 지정합니다.\n",
    "# label='Optimum Portfolio'는 범례에 'Optimum Portfolio'로 표시됩니다.\n",
    "# x축 레이블을 'Volatility'(변동성)으로 설정합니다.\n",
    "# y축 레이블을 'Return'(수익률)으로 설정합니다.\n",
    "# 범례를 그래프에 추가합니다."
   ]
  },
  {
   "cell_type": "markdown",
   "id": "586b18a6",
   "metadata": {},
   "source": [
    "### Method 1, 2 를 함께 시각화하여 결과 비교"
   ]
  },
  {
   "cell_type": "code",
   "execution_count": null,
   "id": "c758ebd8",
   "metadata": {},
   "outputs": [],
   "source": [
    "# 몬테카를로(MC) 시뮬레이션을 사용하여 포트폴리오의 변동성과 수익률을 산점도로 시각화\n",
    "# vol_arr: 각 포트폴리오의 변동성 배열\n",
    "# ret_arr: 각 포트폴리오의 수익률 배열\n",
    "# c=sharpe_arr: 샤프 비율에 따라 색을 지정\n",
    "# 최적의 포트폴리오를 파란색 원으로 표시\n",
    "# vol_arr[max_idx], ret_arr[max_idx]: 최적 포트폴리오의 변동성과 수익률\n",
    "# 색상 막대 추가하여 샤프 비율에 따른 색상 범위를 표시\n",
    "# 수학적 방법으로 계산된 효율적 투자선(Efficient Frontier)을 녹색 점선으로 시각화\n",
    "# frontier_volatility: 효율적 투자선의 변동성\n",
    "# frontier_y: 효율적 투자선의 기대 수익률\n",
    "# 수학적 방법으로 계산된 최적 포트폴리오를 빨간색 원으로 표시\n",
    "# opt_rvs[1]: 최적 포트폴리오의 변동성\n",
    "# opt_rvs[0]: 최적 포트폴리오의 기대 수익률"
   ]
  },
  {
   "cell_type": "code",
   "execution_count": null,
   "id": "d2c518af",
   "metadata": {},
   "outputs": [],
   "source": []
  }
 ],
 "metadata": {
  "kernelspec": {
   "display_name": "Python 3 (ipykernel)",
   "language": "python",
   "name": "python3"
  },
  "language_info": {
   "codemirror_mode": {
    "name": "ipython",
    "version": 3
   },
   "file_extension": ".py",
   "mimetype": "text/x-python",
   "name": "python",
   "nbconvert_exporter": "python",
   "pygments_lexer": "ipython3",
   "version": "3.9.16"
  }
 },
 "nbformat": 4,
 "nbformat_minor": 5
}
