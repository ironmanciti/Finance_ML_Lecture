{
 "cells": [
  {
   "cell_type": "markdown",
   "id": "117b72f0",
   "metadata": {},
   "source": [
    "# KOSPI 예측\n",
    "\n",
    "증시 자금 동향에 따른 적정 kospi 예측\n",
    "\n",
    "## 증시 자금 동향\n",
    "\n",
    "https://finance.naver.com/sise/sise_deposit.nhn"
   ]
  },
  {
   "cell_type": "code",
   "execution_count": null,
   "id": "1214146c",
   "metadata": {},
   "outputs": [],
   "source": []
  },
  {
   "cell_type": "code",
   "execution_count": null,
   "id": "70e587f9",
   "metadata": {},
   "outputs": [],
   "source": [
    "# 고객예탁금 데이터 읽기\n",
    "# 날짜를 datetime 형식으로 변환\n",
    "# 문자열을 정수로 변환\n",
    "# 날짜 기준으로 정렬 및 인덱스 설정\n",
    "# 결과 확인"
   ]
  },
  {
   "cell_type": "code",
   "execution_count": null,
   "id": "a8cdb40d",
   "metadata": {},
   "outputs": [],
   "source": []
  },
  {
   "cell_type": "code",
   "execution_count": null,
   "id": "6d291d8e",
   "metadata": {},
   "outputs": [],
   "source": []
  },
  {
   "cell_type": "code",
   "execution_count": null,
   "id": "ecfdb2dc",
   "metadata": {},
   "outputs": [],
   "source": []
  },
  {
   "cell_type": "code",
   "execution_count": null,
   "id": "dfb7361c",
   "metadata": {},
   "outputs": [],
   "source": []
  },
  {
   "cell_type": "code",
   "execution_count": null,
   "id": "45fe1bd1",
   "metadata": {},
   "outputs": [],
   "source": []
  },
  {
   "cell_type": "code",
   "execution_count": null,
   "id": "729c2958",
   "metadata": {},
   "outputs": [],
   "source": []
  },
  {
   "cell_type": "markdown",
   "id": "2e8c392f",
   "metadata": {},
   "source": [
    "환율 반영 신용 잔고를 이용한 KOSPI 예측"
   ]
  },
  {
   "cell_type": "code",
   "execution_count": null,
   "id": "e665ec1d",
   "metadata": {},
   "outputs": [],
   "source": []
  },
  {
   "cell_type": "code",
   "execution_count": null,
   "id": "25c75d33",
   "metadata": {},
   "outputs": [],
   "source": [
    "# 고객예탁금 최대값과 최소값 계산\n",
    "# 최대값과 최소값이 발생한 날짜 찾기\n",
    "# 억원 단위로 변환\n",
    "# KOSPI 주가 데이터 가져오기\n",
    "# merged_df와 KOSPI 데이터프레임이 날짜를 기준으로 인덱스가 설정되어 있어야 합니다."
   ]
  },
  {
   "cell_type": "code",
   "execution_count": null,
   "id": "8a7f8a89",
   "metadata": {},
   "outputs": [],
   "source": [
    "# 첫 번째 그래프: 예측값과 실제값\n",
    "# True KOSPI: 굵은 파란색 선\n",
    "# Prediction: 굵은 빨간색 선\n",
    "# 기타 그래프 설정"
   ]
  },
  {
   "cell_type": "code",
   "execution_count": null,
   "id": "739972e2",
   "metadata": {},
   "outputs": [],
   "source": []
  },
  {
   "cell_type": "code",
   "execution_count": null,
   "id": "8fa2ffea",
   "metadata": {},
   "outputs": [],
   "source": []
  },
  {
   "cell_type": "code",
   "execution_count": null,
   "id": "02926af1",
   "metadata": {},
   "outputs": [],
   "source": []
  }
 ],
 "metadata": {
  "kernelspec": {
   "display_name": "Python 3 (ipykernel)",
   "language": "python",
   "name": "python3"
  },
  "language_info": {
   "codemirror_mode": {
    "name": "ipython",
    "version": 3
   },
   "file_extension": ".py",
   "mimetype": "text/x-python",
   "name": "python",
   "nbconvert_exporter": "python",
   "pygments_lexer": "ipython3",
   "version": "3.9.12"
  }
 },
 "nbformat": 4,
 "nbformat_minor": 5
}
